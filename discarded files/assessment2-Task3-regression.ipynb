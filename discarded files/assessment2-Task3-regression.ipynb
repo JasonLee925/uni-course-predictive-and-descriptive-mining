{
 "cells": [
  {
   "cell_type": "code",
   "execution_count": 1,
   "metadata": {},
   "outputs": [],
   "source": [
    "import pandas as pd\n",
    "import seaborn as sns\n",
    "import numpy as np\n",
    "import matplotlib.pyplot as plt\n",
    "import warnings\n",
    "warnings.filterwarnings(\"ignore\")"
   ]
  },
  {
   "cell_type": "code",
   "execution_count": 2,
   "metadata": {},
   "outputs": [
    {
     "name": "stdout",
     "output_type": "stream",
     "text": [
      "<class 'pandas.core.frame.DataFrame'>\n",
      "RangeIndex: 5789 entries, 0 to 5788\n",
      "Data columns (total 13 columns):\n",
      " #   Column            Non-Null Count  Dtype  \n",
      "---  ------            --------------  -----  \n",
      " 0   gender            5789 non-null   object \n",
      " 1   age               5789 non-null   object \n",
      " 2   height            5789 non-null   int64  \n",
      " 3   weight            5789 non-null   int64  \n",
      " 4   blood_type        5789 non-null   object \n",
      " 5   insurance         5789 non-null   object \n",
      " 6   income            5789 non-null   object \n",
      " 7   smoking           5789 non-null   object \n",
      " 8   alcohol           5789 non-null   float64\n",
      " 9   contacts_count    5789 non-null   float64\n",
      " 10  working           5789 non-null   object \n",
      " 11  worried           5789 non-null   float64\n",
      " 12  covid19_positive  5789 non-null   int64  \n",
      "dtypes: float64(3), int64(3), object(7)\n",
      "memory usage: 588.1+ KB\n",
      "None\n"
     ]
    }
   ],
   "source": [
    "df = pd.read_csv('D2.csv')\n",
    "print(df.info())\n",
    "# print(df.head(10))"
   ]
  },
  {
   "cell_type": "markdown",
   "metadata": {},
   "source": [
    "# Task - Regression 📈"
   ]
  },
  {
   "cell_type": "markdown",
   "metadata": {},
   "source": [
    "## Task 1\n",
    "What pre-processing was required on the dataset before regression modelling? What distribution split between training and test datasets was used?"
   ]
  },
  {
   "cell_type": "markdown",
   "metadata": {},
   "source": [
    "The answer are basically same as decision tree, but two more points should be mentioned:\n",
    "+ ensure that the input variables are all numerical -> apply one 🔥 encoding.\n",
    "+ Standardisation (will be explained in question 2)."
   ]
  },
  {
   "cell_type": "markdown",
   "metadata": {},
   "source": [
    "## Task 2\n",
    "Build a regression model using the default setting with all inputs. Build another regression model fine-tuned with GridSearchCV. Now, choose a better model to answer the followings:"
   ]
  },
  {
   "cell_type": "code",
   "execution_count": 3,
   "metadata": {},
   "outputs": [],
   "source": [
    "# Data preparation 🫃🏿\n",
    "\n",
    "# setting random state\n",
    "rs = 30678\n",
    "\n",
    "from sklearn.model_selection import train_test_split\n",
    "def data_prep(df):\n",
    "    df = pd.get_dummies(df) # one 🥵 \n",
    "    \n",
    "    y = df['covid19_positive']\n",
    "    \n",
    "    X = df.drop(['covid19_positive'], axis=1)    \n",
    "    \n",
    "    X_mat = X.to_numpy()\n",
    "\n",
    "    X_train, X_test, y_train, y_test = train_test_split(X_mat, y, test_size=0.3, stratify=y, random_state=rs)\n",
    "    return df,X,y,X_train, X_test, y_train, y_test\n",
    "\n",
    "df,X,y,X_train, X_test, y_train, y_test = data_prep(df)"
   ]
  },
  {
   "cell_type": "code",
   "execution_count": 4,
   "metadata": {},
   "outputs": [
    {
     "name": "stdout",
     "output_type": "stream",
     "text": [
      "Before scaling\n",
      "-------------\n",
      "Variable #0: min 110, max 228, mean 171.90 and std dev 10.93\n",
      "Variable #1: min 44, max 180, mean 84.70 and std dev 23.34\n",
      "Variable #2: min 0.0, max 14.0, mean 2.68 and std dev 3.13\n",
      "Variable #3: min 0.0, max 21.0, mean 7.87 and std dev 6.70\n",
      "Variable #4: min 1.0, max 5.0, mean 3.64 and std dev 0.72\n",
      "After scaling\n",
      "-------------\n",
      "Variable #0: min -5.66385424611233, max 5.133102192047165, mean -0.00 and std dev 1.00\n",
      "Variable #1: min -1.7438704260112774, max 4.083751483723398, mean 0.00 and std dev 1.00\n",
      "Variable #2: min -0.8575106988353736, max 3.619697485567119, mean 0.00 and std dev 1.00\n",
      "Variable #3: min -1.173975606905906, max 1.9592280546954912, mean -0.00 and std dev 1.00\n",
      "Variable #4: min -3.676761824558861, max 1.8890321095449987, mean 0.00 and std dev 1.00\n"
     ]
    }
   ],
   "source": [
    "# Standardisation 🤗\n",
    "\n",
    "from sklearn.preprocessing import StandardScaler\n",
    "\n",
    "scaler = StandardScaler()\n",
    "\n",
    "print(\"Before scaling\\n-------------\")\n",
    "for i in range(5):\n",
    "    col = X_train[:,i]\n",
    "    print(\"Variable #{}: min {}, max {}, mean {:.2f} and std dev {:.2f}\".\n",
    "          format(i, min(col), max(col), np.mean(col), np.std(col)))\n",
    "\n",
    "X_train = scaler.fit_transform(X_train, y_train)\n",
    "\n",
    "print(\"After scaling\\n-------------\")\n",
    "for i in range(5):\n",
    "    col = X_train[:,i]\n",
    "    print(\"Variable #{}: min {}, max {}, mean {:.2f} and std dev {:.2f}\".\n",
    "          format(i, min(col), max(col), np.mean(col), np.std(col)))\n",
    "\n",
    "X_test = scaler.transform(X_test)"
   ]
  },
  {
   "cell_type": "code",
   "execution_count": 5,
   "metadata": {},
   "outputs": [
    {
     "name": "stdout",
     "output_type": "stream",
     "text": [
      "default_model train accuracy: 0.6991609081934848\n",
      "default_model test accuracy: 0.6827864133563616\n"
     ]
    }
   ],
   "source": [
    "# Train/build the default model 🏋🏿‍♂️\n",
    "\n",
    "from sklearn.linear_model import LogisticRegression\n",
    "from sklearn.metrics import classification_report, accuracy_score\n",
    "\n",
    "default_model = LogisticRegression(random_state=rs)\n",
    "# fit it to training data\n",
    "default_model.fit(X_train, y_train)\n",
    "\n",
    "# training and test accuracy\n",
    "print(\"default_model train accuracy:\", default_model.score(X_train, y_train))\n",
    "print(\"default_model test accuracy:\", default_model.score(X_test, y_test))\n",
    "\n",
    "# classification report on test data\n",
    "y_pred = default_model.predict(X_test)\n",
    "# print(classification_report(y_test, y_pred))"
   ]
  },
  {
   "cell_type": "code",
   "execution_count": 6,
   "metadata": {},
   "outputs": [
    {
     "name": "stdout",
     "output_type": "stream",
     "text": [
      "income_high : -0.3691590774201163\n",
      "weight : 0.3342089754085905\n",
      "income_med : 0.3336072846977869\n",
      "working_travel critical : 0.23521670785064988\n",
      "age_100_110 : 0.2179262618985691\n"
     ]
    }
   ],
   "source": [
    "# top 🖐🏿 feature important variables\n",
    "\n",
    "cv_coef = default_model.coef_[0]\n",
    "cv_feature_names = X.columns\n",
    "\n",
    "# sort them out in descending order\n",
    "cv_indices = np.argsort(np.absolute(cv_coef))\n",
    "cv_indices = np.flip(cv_indices, axis=0)\n",
    "\n",
    "for i in cv_indices[:5]: # limit to 5 features,\n",
    "    print(cv_feature_names[i], ':', cv_coef[i])"
   ]
  },
  {
   "cell_type": "code",
   "execution_count": 7,
   "metadata": {},
   "outputs": [
    {
     "name": "stdout",
     "output_type": "stream",
     "text": [
      "{'C': 1}\n"
     ]
    }
   ],
   "source": [
    "# Train/build the model (cv_model) using GridSearchCV 🏋🏿‍♂️🏋🏿🏋🏿‍♂️🏋🏿🏋🏿‍♂️🏋🏿🏋🏿‍♂️🏋🏿🏋🏿‍♂️🏋🏿🏋🏿‍♂️🏋🏿🏋🏿‍♂️🏋🏿\n",
    "\n",
    "from sklearn.model_selection import GridSearchCV\n",
    "# grid search CV\n",
    "params = {'C': [pow(10, x) for x in range(-6, 4)]}\n",
    "\n",
    "cv_model = GridSearchCV(param_grid=params, estimator=LogisticRegression(random_state=rs),return_train_score=True, cv=10, n_jobs=-1)\n",
    "cv_model.fit(X_train, y_train) \n",
    "\n",
    "# print the best parameter\n",
    "print(cv_model.best_params_)"
   ]
  },
  {
   "cell_type": "code",
   "execution_count": 8,
   "metadata": {},
   "outputs": [
    {
     "name": "stdout",
     "output_type": "stream",
     "text": [
      "Total number of models:  10\n"
     ]
    },
    {
     "data": {
      "image/png": "[encoded data removed]",
      "text/plain": [
       "<Figure size 640x480 with 1 Axes>"
      ]
     },
     "metadata": {},
     "output_type": "display_data"
    }
   ],
   "source": [
    "import matplotlib.pyplot as plt\n",
    "result_set = cv_model.cv_results_\n",
    "train_result = result_set['mean_train_score']\n",
    "test_result = result_set['mean_test_score']\n",
    "print(\"Total number of models: \", len(test_result))\n",
    "# plot Hyperparameter C values vs training and test accuracy score\n",
    "plt.plot(range(0, len(train_result)), train_result, 'b', range(0,len(test_result)), test_result, 'r')\n",
    "plt.xlabel('Hyperparameter C\\nBlue = training acc. Red = test acc.')\n",
    "plt.xticks(range(0, len(train_result)),[pow(10, x) for x in range(-6, 4)])\n",
    "plt.ylabel('score')\n",
    "plt.show()"
   ]
  },
  {
   "cell_type": "code",
   "execution_count": 9,
   "metadata": {},
   "outputs": [
    {
     "name": "stdout",
     "output_type": "stream",
     "text": [
      "cv_model train accuracy: 0.6991609081934848\n",
      "cv_model test accuracy: 0.6827864133563616\n"
     ]
    }
   ],
   "source": [
    "# accuracy for cv_model\n",
    "print(\"cv_model train accuracy:\", cv_model.score(X_train, y_train))\n",
    "print(\"cv_model test accuracy:\", cv_model.score(X_test, y_test))"
   ]
  },
  {
   "cell_type": "markdown",
   "metadata": {},
   "source": [
    "### Task 2-a. Explain why you chose that model."
   ]
  },
  {
   "cell_type": "markdown",
   "metadata": {},
   "source": [
    "LOL, the models are identical! Why? because it happens to the best case generated by GridSearchCV has the same value of hyperparameter C (which is 1)."
   ]
  },
  {
   "cell_type": "markdown",
   "metadata": {},
   "source": [
    "### Task 2-b. Name the regression function used"
   ]
  },
  {
   "cell_type": "markdown",
   "metadata": {},
   "source": [
    "👉🏻 Logistic regression"
   ]
  },
  {
   "cell_type": "markdown",
   "metadata": {},
   "source": [
    "### Task 2-c. Did you apply standardisation of variables? Why would you standardise the variables for regression mining?"
   ]
  },
  {
   "cell_type": "markdown",
   "metadata": {},
   "source": [
    "Yes, we did. \n",
    "\n",
    "Cause regression model is sensitive to input variables on different scales. If the input variables are on different scales, it makes the algorithm difficult to compare between data points. Rounding down the scale for all input variables also help with faster training process as it can update coefficients much faster. "
   ]
  },
  {
   "cell_type": "markdown",
   "metadata": {},
   "source": [
    "### Task 2-d. Report the variables included in the regression model"
   ]
  },
  {
   "cell_type": "markdown",
   "metadata": {},
   "source": [
    "We choose all"
   ]
  },
  {
   "cell_type": "markdown",
   "metadata": {},
   "source": [
    "### Task 2-e. Report the top-5 important variables (in the order) in the model"
   ]
  },
  {
   "cell_type": "markdown",
   "metadata": {},
   "source": [
    "Refer to the code above"
   ]
  },
  {
   "cell_type": "markdown",
   "metadata": {},
   "source": [
    "### Task 2-f. What is the classification accuracy on training and test datasets?\n"
   ]
  },
  {
   "cell_type": "markdown",
   "metadata": {},
   "source": [
    "Refer to the code above"
   ]
  },
  {
   "cell_type": "markdown",
   "metadata": {},
   "source": [
    "### Task 2-g. Report any sign of overfitting in this model"
   ]
  },
  {
   "cell_type": "markdown",
   "metadata": {},
   "source": [
    "There is a slight overfitting for both models. "
   ]
  },
  {
   "cell_type": "markdown",
   "metadata": {},
   "source": [
    "## Task 3\n",
    "Build another regression model on the reduced variables set. Perform dimensionality reduction with Recursive feature elimination. Fine-tune the model with GridSearchCV to find the best parameter setting. Answer the followings:"
   ]
  },
  {
   "cell_type": "code",
   "execution_count": 10,
   "metadata": {},
   "outputs": [
    {
     "name": "stdout",
     "output_type": "stream",
     "text": [
      "Original feature set 45\n",
      "Number of features after elimination 26\n"
     ]
    }
   ],
   "source": [
    "# performing recursive feature elimination (RFE)\n",
    "\n",
    "from sklearn.feature_selection import RFECV\n",
    "rfe_model = RFECV(estimator = LogisticRegression(random_state=rs), cv=10)\n",
    "rfe_model.fit(X_train, y_train) # run the RFECV\n",
    "# comparing how many variables before and after\n",
    "print(\"Original feature set\", X_train.shape[1])\n",
    "print(\"Number of features after elimination\", rfe_model.n_features_)"
   ]
  },
  {
   "cell_type": "code",
   "execution_count": 11,
   "metadata": {},
   "outputs": [
    {
     "name": "stdout",
     "output_type": "stream",
     "text": [
      "income_med : 0.3613967080362295\n",
      "income_high : -0.34503427168863166\n",
      "weight : 0.3298753405538736\n"
     ]
    }
   ],
   "source": [
    "# top ➂ feature important variables\n",
    "\n",
    "coef_rfe = rfe_model.estimator_.coef_[0]\n",
    "\n",
    "# Get the names of the features (choose the only selected variables)\n",
    "feature_names_rfe = X.columns[rfe_model.support_]\n",
    "\n",
    "# sort it!!\n",
    "indices_rfe = np.argsort(np.absolute(coef_rfe))\n",
    "indices_rfe = np.flip(indices_rfe, axis=0)\n",
    "\n",
    "for i in indices_rfe[:3]: # limit to 3 features\n",
    "    print(feature_names_rfe[i], ':', coef_rfe[i])"
   ]
  },
  {
   "cell_type": "code",
   "execution_count": 12,
   "metadata": {},
   "outputs": [
    {
     "name": "stdout",
     "output_type": "stream",
     "text": [
      "Train accuracy: 0.6979269496544916\n",
      "Test accuracy: 0.6827864133563616\n",
      "{'C': 1}\n"
     ]
    }
   ],
   "source": [
    "# train/build rfe_cv_model\n",
    "\n",
    "# apply the only selected variables\n",
    "X_train_sel = rfe_model.transform(X_train)\n",
    "X_test_sel = rfe_model.transform(X_test)\n",
    "\n",
    "# grid search CV\n",
    "params = {'C': [pow(10, x) for x in range(-6, 4)]}\n",
    "\n",
    "# NOTE: same here, we set `max_iter` to 150, \n",
    "rfe_cv_model = GridSearchCV(param_grid=params, estimator=LogisticRegression(random_state=rs), cv=10, n_jobs=-1)\n",
    "rfe_cv_model.fit(X_train_sel, y_train)\n",
    "\n",
    "# test the best model\n",
    "print(\"Train accuracy:\", rfe_cv_model.score(X_train_sel, y_train))\n",
    "print(\"Test accuracy:\", rfe_cv_model.score(X_test_sel, y_test))\n",
    "\n",
    "y_pred = rfe_cv_model.predict(X_test_sel)\n",
    "# print(classification_report(y_test, y_pred))\n",
    "\n",
    "# print parameters of the best model\n",
    "print(rfe_cv_model.best_params_)"
   ]
  },
  {
   "cell_type": "markdown",
   "metadata": {},
   "source": [
    "### Task 3-a. Was dimensionality reduction useful to identify a good feature set for building an accurate model?"
   ]
  },
  {
   "cell_type": "markdown",
   "metadata": {},
   "source": [
    "🤔"
   ]
  },
  {
   "cell_type": "markdown",
   "metadata": {},
   "source": [
    "### Task 3-b. What is the classification accuracy on training and test datasets?"
   ]
  },
  {
   "cell_type": "markdown",
   "metadata": {},
   "source": [
    "### Task 3-c. Report any sign of overfitting."
   ]
  },
  {
   "cell_type": "markdown",
   "metadata": {},
   "source": [
    "### Task 3-d. Report the top-3 important variables (in the order) in the model"
   ]
  },
  {
   "cell_type": "markdown",
   "metadata": {},
   "source": [
    "## Task 4\n",
    "Produce the ROC curve for all different regression models. Using the best regression model, can you identify which individuals could potentially be \"COVID positive\"? Provide the general characteristics of those individuals."
   ]
  },
  {
   "cell_type": "markdown",
   "metadata": {},
   "source": [
    "There are 3 models created:\n",
    "1. **default_model**: the model using the default setting with all inputs\n",
    "1. **cv_model**: the model fine-tuned with GridSearchCV.\n",
    "1. **rfe_cv_model**: the model on the reduced variables set (Recursive feature elimination) and fine-tuned with GridSearchCV."
   ]
  },
  {
   "cell_type": "code",
   "execution_count": 13,
   "metadata": {},
   "outputs": [
    {
     "name": "stdout",
     "output_type": "stream",
     "text": [
      "ROC index on test for default_model: 0.725214668509961\n",
      "ROC index on test for cv_model: 0.725214668509961\n",
      "ROC index on test for rfe_cv_model: 0.7261324142565226\n"
     ]
    }
   ],
   "source": [
    "from sklearn.metrics import roc_auc_score\n",
    "\n",
    "y_default_proba = default_model.predict_proba(X_test)\n",
    "y_cv_proba = cv_model.predict_proba(X_test)\n",
    "y_rfe_cv_proba = rfe_cv_model.predict_proba(X_test_sel)\n",
    "roc_index_default = roc_auc_score(y_test, y_default_proba[:, 1])\n",
    "roc_index_cv = roc_auc_score(y_test, y_cv_proba[:, 1])\n",
    "roc_index_rfe_cv = roc_auc_score(y_test, y_rfe_cv_proba[:, 1])\n",
    "\n",
    "print(\"ROC index on test for default_model:\", roc_index_default)\n",
    "print(\"ROC index on test for cv_model:\", roc_index_cv)\n",
    "print(\"ROC index on test for rfe_cv_model:\", roc_index_rfe_cv)"
   ]
  },
  {
   "cell_type": "code",
   "execution_count": 14,
   "metadata": {},
   "outputs": [
    {
     "data": {
      "image/png": "[encoded data removed]",
      "text/plain": [
       "<Figure size 640x480 with 1 Axes>"
      ]
     },
     "metadata": {},
     "output_type": "display_data"
    }
   ],
   "source": [
    "from sklearn.metrics import roc_curve\n",
    "import matplotlib.pyplot as plt\n",
    "\n",
    "fpr_default, tpr_default, thresholds_default = roc_curve(y_test, y_default_proba[:,1])\n",
    "fpr_cv, tpr_cv, thresholds_cv = roc_curve(y_test, y_cv_proba[:,1])\n",
    "fpr_rfe_cv, tpr_rfe_cv, thresholds_rfe_cv = roc_curve(y_test, y_rfe_cv_proba[:,1])\n",
    "\n",
    "plt.plot(fpr_default, tpr_default, label='ROC Curve for default_model {:.3f}'.format(roc_index_default), color='red', lw=0.5)\n",
    "plt.plot(fpr_cv, tpr_cv, label='ROC Curve for cv_model {:.3f}'.format(roc_index_cv), color='blue', lw=0.5)\n",
    "plt.plot(fpr_rfe_cv, tpr_rfe_cv, label='ROC Curve for rfe_cv_model {:.3f}'.format(roc_index_rfe_cv), color='green', lw=0.5)\n",
    "\n",
    "plt.plot([0, 1], [0, 1], color='navy', lw=0.5, linestyle='--')\n",
    "plt.xlim([0.0, 1.0])\n",
    "plt.ylim([0.0, 1.0])\n",
    "plt.xlabel('False Positive Rate')\n",
    "plt.ylabel('True Positive Rate')\n",
    "plt.title('Receiver operating characteristic example')\n",
    "plt.legend(loc=\"lower right\")\n",
    "plt.show()"
   ]
  },
  {
   "cell_type": "markdown",
   "metadata": {},
   "source": [
    "The general characteristics of those individuals who get covid positive: \n",
    "\n",
    "We can discover this by looking at the top 10 important features of our best model. </br>\n",
    "Why? Beacuse remember that linear/logistic regressioin model assumes a linear correlation between input variables and target values (\"covid_positive\" in our case). The relationship is reflected in the weight (slope) values. "
   ]
  },
  {
   "cell_type": "code",
   "execution_count": 17,
   "metadata": {},
   "outputs": [
    {
     "name": "stdout",
     "output_type": "stream",
     "text": [
      "income_med : 0.3613967080362295\n",
      "income_high : -0.34503427168863166\n",
      "weight : 0.3298753405538736\n",
      "working_travel critical : 0.2604512269127853\n",
      "age_100_110 : 0.22688049252442857\n",
      "height : -0.1949907267986369\n",
      "age_70_80 : -0.19171436296338648\n",
      "age_60_70 : -0.13383568361293208\n",
      "working_home : -0.1321295525976445\n",
      "worried : 0.1167345184176584\n",
      "age_20_30 : 0.11096770572640921\n",
      "smoking_quit5 : -0.10729945201869477\n",
      "income_gov : 0.10544937880419927\n",
      "smoking_never : -0.10261329986518831\n",
      "working_travel non critical : -0.07452821024733453\n",
      "age_40_50 : -0.07129521941996704\n",
      "gender_other : 0.06951858617521091\n",
      "blood_type_abp : 0.06641176900367318\n",
      "gender_female : -0.06001550097332776\n",
      "insurance_yes : 0.05470589394224918\n",
      "insurance_no : -0.05470589394224879\n",
      "blood_type_unknown : 0.053564818370763385\n",
      "smoking_yesheavy : 0.04689905125375504\n",
      "smoking_quit10 : 0.04338867752054143\n",
      "blood_type_an : -0.04309025769700249\n",
      "alcohol : 0.034340455483120945\n"
     ]
    }
   ],
   "source": [
    "for i in indices_rfe[:]:\n",
    "    print(feature_names_rfe[i], ':', coef_rfe[i])"
   ]
  },
  {
   "cell_type": "markdown",
   "metadata": {},
   "source": [
    "The result shows the correlation between input and output variable. \n",
    "\n",
    "\n",
    "How to interpret it?</br> Examples:\n",
    "- `income_high` has a negative coefficient, meaning that high income individuals are less likely to test positive for covid-19.\n",
    "- `working_travel critical` has a positive coefficient, meaning those who travel a lot for work would very likely to test positive for covid-19.\n",
    "- ...\n"
   ]
  },
  {
   "cell_type": "markdown",
   "metadata": {},
   "source": []
  }
 ],
 "metadata": {
  "kernelspec": {
   "display_name": "Python 3",
   "language": "python",
   "name": "python3"
  },
  "language_info": {
   "codemirror_mode": {
    "name": "ipython",
    "version": 3
   },
   "file_extension": ".py",
   "mimetype": "text/x-python",
   "name": "python",
   "nbconvert_exporter": "python",
   "pygments_lexer": "ipython3",
   "version": "3.11.5"
  }
 },
 "nbformat": 4,
 "nbformat_minor": 2
}
