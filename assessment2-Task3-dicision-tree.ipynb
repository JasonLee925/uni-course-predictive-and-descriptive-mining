{
 "cells": [
  {
   "cell_type": "code",
   "execution_count": 2,
   "metadata": {},
   "outputs": [],
   "source": [
    "import pandas as pd\n",
    "import seaborn as sns\n",
    "import matplotlib.pyplot as plt\n",
    "import warnings\n",
    "warnings.filterwarnings(\"ignore\")"
   ]
  },
  {
   "cell_type": "code",
   "execution_count": 3,
   "metadata": {},
   "outputs": [
    {
     "name": "stdout",
     "output_type": "stream",
     "text": [
      "<class 'pandas.core.frame.DataFrame'>\n",
      "RangeIndex: 5789 entries, 0 to 5788\n",
      "Data columns (total 13 columns):\n",
      " #   Column            Non-Null Count  Dtype  \n",
      "---  ------            --------------  -----  \n",
      " 0   gender            5789 non-null   object \n",
      " 1   age               5789 non-null   object \n",
      " 2   height            5789 non-null   int64  \n",
      " 3   weight            5789 non-null   int64  \n",
      " 4   blood_type        5789 non-null   object \n",
      " 5   insurance         5789 non-null   object \n",
      " 6   income            5789 non-null   object \n",
      " 7   smoking           5789 non-null   object \n",
      " 8   alcohol           5789 non-null   float64\n",
      " 9   contacts_count    5789 non-null   float64\n",
      " 10  working           5789 non-null   object \n",
      " 11  worried           5789 non-null   float64\n",
      " 12  covid19_positive  5789 non-null   int64  \n",
      "dtypes: float64(3), int64(3), object(7)\n",
      "memory usage: 588.1+ KB\n",
      "None\n"
     ]
    }
   ],
   "source": [
    "df = pd.read_csv('D2.csv')\n",
    "print(df.info())\n",
    "# print(df.head(10))"
   ]
  },
  {
   "cell_type": "markdown",
   "metadata": {},
   "source": [
    "# Tesk - Decision 🌲"
   ]
  },
  {
   "cell_type": "markdown",
   "metadata": {},
   "source": [
    "## Task 1\n",
    "What pre-processing was required on the dataset (D2.csv) before decision tree modelling? What distribution split between training and test datasets was used?"
   ]
  },
  {
   "cell_type": "markdown",
   "metadata": {},
   "source": [
    "1. Cleaning data (outliers, noisy data, and missing data)\n",
    "1. Data selection including unary data, redundant data (refer to the same information), or derived variable.\n",
    "    - drop target variable. \"covid19_positive\" in our case.\n",
    "1. Data partition: seperate training data, validation data, and testing data. We will apply k-fold* cross validation to partition our data in task 2 😉\n",
    "\n",
    "*k-fold does not require validation dataset.\n"
   ]
  },
  {
   "cell_type": "code",
   "execution_count": 4,
   "metadata": {},
   "outputs": [],
   "source": [
    "from sklearn.model_selection import train_test_split\n",
    "def data_prep(df):\n",
    "    y = df['covid19_positive']\n",
    "    \n",
    "    df.drop(['covid19_positive'], axis=1, inplace=True)    \n",
    "    X = pd.get_dummies(df) # one 🥵 encoding\n",
    "    \n",
    "    X_mat = X.to_numpy()\n",
    "\n",
    "    # setting random state\n",
    "    rs = 30678\n",
    "\n",
    "    X_train, X_test, y_train, y_test = train_test_split(X_mat, y, test_size=0.3, stratify=y, random_state=rs)\n",
    "    return df,X,y,X_train, X_test, y_train, y_test\n",
    "\n",
    "df,X,y,X_train, X_test, y_train, y_test = data_prep(df)"
   ]
  },
  {
   "cell_type": "markdown",
   "metadata": {},
   "source": [
    "## Task 2 Build a decision tree using the default setting. "
   ]
  },
  {
   "cell_type": "code",
   "execution_count": 5,
   "metadata": {},
   "outputs": [
    {
     "name": "stdout",
     "output_type": "stream",
     "text": [
      "{'ccp_alpha': 0.0, 'class_weight': None, 'criterion': 'gini', 'max_depth': None, 'max_features': None, 'max_leaf_nodes': None, 'min_impurity_decrease': 0.0, 'min_samples_leaf': 1, 'min_samples_split': 2, 'min_weight_fraction_leaf': 0.0, 'monotonic_cst': None, 'random_state': 30678, 'splitter': 'best'}\n"
     ]
    }
   ],
   "source": [
    "from sklearn.tree import DecisionTreeClassifier\n",
    "from sklearn.metrics import classification_report, accuracy_score\n",
    "\n",
    "rs = 30678\n",
    "# simple decision tree training\n",
    "model = DecisionTreeClassifier(random_state=rs)\n",
    "model.fit(X_train, y_train)\n",
    "\n",
    "# print model parameters\n",
    "print(model.get_params(deep = True))"
   ]
  },
  {
   "cell_type": "markdown",
   "metadata": {},
   "source": [
    "### Task 2-a. What is the classification accuracy of training and test datasets?"
   ]
  },
  {
   "cell_type": "code",
   "execution_count": 6,
   "metadata": {},
   "outputs": [
    {
     "name": "stdout",
     "output_type": "stream",
     "text": [
      "Train accuracy: 0.9997532082922014\n"
     ]
    }
   ],
   "source": [
    "print(\"Train accuracy:\", model.score(X_train, y_train))"
   ]
  },
  {
   "cell_type": "code",
   "execution_count": 7,
   "metadata": {},
   "outputs": [
    {
     "name": "stdout",
     "output_type": "stream",
     "text": [
      "test accuracy: 0.6378814047207829\n"
     ]
    }
   ],
   "source": [
    "print(\"test accuracy:\", model.score(X_test, y_test))"
   ]
  },
  {
   "cell_type": "markdown",
   "metadata": {},
   "source": [
    "Training accuracy: 99.98%\n",
    "</br>Testing accuracy: 63.78%\n",
    "\n",
    "overfitting lol 💥"
   ]
  },
  {
   "cell_type": "markdown",
   "metadata": {},
   "source": [
    "\n",
    "### Task 2-b. What is the size of the tree (number of nodes and rules)?"
   ]
  },
  {
   "cell_type": "code",
   "execution_count": 8,
   "metadata": {},
   "outputs": [
    {
     "data": {
      "text/plain": [
       "2013"
      ]
     },
     "execution_count": 8,
     "metadata": {},
     "output_type": "execute_result"
    }
   ],
   "source": [
    "# nodes\n",
    "model.tree_.node_count"
   ]
  },
  {
   "cell_type": "code",
   "execution_count": 9,
   "metadata": {},
   "outputs": [
    {
     "data": {
      "text/plain": [
       "1007"
      ]
     },
     "execution_count": 9,
     "metadata": {},
     "output_type": "execute_result"
    }
   ],
   "source": [
    "# rules\n",
    "model.tree_.n_leaves"
   ]
  },
  {
   "cell_type": "markdown",
   "metadata": {},
   "source": [
    "\n",
    "### Task 2-c. Which variable is used for the first split?"
   ]
  },
  {
   "cell_type": "code",
   "execution_count": 10,
   "metadata": {},
   "outputs": [
    {
     "name": "stdout",
     "output_type": "stream",
     "text": [
      "dot: graph is too large for cairo-renderer bitmaps. Scaling by 0.860659 to fit\n",
      "\n"
     ]
    },
    {
     "data": {
      "text/plain": [
       "True"
      ]
     },
     "execution_count": 10,
     "metadata": {},
     "output_type": "execute_result"
    }
   ],
   "source": [
    "import pydot\n",
    "from io import StringIO\n",
    "from sklearn.tree import export_graphviz\n",
    "\n",
    "# visualize\n",
    "dotfile = StringIO()\n",
    "export_graphviz(model, out_file=dotfile, feature_names=X.columns)\n",
    "graph = pydot.graph_from_dot_data(dotfile.getvalue())\n",
    "\n",
    "# Save the graph as PNG\n",
    "graph.write_png(\"dt_viz.png\")"
   ]
  },
  {
   "cell_type": "markdown",
   "metadata": {},
   "source": [
    "![tree](./dt_viz.png)"
   ]
  },
  {
   "cell_type": "code",
   "execution_count": 11,
   "metadata": {},
   "outputs": [
    {
     "data": {
      "text/plain": [
       "'income_high'"
      ]
     },
     "execution_count": 11,
     "metadata": {},
     "output_type": "execute_result"
    }
   ],
   "source": [
    "index_of_first_split = model.tree_.feature[0]\n",
    "X.columns[index_of_first_split]"
   ]
  },
  {
   "cell_type": "markdown",
   "metadata": {},
   "source": [
    "👉🏻 Answer: **income**, to be more specific is \"**income_high**\", which is a newly created variable by one 🥵 encoding"
   ]
  },
  {
   "cell_type": "markdown",
   "metadata": {},
   "source": [
    "\n",
    "### Task 2-d. What are the 5 important variables (in the order) in building the tree?"
   ]
  },
  {
   "cell_type": "code",
   "execution_count": 12,
   "metadata": {},
   "outputs": [
    {
     "name": "stdout",
     "output_type": "stream",
     "text": [
      "weight : 0.13700867538445535\n",
      "height : 0.1331902551677578\n",
      "contacts_count : 0.11039669670381139\n",
      "income_high : 0.0999957123864951\n",
      "alcohol : 0.06971959541167622\n",
      "worried : 0.06526931664486157\n",
      "age_30_40 : 0.018848958740875093\n",
      "blood_type_unknown : 0.017521180629568586\n",
      "smoking_never : 0.01750152238035142\n",
      "blood_type_ap : 0.0172814506302635\n",
      "working_stopped : 0.01632039939062308\n",
      "age_70_80 : 0.015946894609907537\n",
      "smoking_quit10 : 0.015924952663171798\n",
      "working_travel non critical : 0.015762799196433728\n",
      "gender_male : 0.014964839585900402\n",
      "insurance_yes : 0.014477899805585946\n",
      "age_10_20 : 0.014139517786837084\n",
      "age_60_70 : 0.013891091264524\n",
      "blood_type_bp : 0.013713345250628284\n",
      "blood_type_op : 0.013486559815343593\n"
     ]
    }
   ],
   "source": [
    "import numpy as np\n",
    "\n",
    "# grab feature importances from the model and feature name from the original X\n",
    "importances = model.feature_importances_\n",
    "feature_names = X.columns\n",
    "\n",
    "# sort them out in descending order\n",
    "indices = np.argsort(importances)\n",
    "indices = np.flip(indices, axis=0)\n",
    "\n",
    "# limit to 20 features, you can leave this out to print out everything\n",
    "indices = indices[:20]\n",
    "\n",
    "for i in indices:\n",
    "    print(feature_names[i], ':', importances[i])"
   ]
  },
  {
   "cell_type": "markdown",
   "metadata": {},
   "source": [
    "👉🏻Answer: </br>\n",
    "The first five most important variables are:\n",
    "- weight : 0.13700867538445535\n",
    "- height : 0.1331902551677578\n",
    "- contacts_count : 0.11039669670381139\n",
    "- income_high : 0.0999957123864951\n",
    "- alcohol : 0.06971959541167622\n",
    "\n",
    "\n",
    "They are the five most effective variebles when it comes to splitting."
   ]
  },
  {
   "cell_type": "markdown",
   "metadata": {},
   "source": [
    "\n",
    "### Task 2-e. What parameters have been used in building the tree? Detail them"
   ]
  },
  {
   "cell_type": "code",
   "execution_count": 13,
   "metadata": {},
   "outputs": [
    {
     "name": "stdout",
     "output_type": "stream",
     "text": [
      "Parameters used in building the tree:\n",
      "ccp_alpha: 0.0\n",
      "class_weight: None\n",
      "criterion: gini\n",
      "max_depth: None\n",
      "max_features: None\n",
      "max_leaf_nodes: None\n",
      "min_impurity_decrease: 0.0\n",
      "min_samples_leaf: 1\n",
      "min_samples_split: 2\n",
      "min_weight_fraction_leaf: 0.0\n",
      "monotonic_cst: None\n",
      "random_state: 30678\n",
      "splitter: best\n"
     ]
    }
   ],
   "source": [
    "params = model.get_params()\n",
    "\n",
    "print(\"Parameters used in building the tree:\")\n",
    "for param, value in params.items():\n",
    "    print(f\"{param}: {value}\")"
   ]
  },
  {
   "cell_type": "markdown",
   "metadata": {},
   "source": []
  },
  {
   "cell_type": "markdown",
   "metadata": {},
   "source": [
    "## Task 3 Build another decision tree fine-tuned with GridSearchCV. Answer the followings:"
   ]
  },
  {
   "cell_type": "code",
   "execution_count": 14,
   "metadata": {},
   "outputs": [
    {
     "name": "stdout",
     "output_type": "stream",
     "text": [
      "{'mean_fit_time': array([0.00883062, 0.00786948, 0.00726442, 0.00741556, 0.00906227,\n",
      "       0.009285  , 0.0106292 , 0.01765602, 0.01198146, 0.01060917,\n",
      "       0.0103066 , 0.01121106, 0.01226273, 0.01242132, 0.01200345,\n",
      "       0.01176832, 0.01416485, 0.01491468, 0.01361818, 0.01427157,\n",
      "       0.01608899, 0.02098448, 0.01435463, 0.01545882, 0.01616828,\n",
      "       0.01584439, 0.01533945, 0.01515975, 0.0176559 , 0.01690526,\n",
      "       0.01650367, 0.01606975, 0.01813068, 0.01874948, 0.01738284,\n",
      "       0.0173584 , 0.02142935, 0.01824362, 0.01773286, 0.01716518,\n",
      "       0.01964517, 0.0188508 , 0.02312829, 0.02882504, 0.028233  ,\n",
      "       0.02311673, 0.02062242, 0.01872861, 0.02208517, 0.02140651,\n",
      "       0.02049541, 0.02305806, 0.04167125, 0.02455795, 0.02495148,\n",
      "       0.02246044, 0.02421882, 0.02107587, 0.01973603, 0.01892335,\n",
      "       0.00756705, 0.00765901, 0.0081769 , 0.00795248, 0.01079745,\n",
      "       0.00904295, 0.00891602, 0.00968294, 0.0110158 , 0.0114393 ,\n",
      "       0.011079  , 0.01091831, 0.01259179, 0.01266892, 0.01243141,\n",
      "       0.01224899, 0.01422687, 0.01333869, 0.01303837, 0.012925  ,\n",
      "       0.0143178 , 0.01448834, 0.01491702, 0.01437671, 0.01591575,\n",
      "       0.0154146 , 0.01526737, 0.01498604, 0.0167968 , 0.01681681,\n",
      "       0.01647484, 0.01595447, 0.01791751, 0.0175036 , 0.01718428,\n",
      "       0.01678841, 0.01907227, 0.01839378, 0.0304775 , 0.01822159,\n",
      "       0.02014682, 0.01923831, 0.01863439, 0.01789842, 0.02103393,\n",
      "       0.02011726, 0.01925128, 0.01829157, 0.02182524, 0.02058983,\n",
      "       0.01930711, 0.02019217, 0.02251976, 0.02083328, 0.01985967,\n",
      "       0.01866243, 0.02304411, 0.02109509, 0.01988785, 0.01896505]), 'std_fit_time': array([4.89758863e-04, 6.07093576e-04, 5.13437385e-05, 1.42983120e-04,\n",
      "       3.72789623e-04, 6.24463228e-05, 2.12385164e-03, 9.68340016e-03,\n",
      "       1.49651391e-03, 2.21484892e-04, 1.28333127e-04, 1.38422547e-03,\n",
      "       4.02605605e-04, 9.80885947e-04, 1.88931687e-04, 9.52516359e-05,\n",
      "       1.83435436e-03, 2.03176520e-03, 1.45046095e-03, 1.85662977e-03,\n",
      "       1.23301018e-03, 1.71645679e-02, 2.70800080e-04, 1.15747465e-03,\n",
      "       4.56141701e-04, 3.30643692e-04, 2.34296257e-04, 2.29942383e-04,\n",
      "       1.02202193e-03, 1.94114187e-04, 2.14197491e-04, 1.49850172e-04,\n",
      "       3.67457196e-04, 1.54101384e-03, 1.71618736e-04, 3.46633938e-04,\n",
      "       2.37255682e-03, 1.42701917e-04, 2.44843437e-04, 1.05243427e-04,\n",
      "       1.29985704e-04, 1.85747966e-04, 7.13468325e-03, 6.49503306e-03,\n",
      "       4.34630673e-03, 3.32410832e-03, 1.95424143e-03, 3.23938372e-04,\n",
      "       4.69863507e-04, 1.61400134e-03, 1.45688053e-03, 3.33608918e-03,\n",
      "       1.86313069e-02, 1.65615350e-03, 6.08288636e-03, 5.93917046e-03,\n",
      "       6.36258540e-04, 2.27758143e-04, 2.23611931e-04, 2.51658553e-04,\n",
      "       4.08107305e-04, 3.15619660e-04, 9.70444156e-04, 4.92312457e-04,\n",
      "       2.03202707e-03, 1.41437146e-04, 2.64197441e-04, 4.86495910e-04,\n",
      "       5.96437986e-04, 1.73506580e-03, 7.10181653e-04, 4.49753721e-04,\n",
      "       7.08220612e-04, 5.00289584e-04, 5.48334623e-04, 4.17576131e-04,\n",
      "       1.37838100e-03, 2.15869855e-04, 4.24969175e-04, 1.72200588e-04,\n",
      "       6.29329132e-05, 2.59305284e-04, 5.16406621e-04, 2.63523939e-04,\n",
      "       2.77203864e-04, 1.19336549e-04, 1.64476267e-04, 6.36699929e-05,\n",
      "       1.01436470e-04, 3.56922134e-04, 2.49137222e-04, 6.40586355e-05,\n",
      "       1.09180000e-04, 1.43587229e-04, 8.23023870e-05, 1.21882602e-04,\n",
      "       9.47047365e-05, 1.03091292e-04, 2.32599177e-02, 1.06708782e-03,\n",
      "       1.38691694e-04, 1.30316466e-04, 1.77764741e-04, 1.62488452e-04,\n",
      "       2.27215284e-04, 5.40669255e-04, 3.83316073e-04, 1.90296570e-04,\n",
      "       2.65749974e-04, 2.82837177e-04, 2.60164435e-04, 2.40652894e-03,\n",
      "       3.13218774e-04, 2.50842780e-04, 5.38571372e-04, 2.07229047e-04,\n",
      "       3.51970720e-04, 3.56239226e-04, 3.51778838e-04, 3.29396866e-04]), 'mean_score_time': array([0.00122025, 0.00103431, 0.00115435, 0.00097778, 0.00103521,\n",
      "       0.00109835, 0.00122864, 0.00215621, 0.00120246, 0.00100198,\n",
      "       0.00103173, 0.00131056, 0.00114768, 0.00108099, 0.00105948,\n",
      "       0.00120583, 0.0011368 , 0.00130391, 0.00100851, 0.00115499,\n",
      "       0.00151656, 0.00137618, 0.00107269, 0.00143139, 0.00112138,\n",
      "       0.00115333, 0.00097294, 0.00101049, 0.00126598, 0.00116513,\n",
      "       0.00116084, 0.0009517 , 0.00105708, 0.00115554, 0.00106835,\n",
      "       0.00126028, 0.00139174, 0.00097387, 0.00092332, 0.00092559,\n",
      "       0.00092919, 0.00091639, 0.00156946, 0.00224683, 0.00180387,\n",
      "       0.00132246, 0.0011755 , 0.00121341, 0.00120459, 0.00130572,\n",
      "       0.00130203, 0.00153198, 0.00272558, 0.0013752 , 0.00152225,\n",
      "       0.00120783, 0.0012958 , 0.00108171, 0.00092087, 0.00093663,\n",
      "       0.000951  , 0.00101337, 0.00122902, 0.00106745, 0.00117085,\n",
      "       0.00099986, 0.00099659, 0.00110977, 0.00113482, 0.00133967,\n",
      "       0.00107145, 0.00123513, 0.00120678, 0.00111332, 0.00108855,\n",
      "       0.00106134, 0.00140018, 0.00109158, 0.00094707, 0.00096512,\n",
      "       0.00088234, 0.0011373 , 0.00115266, 0.00107734, 0.00100455,\n",
      "       0.00091791, 0.00093727, 0.00089612, 0.00089438, 0.00103059,\n",
      "       0.00098078, 0.00090082, 0.0008918 , 0.00091517, 0.00093503,\n",
      "       0.00092399, 0.00092618, 0.00090702, 0.0019331 , 0.00097933,\n",
      "       0.00091836, 0.00091207, 0.00093553, 0.00089638, 0.00091035,\n",
      "       0.0010093 , 0.00096719, 0.00091066, 0.00095086, 0.00099509,\n",
      "       0.00093873, 0.001735  , 0.00110807, 0.00093365, 0.0009733 ,\n",
      "       0.0009238 , 0.00098367, 0.00093043, 0.00094278, 0.00098667]), 'std_score_time': array([1.52416075e-04, 1.53074338e-04, 8.28747268e-05, 1.77146495e-04,\n",
      "       2.32777132e-04, 1.87280330e-04, 4.34377047e-04, 9.68626438e-04,\n",
      "       1.67016435e-04, 6.34539481e-05, 2.25834407e-04, 6.47353794e-04,\n",
      "       1.63212626e-04, 4.13857845e-05, 5.53224408e-05, 2.76726894e-04,\n",
      "       2.67068303e-04, 2.56631304e-04, 8.24901409e-05, 4.16357037e-04,\n",
      "       7.60202471e-04, 6.47812346e-04, 1.97738936e-04, 5.80230808e-04,\n",
      "       1.67588359e-04, 2.05271507e-04, 6.62413146e-05, 9.35904563e-05,\n",
      "       2.32478910e-04, 1.98468838e-04, 2.50559924e-04, 5.16097809e-05,\n",
      "       1.14675473e-04, 8.52792996e-05, 3.34012432e-05, 2.34006299e-04,\n",
      "       4.78189104e-04, 1.42091835e-04, 2.56044349e-05, 1.99280854e-05,\n",
      "       1.90824398e-05, 1.67012853e-05, 6.75195698e-04, 9.39103566e-04,\n",
      "       1.40754738e-03, 3.20638612e-04, 1.87628218e-04, 2.02486899e-04,\n",
      "       1.71815194e-04, 2.38144101e-04, 3.78176984e-04, 4.90016436e-04,\n",
      "       2.34977562e-03, 2.42659146e-04, 3.29435691e-04, 4.77466168e-05,\n",
      "       1.52661001e-04, 2.22349734e-04, 1.14048843e-05, 4.14156131e-05,\n",
      "       1.89384112e-04, 1.80305150e-04, 6.02001808e-04, 2.36343576e-04,\n",
      "       2.05128824e-04, 1.67460908e-04, 2.16262290e-04, 1.93609893e-04,\n",
      "       1.88475785e-04, 9.24346162e-04, 5.95247687e-05, 4.12986090e-04,\n",
      "       2.67471096e-04, 4.57842145e-05, 1.42304381e-04, 5.88905666e-05,\n",
      "       3.48862466e-04, 1.64712980e-04, 9.13603725e-05, 2.08965908e-04,\n",
      "       1.30215838e-05, 2.55404834e-04, 1.66357516e-04, 2.37677520e-04,\n",
      "       8.84414804e-05, 2.14038279e-05, 4.79463023e-05, 1.41107548e-05,\n",
      "       1.84398083e-05, 1.21935858e-04, 8.43951963e-05, 1.90699246e-05,\n",
      "       1.56705588e-05, 2.17993996e-05, 3.53311558e-05, 3.37542530e-05,\n",
      "       4.76264670e-05, 1.60493251e-05, 2.24898730e-03, 9.99752642e-05,\n",
      "       3.28719394e-05, 2.35154337e-05, 5.00762399e-05, 9.80364325e-06,\n",
      "       1.91517209e-05, 2.60870503e-04, 8.41669623e-05, 2.38640682e-05,\n",
      "       8.75132470e-05, 8.20974601e-05, 2.81441090e-05, 2.07586414e-03,\n",
      "       1.69895788e-04, 2.60660319e-05, 6.36890108e-05, 1.72724511e-05,\n",
      "       6.45275204e-05, 2.26176813e-05, 3.72423329e-05, 1.19081152e-04]), 'param_criterion': masked_array(data=['gini', 'gini', 'gini', 'gini', 'gini', 'gini', 'gini',\n",
      "                   'gini', 'gini', 'gini', 'gini', 'gini', 'gini', 'gini',\n",
      "                   'gini', 'gini', 'gini', 'gini', 'gini', 'gini', 'gini',\n",
      "                   'gini', 'gini', 'gini', 'gini', 'gini', 'gini', 'gini',\n",
      "                   'gini', 'gini', 'gini', 'gini', 'gini', 'gini', 'gini',\n",
      "                   'gini', 'gini', 'gini', 'gini', 'gini', 'gini', 'gini',\n",
      "                   'gini', 'gini', 'gini', 'gini', 'gini', 'gini', 'gini',\n",
      "                   'gini', 'gini', 'gini', 'gini', 'gini', 'gini', 'gini',\n",
      "                   'gini', 'gini', 'gini', 'gini', 'entropy', 'entropy',\n",
      "                   'entropy', 'entropy', 'entropy', 'entropy', 'entropy',\n",
      "                   'entropy', 'entropy', 'entropy', 'entropy', 'entropy',\n",
      "                   'entropy', 'entropy', 'entropy', 'entropy', 'entropy',\n",
      "                   'entropy', 'entropy', 'entropy', 'entropy', 'entropy',\n",
      "                   'entropy', 'entropy', 'entropy', 'entropy', 'entropy',\n",
      "                   'entropy', 'entropy', 'entropy', 'entropy', 'entropy',\n",
      "                   'entropy', 'entropy', 'entropy', 'entropy', 'entropy',\n",
      "                   'entropy', 'entropy', 'entropy', 'entropy', 'entropy',\n",
      "                   'entropy', 'entropy', 'entropy', 'entropy', 'entropy',\n",
      "                   'entropy', 'entropy', 'entropy', 'entropy', 'entropy',\n",
      "                   'entropy', 'entropy', 'entropy', 'entropy', 'entropy',\n",
      "                   'entropy', 'entropy', 'entropy'],\n",
      "             mask=[False, False, False, False, False, False, False, False,\n",
      "                   False, False, False, False, False, False, False, False,\n",
      "                   False, False, False, False, False, False, False, False,\n",
      "                   False, False, False, False, False, False, False, False,\n",
      "                   False, False, False, False, False, False, False, False,\n",
      "                   False, False, False, False, False, False, False, False,\n",
      "                   False, False, False, False, False, False, False, False,\n",
      "                   False, False, False, False, False, False, False, False,\n",
      "                   False, False, False, False, False, False, False, False,\n",
      "                   False, False, False, False, False, False, False, False,\n",
      "                   False, False, False, False, False, False, False, False,\n",
      "                   False, False, False, False, False, False, False, False,\n",
      "                   False, False, False, False, False, False, False, False,\n",
      "                   False, False, False, False, False, False, False, False,\n",
      "                   False, False, False, False, False, False, False, False],\n",
      "       fill_value='?',\n",
      "            dtype=object), 'param_max_depth': masked_array(data=[1, 1, 1, 1, 2, 2, 2, 2, 3, 3, 3, 3, 4, 4, 4, 4, 5, 5,\n",
      "                   5, 5, 6, 6, 6, 6, 7, 7, 7, 7, 8, 8, 8, 8, 9, 9, 9, 9,\n",
      "                   10, 10, 10, 10, 11, 11, 11, 11, 12, 12, 12, 12, 13, 13,\n",
      "                   13, 13, 14, 14, 14, 14, 15, 15, 15, 15, 1, 1, 1, 1, 2,\n",
      "                   2, 2, 2, 3, 3, 3, 3, 4, 4, 4, 4, 5, 5, 5, 5, 6, 6, 6,\n",
      "                   6, 7, 7, 7, 7, 8, 8, 8, 8, 9, 9, 9, 9, 10, 10, 10, 10,\n",
      "                   11, 11, 11, 11, 12, 12, 12, 12, 13, 13, 13, 13, 14, 14,\n",
      "                   14, 14, 15, 15, 15, 15],\n",
      "             mask=[False, False, False, False, False, False, False, False,\n",
      "                   False, False, False, False, False, False, False, False,\n",
      "                   False, False, False, False, False, False, False, False,\n",
      "                   False, False, False, False, False, False, False, False,\n",
      "                   False, False, False, False, False, False, False, False,\n",
      "                   False, False, False, False, False, False, False, False,\n",
      "                   False, False, False, False, False, False, False, False,\n",
      "                   False, False, False, False, False, False, False, False,\n",
      "                   False, False, False, False, False, False, False, False,\n",
      "                   False, False, False, False, False, False, False, False,\n",
      "                   False, False, False, False, False, False, False, False,\n",
      "                   False, False, False, False, False, False, False, False,\n",
      "                   False, False, False, False, False, False, False, False,\n",
      "                   False, False, False, False, False, False, False, False,\n",
      "                   False, False, False, False, False, False, False, False],\n",
      "       fill_value='?',\n",
      "            dtype=object), 'param_min_samples_leaf': masked_array(data=[5, 10, 15, 20, 5, 10, 15, 20, 5, 10, 15, 20, 5, 10, 15,\n",
      "                   20, 5, 10, 15, 20, 5, 10, 15, 20, 5, 10, 15, 20, 5, 10,\n",
      "                   15, 20, 5, 10, 15, 20, 5, 10, 15, 20, 5, 10, 15, 20, 5,\n",
      "                   10, 15, 20, 5, 10, 15, 20, 5, 10, 15, 20, 5, 10, 15,\n",
      "                   20, 5, 10, 15, 20, 5, 10, 15, 20, 5, 10, 15, 20, 5, 10,\n",
      "                   15, 20, 5, 10, 15, 20, 5, 10, 15, 20, 5, 10, 15, 20, 5,\n",
      "                   10, 15, 20, 5, 10, 15, 20, 5, 10, 15, 20, 5, 10, 15,\n",
      "                   20, 5, 10, 15, 20, 5, 10, 15, 20, 5, 10, 15, 20, 5, 10,\n",
      "                   15, 20],\n",
      "             mask=[False, False, False, False, False, False, False, False,\n",
      "                   False, False, False, False, False, False, False, False,\n",
      "                   False, False, False, False, False, False, False, False,\n",
      "                   False, False, False, False, False, False, False, False,\n",
      "                   False, False, False, False, False, False, False, False,\n",
      "                   False, False, False, False, False, False, False, False,\n",
      "                   False, False, False, False, False, False, False, False,\n",
      "                   False, False, False, False, False, False, False, False,\n",
      "                   False, False, False, False, False, False, False, False,\n",
      "                   False, False, False, False, False, False, False, False,\n",
      "                   False, False, False, False, False, False, False, False,\n",
      "                   False, False, False, False, False, False, False, False,\n",
      "                   False, False, False, False, False, False, False, False,\n",
      "                   False, False, False, False, False, False, False, False,\n",
      "                   False, False, False, False, False, False, False, False],\n",
      "       fill_value='?',\n",
      "            dtype=object), 'params': [{'criterion': 'gini', 'max_depth': 1, 'min_samples_leaf': 5}, {'criterion': 'gini', 'max_depth': 1, 'min_samples_leaf': 10}, {'criterion': 'gini', 'max_depth': 1, 'min_samples_leaf': 15}, {'criterion': 'gini', 'max_depth': 1, 'min_samples_leaf': 20}, {'criterion': 'gini', 'max_depth': 2, 'min_samples_leaf': 5}, {'criterion': 'gini', 'max_depth': 2, 'min_samples_leaf': 10}, {'criterion': 'gini', 'max_depth': 2, 'min_samples_leaf': 15}, {'criterion': 'gini', 'max_depth': 2, 'min_samples_leaf': 20}, {'criterion': 'gini', 'max_depth': 3, 'min_samples_leaf': 5}, {'criterion': 'gini', 'max_depth': 3, 'min_samples_leaf': 10}, {'criterion': 'gini', 'max_depth': 3, 'min_samples_leaf': 15}, {'criterion': 'gini', 'max_depth': 3, 'min_samples_leaf': 20}, {'criterion': 'gini', 'max_depth': 4, 'min_samples_leaf': 5}, {'criterion': 'gini', 'max_depth': 4, 'min_samples_leaf': 10}, {'criterion': 'gini', 'max_depth': 4, 'min_samples_leaf': 15}, {'criterion': 'gini', 'max_depth': 4, 'min_samples_leaf': 20}, {'criterion': 'gini', 'max_depth': 5, 'min_samples_leaf': 5}, {'criterion': 'gini', 'max_depth': 5, 'min_samples_leaf': 10}, {'criterion': 'gini', 'max_depth': 5, 'min_samples_leaf': 15}, {'criterion': 'gini', 'max_depth': 5, 'min_samples_leaf': 20}, {'criterion': 'gini', 'max_depth': 6, 'min_samples_leaf': 5}, {'criterion': 'gini', 'max_depth': 6, 'min_samples_leaf': 10}, {'criterion': 'gini', 'max_depth': 6, 'min_samples_leaf': 15}, {'criterion': 'gini', 'max_depth': 6, 'min_samples_leaf': 20}, {'criterion': 'gini', 'max_depth': 7, 'min_samples_leaf': 5}, {'criterion': 'gini', 'max_depth': 7, 'min_samples_leaf': 10}, {'criterion': 'gini', 'max_depth': 7, 'min_samples_leaf': 15}, {'criterion': 'gini', 'max_depth': 7, 'min_samples_leaf': 20}, {'criterion': 'gini', 'max_depth': 8, 'min_samples_leaf': 5}, {'criterion': 'gini', 'max_depth': 8, 'min_samples_leaf': 10}, {'criterion': 'gini', 'max_depth': 8, 'min_samples_leaf': 15}, {'criterion': 'gini', 'max_depth': 8, 'min_samples_leaf': 20}, {'criterion': 'gini', 'max_depth': 9, 'min_samples_leaf': 5}, {'criterion': 'gini', 'max_depth': 9, 'min_samples_leaf': 10}, {'criterion': 'gini', 'max_depth': 9, 'min_samples_leaf': 15}, {'criterion': 'gini', 'max_depth': 9, 'min_samples_leaf': 20}, {'criterion': 'gini', 'max_depth': 10, 'min_samples_leaf': 5}, {'criterion': 'gini', 'max_depth': 10, 'min_samples_leaf': 10}, {'criterion': 'gini', 'max_depth': 10, 'min_samples_leaf': 15}, {'criterion': 'gini', 'max_depth': 10, 'min_samples_leaf': 20}, {'criterion': 'gini', 'max_depth': 11, 'min_samples_leaf': 5}, {'criterion': 'gini', 'max_depth': 11, 'min_samples_leaf': 10}, {'criterion': 'gini', 'max_depth': 11, 'min_samples_leaf': 15}, {'criterion': 'gini', 'max_depth': 11, 'min_samples_leaf': 20}, {'criterion': 'gini', 'max_depth': 12, 'min_samples_leaf': 5}, {'criterion': 'gini', 'max_depth': 12, 'min_samples_leaf': 10}, {'criterion': 'gini', 'max_depth': 12, 'min_samples_leaf': 15}, {'criterion': 'gini', 'max_depth': 12, 'min_samples_leaf': 20}, {'criterion': 'gini', 'max_depth': 13, 'min_samples_leaf': 5}, {'criterion': 'gini', 'max_depth': 13, 'min_samples_leaf': 10}, {'criterion': 'gini', 'max_depth': 13, 'min_samples_leaf': 15}, {'criterion': 'gini', 'max_depth': 13, 'min_samples_leaf': 20}, {'criterion': 'gini', 'max_depth': 14, 'min_samples_leaf': 5}, {'criterion': 'gini', 'max_depth': 14, 'min_samples_leaf': 10}, {'criterion': 'gini', 'max_depth': 14, 'min_samples_leaf': 15}, {'criterion': 'gini', 'max_depth': 14, 'min_samples_leaf': 20}, {'criterion': 'gini', 'max_depth': 15, 'min_samples_leaf': 5}, {'criterion': 'gini', 'max_depth': 15, 'min_samples_leaf': 10}, {'criterion': 'gini', 'max_depth': 15, 'min_samples_leaf': 15}, {'criterion': 'gini', 'max_depth': 15, 'min_samples_leaf': 20}, {'criterion': 'entropy', 'max_depth': 1, 'min_samples_leaf': 5}, {'criterion': 'entropy', 'max_depth': 1, 'min_samples_leaf': 10}, {'criterion': 'entropy', 'max_depth': 1, 'min_samples_leaf': 15}, {'criterion': 'entropy', 'max_depth': 1, 'min_samples_leaf': 20}, {'criterion': 'entropy', 'max_depth': 2, 'min_samples_leaf': 5}, {'criterion': 'entropy', 'max_depth': 2, 'min_samples_leaf': 10}, {'criterion': 'entropy', 'max_depth': 2, 'min_samples_leaf': 15}, {'criterion': 'entropy', 'max_depth': 2, 'min_samples_leaf': 20}, {'criterion': 'entropy', 'max_depth': 3, 'min_samples_leaf': 5}, {'criterion': 'entropy', 'max_depth': 3, 'min_samples_leaf': 10}, {'criterion': 'entropy', 'max_depth': 3, 'min_samples_leaf': 15}, {'criterion': 'entropy', 'max_depth': 3, 'min_samples_leaf': 20}, {'criterion': 'entropy', 'max_depth': 4, 'min_samples_leaf': 5}, {'criterion': 'entropy', 'max_depth': 4, 'min_samples_leaf': 10}, {'criterion': 'entropy', 'max_depth': 4, 'min_samples_leaf': 15}, {'criterion': 'entropy', 'max_depth': 4, 'min_samples_leaf': 20}, {'criterion': 'entropy', 'max_depth': 5, 'min_samples_leaf': 5}, {'criterion': 'entropy', 'max_depth': 5, 'min_samples_leaf': 10}, {'criterion': 'entropy', 'max_depth': 5, 'min_samples_leaf': 15}, {'criterion': 'entropy', 'max_depth': 5, 'min_samples_leaf': 20}, {'criterion': 'entropy', 'max_depth': 6, 'min_samples_leaf': 5}, {'criterion': 'entropy', 'max_depth': 6, 'min_samples_leaf': 10}, {'criterion': 'entropy', 'max_depth': 6, 'min_samples_leaf': 15}, {'criterion': 'entropy', 'max_depth': 6, 'min_samples_leaf': 20}, {'criterion': 'entropy', 'max_depth': 7, 'min_samples_leaf': 5}, {'criterion': 'entropy', 'max_depth': 7, 'min_samples_leaf': 10}, {'criterion': 'entropy', 'max_depth': 7, 'min_samples_leaf': 15}, {'criterion': 'entropy', 'max_depth': 7, 'min_samples_leaf': 20}, {'criterion': 'entropy', 'max_depth': 8, 'min_samples_leaf': 5}, {'criterion': 'entropy', 'max_depth': 8, 'min_samples_leaf': 10}, {'criterion': 'entropy', 'max_depth': 8, 'min_samples_leaf': 15}, {'criterion': 'entropy', 'max_depth': 8, 'min_samples_leaf': 20}, {'criterion': 'entropy', 'max_depth': 9, 'min_samples_leaf': 5}, {'criterion': 'entropy', 'max_depth': 9, 'min_samples_leaf': 10}, {'criterion': 'entropy', 'max_depth': 9, 'min_samples_leaf': 15}, {'criterion': 'entropy', 'max_depth': 9, 'min_samples_leaf': 20}, {'criterion': 'entropy', 'max_depth': 10, 'min_samples_leaf': 5}, {'criterion': 'entropy', 'max_depth': 10, 'min_samples_leaf': 10}, {'criterion': 'entropy', 'max_depth': 10, 'min_samples_leaf': 15}, {'criterion': 'entropy', 'max_depth': 10, 'min_samples_leaf': 20}, {'criterion': 'entropy', 'max_depth': 11, 'min_samples_leaf': 5}, {'criterion': 'entropy', 'max_depth': 11, 'min_samples_leaf': 10}, {'criterion': 'entropy', 'max_depth': 11, 'min_samples_leaf': 15}, {'criterion': 'entropy', 'max_depth': 11, 'min_samples_leaf': 20}, {'criterion': 'entropy', 'max_depth': 12, 'min_samples_leaf': 5}, {'criterion': 'entropy', 'max_depth': 12, 'min_samples_leaf': 10}, {'criterion': 'entropy', 'max_depth': 12, 'min_samples_leaf': 15}, {'criterion': 'entropy', 'max_depth': 12, 'min_samples_leaf': 20}, {'criterion': 'entropy', 'max_depth': 13, 'min_samples_leaf': 5}, {'criterion': 'entropy', 'max_depth': 13, 'min_samples_leaf': 10}, {'criterion': 'entropy', 'max_depth': 13, 'min_samples_leaf': 15}, {'criterion': 'entropy', 'max_depth': 13, 'min_samples_leaf': 20}, {'criterion': 'entropy', 'max_depth': 14, 'min_samples_leaf': 5}, {'criterion': 'entropy', 'max_depth': 14, 'min_samples_leaf': 10}, {'criterion': 'entropy', 'max_depth': 14, 'min_samples_leaf': 15}, {'criterion': 'entropy', 'max_depth': 14, 'min_samples_leaf': 20}, {'criterion': 'entropy', 'max_depth': 15, 'min_samples_leaf': 5}, {'criterion': 'entropy', 'max_depth': 15, 'min_samples_leaf': 10}, {'criterion': 'entropy', 'max_depth': 15, 'min_samples_leaf': 15}, {'criterion': 'entropy', 'max_depth': 15, 'min_samples_leaf': 20}], 'split0_test_score': array([0.60591133, 0.60591133, 0.60591133, 0.60591133, 0.6773399 ,\n",
      "       0.6773399 , 0.6773399 , 0.6773399 , 0.70197044, 0.70197044,\n",
      "       0.70197044, 0.70197044, 0.69704433, 0.70197044, 0.70197044,\n",
      "       0.70197044, 0.70197044, 0.70197044, 0.7044335 , 0.71428571,\n",
      "       0.69211823, 0.68719212, 0.69211823, 0.69950739, 0.68719212,\n",
      "       0.69458128, 0.69704433, 0.70689655, 0.69704433, 0.69704433,\n",
      "       0.70689655, 0.70935961, 0.69950739, 0.7044335 , 0.70935961,\n",
      "       0.70197044, 0.66748768, 0.67487685, 0.68719212, 0.69211823,\n",
      "       0.66995074, 0.66748768, 0.67980296, 0.70689655, 0.67241379,\n",
      "       0.69704433, 0.69704433, 0.70689655, 0.65024631, 0.69704433,\n",
      "       0.69211823, 0.70197044, 0.65763547, 0.67487685, 0.68965517,\n",
      "       0.69704433, 0.64778325, 0.69211823, 0.68965517, 0.69704433,\n",
      "       0.60591133, 0.60591133, 0.60591133, 0.60591133, 0.6773399 ,\n",
      "       0.6773399 , 0.6773399 , 0.6773399 , 0.66995074, 0.66995074,\n",
      "       0.66995074, 0.66995074, 0.71182266, 0.71182266, 0.71182266,\n",
      "       0.71182266, 0.69950739, 0.69950739, 0.70935961, 0.71428571,\n",
      "       0.70197044, 0.7044335 , 0.69704433, 0.69704433, 0.7044335 ,\n",
      "       0.70935961, 0.70197044, 0.7044335 , 0.69211823, 0.70197044,\n",
      "       0.71182266, 0.71182266, 0.68719212, 0.69950739, 0.70935961,\n",
      "       0.69950739, 0.66256158, 0.69704433, 0.68472906, 0.68719212,\n",
      "       0.67980296, 0.71182266, 0.67487685, 0.69950739, 0.66502463,\n",
      "       0.67487685, 0.68965517, 0.7044335 , 0.68226601, 0.68226601,\n",
      "       0.68965517, 0.70197044, 0.67241379, 0.68226601, 0.68472906,\n",
      "       0.7044335 , 0.67241379, 0.68965517, 0.68472906, 0.70197044]), 'split1_test_score': array([0.63546798, 0.63546798, 0.63546798, 0.63546798, 0.70197044,\n",
      "       0.70197044, 0.70197044, 0.70197044, 0.7044335 , 0.7044335 ,\n",
      "       0.7044335 , 0.7044335 , 0.70689655, 0.70935961, 0.70935961,\n",
      "       0.70935961, 0.71921182, 0.72413793, 0.71921182, 0.71921182,\n",
      "       0.69950739, 0.7044335 , 0.71182266, 0.71428571, 0.69950739,\n",
      "       0.70689655, 0.71674877, 0.71674877, 0.70689655, 0.71921182,\n",
      "       0.72906404, 0.73399015, 0.71921182, 0.71921182, 0.73891626,\n",
      "       0.74630542, 0.71428571, 0.71921182, 0.74876847, 0.75369458,\n",
      "       0.69458128, 0.72167488, 0.75615764, 0.75862069, 0.71428571,\n",
      "       0.71182266, 0.75615764, 0.75123153, 0.71428571, 0.70935961,\n",
      "       0.75862069, 0.75369458, 0.68965517, 0.69704433, 0.75369458,\n",
      "       0.74384236, 0.68472906, 0.69704433, 0.75615764, 0.74630542,\n",
      "       0.63546798, 0.63546798, 0.63546798, 0.63546798, 0.70197044,\n",
      "       0.70197044, 0.70197044, 0.70197044, 0.70935961, 0.70935961,\n",
      "       0.70935961, 0.70935961, 0.7044335 , 0.7044335 , 0.7044335 ,\n",
      "       0.7044335 , 0.70689655, 0.70197044, 0.7044335 , 0.70935961,\n",
      "       0.71182266, 0.70935961, 0.69950739, 0.69950739, 0.70689655,\n",
      "       0.71182266, 0.69704433, 0.70197044, 0.68719212, 0.70689655,\n",
      "       0.71428571, 0.71674877, 0.70197044, 0.7044335 , 0.71921182,\n",
      "       0.71674877, 0.72167488, 0.7044335 , 0.72660099, 0.72167488,\n",
      "       0.69458128, 0.70689655, 0.73891626, 0.72906404, 0.69458128,\n",
      "       0.69458128, 0.73399015, 0.72167488, 0.68965517, 0.70197044,\n",
      "       0.74384236, 0.72413793, 0.69211823, 0.70689655, 0.73152709,\n",
      "       0.72167488, 0.68965517, 0.70689655, 0.73891626, 0.72413793]), 'split2_test_score': array([0.58765432, 0.58765432, 0.58765432, 0.58765432, 0.65432099,\n",
      "       0.65432099, 0.65432099, 0.65432099, 0.6691358 , 0.6691358 ,\n",
      "       0.6691358 , 0.6691358 , 0.67901235, 0.6691358 , 0.6691358 ,\n",
      "       0.6691358 , 0.68148148, 0.68148148, 0.69876543, 0.6962963 ,\n",
      "       0.67901235, 0.67407407, 0.6962963 , 0.6962963 , 0.68888889,\n",
      "       0.67407407, 0.70864198, 0.70617284, 0.69135802, 0.67654321,\n",
      "       0.71111111, 0.69876543, 0.69135802, 0.68641975, 0.71111111,\n",
      "       0.70617284, 0.67160494, 0.67901235, 0.72098765, 0.71111111,\n",
      "       0.6617284 , 0.67407407, 0.71851852, 0.70123457, 0.65925926,\n",
      "       0.68395062, 0.72839506, 0.71604938, 0.66666667, 0.67407407,\n",
      "       0.72345679, 0.72098765, 0.69135802, 0.68395062, 0.73580247,\n",
      "       0.71111111, 0.66666667, 0.68148148, 0.73580247, 0.71111111,\n",
      "       0.58765432, 0.58765432, 0.58765432, 0.58765432, 0.65432099,\n",
      "       0.65432099, 0.65432099, 0.65432099, 0.6691358 , 0.6691358 ,\n",
      "       0.6691358 , 0.6691358 , 0.67901235, 0.6691358 , 0.6691358 ,\n",
      "       0.6691358 , 0.67901235, 0.68395062, 0.6962963 , 0.6962963 ,\n",
      "       0.68395062, 0.67654321, 0.69382716, 0.6962963 , 0.7037037 ,\n",
      "       0.69135802, 0.69876543, 0.70617284, 0.69135802, 0.6962963 ,\n",
      "       0.70864198, 0.7037037 , 0.69135802, 0.67654321, 0.68148148,\n",
      "       0.69876543, 0.68641975, 0.68148148, 0.68641975, 0.6962963 ,\n",
      "       0.67654321, 0.69382716, 0.68641975, 0.69876543, 0.68395062,\n",
      "       0.68148148, 0.68395062, 0.6962963 , 0.67654321, 0.68395062,\n",
      "       0.69382716, 0.71358025, 0.68641975, 0.67160494, 0.68148148,\n",
      "       0.72345679, 0.68148148, 0.69135802, 0.69876543, 0.71358025]), 'split3_test_score': array([0.59259259, 0.59259259, 0.59259259, 0.59259259, 0.63703704,\n",
      "       0.63703704, 0.63703704, 0.63703704, 0.65679012, 0.65679012,\n",
      "       0.65679012, 0.65679012, 0.65679012, 0.65679012, 0.65679012,\n",
      "       0.65679012, 0.67160494, 0.64938272, 0.64938272, 0.65432099,\n",
      "       0.68395062, 0.66666667, 0.65925926, 0.66666667, 0.68888889,\n",
      "       0.68148148, 0.67407407, 0.68641975, 0.67160494, 0.67407407,\n",
      "       0.67160494, 0.68148148, 0.65679012, 0.67654321, 0.68641975,\n",
      "       0.68888889, 0.67654321, 0.67407407, 0.68395062, 0.68888889,\n",
      "       0.66419753, 0.67407407, 0.68148148, 0.68395062, 0.6617284 ,\n",
      "       0.6691358 , 0.67654321, 0.67901235, 0.67654321, 0.6691358 ,\n",
      "       0.67407407, 0.67654321, 0.67160494, 0.68641975, 0.68641975,\n",
      "       0.68641975, 0.67407407, 0.68148148, 0.67407407, 0.68148148,\n",
      "       0.59259259, 0.59259259, 0.59259259, 0.59259259, 0.63703704,\n",
      "       0.63703704, 0.63703704, 0.63703704, 0.65679012, 0.65679012,\n",
      "       0.65679012, 0.65679012, 0.65679012, 0.65679012, 0.65679012,\n",
      "       0.65679012, 0.6691358 , 0.64691358, 0.64691358, 0.65432099,\n",
      "       0.68641975, 0.66419753, 0.65925926, 0.66666667, 0.68641975,\n",
      "       0.67654321, 0.66419753, 0.68395062, 0.68148148, 0.6691358 ,\n",
      "       0.6617284 , 0.67901235, 0.6962963 , 0.68395062, 0.67407407,\n",
      "       0.68641975, 0.68395062, 0.67901235, 0.67407407, 0.68641975,\n",
      "       0.70123457, 0.68148148, 0.67160494, 0.68148148, 0.6691358 ,\n",
      "       0.6617284 , 0.66666667, 0.67654321, 0.69135802, 0.66419753,\n",
      "       0.66419753, 0.67407407, 0.67654321, 0.67407407, 0.67654321,\n",
      "       0.68395062, 0.68641975, 0.66666667, 0.66419753, 0.67901235]), 'split4_test_score': array([0.63703704, 0.63703704, 0.63703704, 0.63703704, 0.67654321,\n",
      "       0.67654321, 0.67654321, 0.67654321, 0.7037037 , 0.7037037 ,\n",
      "       0.7037037 , 0.7037037 , 0.68148148, 0.68148148, 0.68395062,\n",
      "       0.69135802, 0.70123457, 0.6962963 , 0.69876543, 0.7037037 ,\n",
      "       0.69135802, 0.68888889, 0.69135802, 0.69382716, 0.6962963 ,\n",
      "       0.68395062, 0.68641975, 0.69382716, 0.71358025, 0.6962963 ,\n",
      "       0.68888889, 0.70617284, 0.68395062, 0.67901235, 0.66666667,\n",
      "       0.68641975, 0.67160494, 0.68395062, 0.67160494, 0.69135802,\n",
      "       0.66666667, 0.68888889, 0.67901235, 0.69876543, 0.66419753,\n",
      "       0.68395062, 0.67407407, 0.69876543, 0.64938272, 0.69135802,\n",
      "       0.67407407, 0.70617284, 0.65679012, 0.6962963 , 0.66666667,\n",
      "       0.70617284, 0.6617284 , 0.69135802, 0.6691358 , 0.71851852,\n",
      "       0.63703704, 0.63703704, 0.63703704, 0.63703704, 0.67654321,\n",
      "       0.67654321, 0.67654321, 0.67654321, 0.7037037 , 0.7037037 ,\n",
      "       0.7037037 , 0.7037037 , 0.69135802, 0.68395062, 0.68395062,\n",
      "       0.69135802, 0.70617284, 0.6962963 , 0.6962963 , 0.7037037 ,\n",
      "       0.68888889, 0.69135802, 0.68641975, 0.69382716, 0.68641975,\n",
      "       0.68641975, 0.67654321, 0.69382716, 0.7037037 , 0.70123457,\n",
      "       0.68395062, 0.70617284, 0.68148148, 0.68148148, 0.6691358 ,\n",
      "       0.68641975, 0.67654321, 0.68641975, 0.67160494, 0.69135802,\n",
      "       0.67160494, 0.6962963 , 0.67901235, 0.6962963 , 0.67407407,\n",
      "       0.69876543, 0.67901235, 0.69876543, 0.6617284 , 0.69876543,\n",
      "       0.67407407, 0.7037037 , 0.66666667, 0.69876543, 0.6691358 ,\n",
      "       0.70123457, 0.67901235, 0.69876543, 0.66666667, 0.71358025]), 'split5_test_score': array([0.60246914, 0.60246914, 0.60246914, 0.60246914, 0.67407407,\n",
      "       0.67407407, 0.67407407, 0.67407407, 0.68888889, 0.68888889,\n",
      "       0.68888889, 0.68888889, 0.67654321, 0.67901235, 0.68148148,\n",
      "       0.68148148, 0.67654321, 0.67407407, 0.67901235, 0.68395062,\n",
      "       0.68641975, 0.68888889, 0.68641975, 0.69382716, 0.67654321,\n",
      "       0.69876543, 0.6962963 , 0.69135802, 0.69135802, 0.70123457,\n",
      "       0.69876543, 0.6962963 , 0.69876543, 0.70864198, 0.70617284,\n",
      "       0.7037037 , 0.69876543, 0.70617284, 0.70617284, 0.70123457,\n",
      "       0.68888889, 0.72098765, 0.7037037 , 0.6962963 , 0.70123457,\n",
      "       0.71358025, 0.69876543, 0.6962963 , 0.69876543, 0.71358025,\n",
      "       0.69876543, 0.7037037 , 0.69876543, 0.69876543, 0.6962963 ,\n",
      "       0.7037037 , 0.69382716, 0.72098765, 0.71111111, 0.7037037 ,\n",
      "       0.60246914, 0.60246914, 0.60246914, 0.60246914, 0.67407407,\n",
      "       0.67407407, 0.67407407, 0.67407407, 0.68888889, 0.68888889,\n",
      "       0.68888889, 0.68888889, 0.68148148, 0.68148148, 0.68148148,\n",
      "       0.68148148, 0.67901235, 0.68148148, 0.68395062, 0.68395062,\n",
      "       0.69135802, 0.6962963 , 0.69382716, 0.69382716, 0.69135802,\n",
      "       0.71111111, 0.7037037 , 0.70617284, 0.70123457, 0.70617284,\n",
      "       0.69876543, 0.70617284, 0.70123457, 0.71111111, 0.68888889,\n",
      "       0.7037037 , 0.71111111, 0.70617284, 0.68641975, 0.70617284,\n",
      "       0.69876543, 0.70123457, 0.68641975, 0.70617284, 0.69876543,\n",
      "       0.69876543, 0.69382716, 0.71111111, 0.69876543, 0.70617284,\n",
      "       0.68148148, 0.70864198, 0.68395062, 0.70864198, 0.67901235,\n",
      "       0.71111111, 0.68641975, 0.69876543, 0.68888889, 0.71358025]), 'split6_test_score': array([0.58024691, 0.58024691, 0.58024691, 0.58024691, 0.67901235,\n",
      "       0.67901235, 0.67901235, 0.67901235, 0.70617284, 0.70617284,\n",
      "       0.70617284, 0.70617284, 0.6962963 , 0.69876543, 0.69876543,\n",
      "       0.69876543, 0.7037037 , 0.71358025, 0.71358025, 0.71111111,\n",
      "       0.70864198, 0.70864198, 0.7037037 , 0.70123457, 0.70123457,\n",
      "       0.71851852, 0.70617284, 0.70617284, 0.69135802, 0.70617284,\n",
      "       0.70123457, 0.69876543, 0.70617284, 0.70864198, 0.70123457,\n",
      "       0.7037037 , 0.69382716, 0.70864198, 0.70123457, 0.70617284,\n",
      "       0.67160494, 0.69876543, 0.6691358 , 0.67654321, 0.64691358,\n",
      "       0.69135802, 0.6617284 , 0.67160494, 0.6691358 , 0.6691358 ,\n",
      "       0.67160494, 0.67160494, 0.64444444, 0.66666667, 0.68148148,\n",
      "       0.68148148, 0.63703704, 0.67160494, 0.6691358 , 0.67407407,\n",
      "       0.58024691, 0.58024691, 0.58024691, 0.58024691, 0.67901235,\n",
      "       0.67901235, 0.67901235, 0.67901235, 0.70617284, 0.70617284,\n",
      "       0.70617284, 0.70617284, 0.69876543, 0.69876543, 0.69876543,\n",
      "       0.69876543, 0.70864198, 0.71111111, 0.71358025, 0.71358025,\n",
      "       0.71111111, 0.70864198, 0.70123457, 0.70123457, 0.69382716,\n",
      "       0.71111111, 0.67407407, 0.67654321, 0.6617284 , 0.67654321,\n",
      "       0.69382716, 0.69135802, 0.68641975, 0.69135802, 0.69135802,\n",
      "       0.69135802, 0.67901235, 0.69382716, 0.69382716, 0.69382716,\n",
      "       0.68395062, 0.6962963 , 0.65679012, 0.66419753, 0.64444444,\n",
      "       0.68148148, 0.64938272, 0.65925926, 0.67654321, 0.65679012,\n",
      "       0.65679012, 0.65925926, 0.64197531, 0.65432099, 0.66666667,\n",
      "       0.6691358 , 0.62962963, 0.64938272, 0.65925926, 0.6617284 ]), 'split7_test_score': array([0.62716049, 0.62716049, 0.62716049, 0.62716049, 0.68395062,\n",
      "       0.68395062, 0.68395062, 0.68395062, 0.71604938, 0.71604938,\n",
      "       0.71604938, 0.71604938, 0.72098765, 0.71851852, 0.71851852,\n",
      "       0.71851852, 0.71358025, 0.7037037 , 0.70123457, 0.7037037 ,\n",
      "       0.70617284, 0.69876543, 0.69382716, 0.69382716, 0.71604938,\n",
      "       0.71851852, 0.70617284, 0.69876543, 0.69135802, 0.70123457,\n",
      "       0.68641975, 0.68641975, 0.69382716, 0.69876543, 0.68641975,\n",
      "       0.68888889, 0.68888889, 0.69135802, 0.68641975, 0.68641975,\n",
      "       0.67654321, 0.6962963 , 0.68395062, 0.68641975, 0.66666667,\n",
      "       0.6962963 , 0.68395062, 0.68641975, 0.66419753, 0.69382716,\n",
      "       0.67901235, 0.68641975, 0.64197531, 0.67901235, 0.67654321,\n",
      "       0.68395062, 0.63209877, 0.68395062, 0.67654321, 0.67654321,\n",
      "       0.62716049, 0.62716049, 0.62716049, 0.62716049, 0.68395062,\n",
      "       0.68395062, 0.68395062, 0.68395062, 0.71604938, 0.71604938,\n",
      "       0.71604938, 0.71604938, 0.71604938, 0.71358025, 0.71358025,\n",
      "       0.71358025, 0.71111111, 0.70864198, 0.71358025, 0.71111111,\n",
      "       0.7037037 , 0.70123457, 0.7037037 , 0.70617284, 0.71851852,\n",
      "       0.71851852, 0.71604938, 0.71111111, 0.69876543, 0.70123457,\n",
      "       0.70123457, 0.70123457, 0.69382716, 0.69135802, 0.6962963 ,\n",
      "       0.69876543, 0.70123457, 0.69135802, 0.6962963 , 0.70123457,\n",
      "       0.69382716, 0.68641975, 0.68888889, 0.69876543, 0.68888889,\n",
      "       0.68395062, 0.68888889, 0.70123457, 0.68148148, 0.68148148,\n",
      "       0.68641975, 0.6962963 , 0.68395062, 0.67407407, 0.68395062,\n",
      "       0.6962963 , 0.65185185, 0.67654321, 0.68395062, 0.68888889]), 'split8_test_score': array([0.62716049, 0.62716049, 0.62716049, 0.62716049, 0.66666667,\n",
      "       0.66666667, 0.66666667, 0.66666667, 0.67654321, 0.67654321,\n",
      "       0.67654321, 0.67654321, 0.66419753, 0.66666667, 0.66666667,\n",
      "       0.67160494, 0.67407407, 0.67654321, 0.67407407, 0.67901235,\n",
      "       0.68395062, 0.6962963 , 0.69135802, 0.69382716, 0.7037037 ,\n",
      "       0.70617284, 0.7037037 , 0.70864198, 0.71851852, 0.71111111,\n",
      "       0.69876543, 0.70864198, 0.72098765, 0.71111111, 0.70123457,\n",
      "       0.71111111, 0.71851852, 0.69876543, 0.6962963 , 0.70123457,\n",
      "       0.71604938, 0.69382716, 0.69135802, 0.69382716, 0.7037037 ,\n",
      "       0.67901235, 0.68148148, 0.68641975, 0.6962963 , 0.6962963 ,\n",
      "       0.69382716, 0.69876543, 0.6962963 , 0.68395062, 0.69382716,\n",
      "       0.70864198, 0.71358025, 0.69135802, 0.68641975, 0.70123457,\n",
      "       0.62716049, 0.62716049, 0.62716049, 0.62716049, 0.66666667,\n",
      "       0.66666667, 0.66666667, 0.66666667, 0.67654321, 0.67654321,\n",
      "       0.67654321, 0.67654321, 0.66419753, 0.66666667, 0.66666667,\n",
      "       0.67160494, 0.67160494, 0.67654321, 0.67407407, 0.67901235,\n",
      "       0.68888889, 0.69876543, 0.69135802, 0.69382716, 0.70617284,\n",
      "       0.70864198, 0.70123457, 0.70864198, 0.70864198, 0.70864198,\n",
      "       0.7037037 , 0.70864198, 0.71358025, 0.70617284, 0.69876543,\n",
      "       0.71111111, 0.70617284, 0.7037037 , 0.6962963 , 0.70123457,\n",
      "       0.69876543, 0.68888889, 0.68888889, 0.69382716, 0.69382716,\n",
      "       0.67654321, 0.68148148, 0.68641975, 0.69135802, 0.69135802,\n",
      "       0.6962963 , 0.69876543, 0.67407407, 0.68148148, 0.6962963 ,\n",
      "       0.70864198, 0.7037037 , 0.68888889, 0.68888889, 0.7037037 ]), 'split9_test_score': array([0.61234568, 0.61234568, 0.61234568, 0.61234568, 0.67407407,\n",
      "       0.67407407, 0.67407407, 0.67407407, 0.6962963 , 0.6962963 ,\n",
      "       0.6962963 , 0.6962963 , 0.68395062, 0.68641975, 0.68888889,\n",
      "       0.68888889, 0.68148148, 0.68395062, 0.68641975, 0.68395062,\n",
      "       0.68395062, 0.69382716, 0.69876543, 0.6962963 , 0.69382716,\n",
      "       0.70864198, 0.71358025, 0.71604938, 0.68641975, 0.70617284,\n",
      "       0.70864198, 0.71604938, 0.68148148, 0.69382716, 0.70123457,\n",
      "       0.7037037 , 0.67901235, 0.68888889, 0.7037037 , 0.7037037 ,\n",
      "       0.66666667, 0.67901235, 0.68641975, 0.68641975, 0.64444444,\n",
      "       0.68641975, 0.68641975, 0.68641975, 0.64691358, 0.68148148,\n",
      "       0.68148148, 0.67901235, 0.64938272, 0.6691358 , 0.67160494,\n",
      "       0.67160494, 0.62222222, 0.65432099, 0.68148148, 0.67901235,\n",
      "       0.61234568, 0.61234568, 0.61234568, 0.61234568, 0.67407407,\n",
      "       0.67407407, 0.67407407, 0.67407407, 0.6962963 , 0.6962963 ,\n",
      "       0.6962963 , 0.6962963 , 0.68888889, 0.68888889, 0.68888889,\n",
      "       0.68888889, 0.68148148, 0.68641975, 0.68641975, 0.68641975,\n",
      "       0.68641975, 0.70617284, 0.70617284, 0.69876543, 0.6962963 ,\n",
      "       0.71851852, 0.71111111, 0.71851852, 0.69876543, 0.72839506,\n",
      "       0.71604938, 0.72098765, 0.6962963 , 0.70864198, 0.7037037 ,\n",
      "       0.71111111, 0.68148148, 0.7037037 , 0.7037037 , 0.71111111,\n",
      "       0.67901235, 0.68888889, 0.68641975, 0.69382716, 0.6617284 ,\n",
      "       0.70123457, 0.69135802, 0.69382716, 0.66419753, 0.70123457,\n",
      "       0.69135802, 0.69382716, 0.64938272, 0.68888889, 0.67901235,\n",
      "       0.68641975, 0.62222222, 0.67654321, 0.67407407, 0.69135802]), 'mean_test_score': array([0.6108046 , 0.6108046 , 0.6108046 , 0.6108046 , 0.67249894,\n",
      "       0.67249894, 0.67249894, 0.67249894, 0.69199842, 0.69199842,\n",
      "       0.69199842, 0.69199842, 0.68632001, 0.68681202, 0.68755276,\n",
      "       0.68878733, 0.6924886 , 0.69051207, 0.69248799, 0.69495469,\n",
      "       0.69150824, 0.6907675 , 0.69249285, 0.69495956, 0.69521316,\n",
      "       0.69916013, 0.70088548, 0.70310527, 0.69594964, 0.69890957,\n",
      "       0.70013927, 0.70359423, 0.69520525, 0.69866083, 0.70087697,\n",
      "       0.70408685, 0.68805388, 0.69249529, 0.7006331 , 0.70359363,\n",
      "       0.67768777, 0.69150885, 0.69495408, 0.6988974 , 0.67348477,\n",
      "       0.69125707, 0.694456  , 0.69791157, 0.67324333, 0.68952928,\n",
      "       0.69470352, 0.69988749, 0.66979079, 0.68361187, 0.69519917,\n",
      "       0.69939731, 0.66337469, 0.68657058, 0.69495165, 0.69890288,\n",
      "       0.6108046 , 0.6108046 , 0.6108046 , 0.6108046 , 0.67249894,\n",
      "       0.67249894, 0.67249894, 0.67249894, 0.68928906, 0.68928906,\n",
      "       0.68928906, 0.68928906, 0.68927994, 0.68755154, 0.68755154,\n",
      "       0.68878611, 0.69125768, 0.68928359, 0.69249042, 0.69520404,\n",
      "       0.69545338, 0.6957003 , 0.69323542, 0.6947169 , 0.69940461,\n",
      "       0.70434045, 0.69446938, 0.70113422, 0.69249894, 0.69965213,\n",
      "       0.69940096, 0.70458554, 0.69496564, 0.69545582, 0.69322751,\n",
      "       0.70039105, 0.69101624, 0.69471568, 0.6919972 , 0.69965213,\n",
      "       0.68780879, 0.69520525, 0.68582375, 0.69619048, 0.67744207,\n",
      "       0.68534087, 0.68582132, 0.69495652, 0.68138965, 0.68681871,\n",
      "       0.6877942 , 0.69742565, 0.6727495 , 0.68410144, 0.68483549,\n",
      "       0.70063553, 0.67028097, 0.68434653, 0.68483367, 0.69915405]), 'std_test_score': array([0.01930968, 0.01930968, 0.01930968, 0.01930968, 0.0164587 ,\n",
      "       0.0164587 , 0.0164587 , 0.0164587 , 0.01788792, 0.01788792,\n",
      "       0.01788792, 0.01788792, 0.01838262, 0.01896143, 0.01881857,\n",
      "       0.0182914 , 0.01650138, 0.02069583, 0.01967895, 0.01877619,\n",
      "       0.00962491, 0.01220457, 0.01303452, 0.01114787, 0.01028069,\n",
      "       0.01463805, 0.01225048, 0.00968951, 0.01307303, 0.01343408,\n",
      "       0.01486257, 0.01424164, 0.0178884 , 0.01363229, 0.01800132,\n",
      "       0.01617127, 0.0171561 , 0.01455929, 0.02072252, 0.01837656,\n",
      "       0.0163103 , 0.01791069, 0.02432354, 0.02168712, 0.02317711,\n",
      "       0.01322731, 0.02671122, 0.02168288, 0.02193532, 0.01493718,\n",
      "       0.02596504, 0.0231562 , 0.02134127, 0.01083154, 0.02662377,\n",
      "       0.01941247, 0.02764138, 0.01641194, 0.02840078, 0.02151352,\n",
      "       0.01930968, 0.01930968, 0.01930968, 0.01930968, 0.0164587 ,\n",
      "       0.0164587 , 0.0164587 , 0.0164587 , 0.01913063, 0.01913063,\n",
      "       0.01913063, 0.01913063, 0.01843857, 0.01857556, 0.01857556,\n",
      "       0.01804138, 0.01581943, 0.01794686, 0.01967722, 0.01834679,\n",
      "       0.0101101 , 0.01399521, 0.01264852, 0.01005067, 0.00976617,\n",
      "       0.0136227 , 0.01615159, 0.01214029, 0.01280161, 0.01577621,\n",
      "       0.01565153, 0.01154039, 0.00876359, 0.01161789, 0.01480817,\n",
      "       0.00993199, 0.01732941, 0.00946213, 0.01492281, 0.01052696,\n",
      "       0.0102385 , 0.00893743, 0.02012468, 0.01567057, 0.01661503,\n",
      "       0.01214331, 0.02049991, 0.01675669, 0.01139675, 0.01564026,\n",
      "       0.02239259, 0.01782801, 0.01535992, 0.01616841, 0.01742603,\n",
      "       0.01625923, 0.02553704, 0.01636801, 0.02162963, 0.0180269 ]), 'rank_test_score': array([113, 113, 113, 113, 102, 102, 102, 102,  57,  57,  57,  57,  87,\n",
      "        85,  81,  76,  55,  68,  56,  41,  63,  67,  53,  39,  33,  20,\n",
      "         8,   6,  29,  22,  13,   4,  35,  25,   9,   3,  78,  52,  11,\n",
      "         5,  97,  62,  42,  24,  99,  65,  48,  26, 100,  69,  46,  14,\n",
      "       111,  95,  37,  19, 112,  86,  43,  23, 113, 113, 113, 113, 102,\n",
      "       102, 102, 102,  70,  70,  70,  70,  75,  82,  82,  77,  64,  74,\n",
      "        54,  36,  32,  30,  49,  44,  17,   2,  47,   7,  51,  15,  18,\n",
      "         1,  38,  31,  50,  12,  66,  45,  61,  15,  79,  34,  88,  28,\n",
      "        98,  90,  89,  40,  96,  84,  80,  27, 101,  94,  91,  10, 110,\n",
      "        93,  92,  21], dtype=int32), 'split0_train_score': array([0.61135491, 0.61135491, 0.61135491, 0.61135491, 0.67196928,\n",
      "       0.67196928, 0.67196928, 0.67196928, 0.69555677, 0.69555677,\n",
      "       0.69555677, 0.69555677, 0.69583105, 0.69555677, 0.69555677,\n",
      "       0.69555677, 0.71667581, 0.71503017, 0.71311026, 0.71173889,\n",
      "       0.73505211, 0.7290181 , 0.72325837, 0.72106418, 0.74465167,\n",
      "       0.73230938, 0.72709819, 0.72462973, 0.7526056 , 0.73998903,\n",
      "       0.73285793, 0.73203511, 0.76083379, 0.74602304, 0.73779484,\n",
      "       0.73889194, 0.77015908, 0.7556226 , 0.74574877, 0.74273176,\n",
      "       0.78332419, 0.76439934, 0.75013714, 0.74794295, 0.79210093,\n",
      "       0.77317608, 0.75425123, 0.7484915 , 0.80197477, 0.78030719,\n",
      "       0.75863961, 0.75123423, 0.81130005, 0.78195283, 0.76001097,\n",
      "       0.75425123, 0.81843116, 0.78661547, 0.76165661, 0.75425123,\n",
      "       0.61135491, 0.61135491, 0.61135491, 0.61135491, 0.67196928,\n",
      "       0.67196928, 0.67196928, 0.67196928, 0.67635765, 0.67635765,\n",
      "       0.67635765, 0.67635765, 0.69500823, 0.69500823, 0.69500823,\n",
      "       0.69500823, 0.71557872, 0.71228744, 0.71146462, 0.71091607,\n",
      "       0.72956665, 0.72462973, 0.72133845, 0.72133845, 0.7361492 ,\n",
      "       0.72709819, 0.72462973, 0.724904  , 0.74712013, 0.73669775,\n",
      "       0.73038947, 0.73230938, 0.75095996, 0.73944048, 0.73395502,\n",
      "       0.73916621, 0.76165661, 0.75178278, 0.74300603, 0.74355458,\n",
      "       0.77729018, 0.75809106, 0.74821722, 0.74821722, 0.78661547,\n",
      "       0.76906199, 0.75233132, 0.74904004, 0.79923204, 0.77783873,\n",
      "       0.75644542, 0.75205705, 0.80554032, 0.78167855, 0.76001097,\n",
      "       0.75479978, 0.81020296, 0.78771256, 0.7627537 , 0.75425123]), 'split1_train_score': array([0.60806363, 0.60806363, 0.60806363, 0.60806363, 0.66922655,\n",
      "       0.66922655, 0.66922655, 0.66922655, 0.69308832, 0.69308832,\n",
      "       0.69308832, 0.69308832, 0.69473396, 0.69473396, 0.69391114,\n",
      "       0.69391114, 0.71585299, 0.71338453, 0.71091607, 0.71091607,\n",
      "       0.72243555, 0.71667581, 0.71420735, 0.71338453, 0.74081185,\n",
      "       0.73477784, 0.73121229, 0.72984092, 0.75370269, 0.74355458,\n",
      "       0.73779484, 0.73587493, 0.76193088, 0.74931432, 0.74163467,\n",
      "       0.73697202, 0.77591882, 0.75918815, 0.74904004, 0.74081185,\n",
      "       0.78661547, 0.76494789, 0.75425123, 0.74465167, 0.79840922,\n",
      "       0.76796489, 0.75617115, 0.74547449, 0.80499177, 0.77235326,\n",
      "       0.75891388, 0.74821722, 0.80855732, 0.77591882, 0.76028524,\n",
      "       0.75233132, 0.81431706, 0.77948437, 0.76357652, 0.75342841,\n",
      "       0.60806363, 0.60806363, 0.60806363, 0.60806363, 0.66922655,\n",
      "       0.66922655, 0.66922655, 0.66922655, 0.6911684 , 0.6911684 ,\n",
      "       0.6911684 , 0.6911684 , 0.69473396, 0.69473396, 0.69473396,\n",
      "       0.69473396, 0.7106418 , 0.71036753, 0.71091607, 0.71091607,\n",
      "       0.71941854, 0.71859572, 0.71585299, 0.7147559 , 0.72874383,\n",
      "       0.73395502, 0.72874383, 0.72682392, 0.74684586, 0.7484915 ,\n",
      "       0.73889194, 0.73477784, 0.75946242, 0.75342841, 0.7402633 ,\n",
      "       0.73477784, 0.76961053, 0.76083379, 0.74300603, 0.7372463 ,\n",
      "       0.78167855, 0.7668678 , 0.74958859, 0.74245749, 0.79539221,\n",
      "       0.77207899, 0.75809106, 0.7473944 , 0.80608886, 0.77838727,\n",
      "       0.76083379, 0.75013714, 0.81568843, 0.78387274, 0.76247943,\n",
      "       0.75287987, 0.82857926, 0.79018102, 0.76577071, 0.75397696]), 'split2_train_score': array([0.61338086, 0.61338086, 0.61338086, 0.61338086, 0.67452701,\n",
      "       0.67452701, 0.67452701, 0.67452701, 0.69564025, 0.69564025,\n",
      "       0.69564025, 0.69564025, 0.69865643, 0.70085001, 0.70085001,\n",
      "       0.70085001, 0.71922128, 0.71949548, 0.7156567 , 0.71483411,\n",
      "       0.73567316, 0.72881821, 0.72662462, 0.72580203, 0.75102824,\n",
      "       0.74143131, 0.73676995, 0.73430217, 0.75980258, 0.74527009,\n",
      "       0.73868933, 0.73594735, 0.77268988, 0.75459282, 0.74581848,\n",
      "       0.74252811, 0.78256101, 0.76227036, 0.74883466, 0.74444749,\n",
      "       0.79243214, 0.76556073, 0.75102824, 0.74609268, 0.7973677 ,\n",
      "       0.7699479 , 0.75541541, 0.75157664, 0.80285166, 0.77488347,\n",
      "       0.75897998, 0.75404442, 0.80970661, 0.78064162, 0.76336715,\n",
      "       0.7570606 , 0.81546477, 0.7831094 , 0.76446394, 0.7570606 ,\n",
      "       0.61338086, 0.61338086, 0.61338086, 0.61338086, 0.67452701,\n",
      "       0.67452701, 0.67452701, 0.67452701, 0.69564025, 0.69564025,\n",
      "       0.69564025, 0.69564025, 0.69838223, 0.70030162, 0.70030162,\n",
      "       0.70030162, 0.71730189, 0.71730189, 0.71428571, 0.71428571,\n",
      "       0.73347957, 0.72717302, 0.72525363, 0.72525363, 0.74472169,\n",
      "       0.73759254, 0.73594735, 0.73375377, 0.75431862, 0.7428023 ,\n",
      "       0.73841514, 0.73512476, 0.76556073, 0.75185084, 0.74801206,\n",
      "       0.7430765 , 0.77214149, 0.756238  , 0.75047985, 0.74417329,\n",
      "       0.78201261, 0.76281876, 0.756238  , 0.74691527, 0.78969016,\n",
      "       0.76418974, 0.7567864 , 0.74746367, 0.79599671, 0.77131889,\n",
      "       0.76062517, 0.75047985, 0.80422265, 0.77433507, 0.76364135,\n",
      "       0.75486701, 0.81464217, 0.78091582, 0.76775432, 0.75788319]), 'split3_train_score': array([0.61283247, 0.61283247, 0.61283247, 0.61283247, 0.67644639,\n",
      "       0.67644639, 0.67644639, 0.67644639, 0.69838223, 0.69838223,\n",
      "       0.69838223, 0.69838223, 0.702221  , 0.70194681, 0.70194681,\n",
      "       0.70139841, 0.72278585, 0.71976967, 0.71976967, 0.71785029,\n",
      "       0.73347957, 0.7301892 , 0.72881821, 0.72826981, 0.75075404,\n",
      "       0.7428023 , 0.74006032, 0.73759254, 0.76254456, 0.74910886,\n",
      "       0.74554428, 0.74143131, 0.77214149, 0.756238  , 0.74938305,\n",
      "       0.74472169, 0.78091582, 0.7570606 , 0.75130244, 0.74472169,\n",
      "       0.7836578 , 0.76391555, 0.7565122 , 0.74856046, 0.79407732,\n",
      "       0.76665753, 0.75815739, 0.75020565, 0.79956128, 0.77131889,\n",
      "       0.76227036, 0.75431862, 0.80614203, 0.77707705, 0.76693172,\n",
      "       0.75870579, 0.8108034 , 0.78283521, 0.77104469, 0.76172196,\n",
      "       0.61283247, 0.61283247, 0.61283247, 0.61283247, 0.67644639,\n",
      "       0.67644639, 0.67644639, 0.67644639, 0.69838223, 0.69838223,\n",
      "       0.69838223, 0.69838223, 0.69975322, 0.69975322, 0.69975322,\n",
      "       0.69975322, 0.72031807, 0.71922128, 0.71785029, 0.7162051 ,\n",
      "       0.73183438, 0.72881821, 0.72772141, 0.72662462, 0.74883466,\n",
      "       0.7428023 , 0.73841514, 0.73622155, 0.75760899, 0.74828626,\n",
      "       0.7430765 , 0.74006032, 0.7707705 , 0.75514121, 0.74773787,\n",
      "       0.7433507 , 0.77707705, 0.7565122 , 0.75020565, 0.7433507 ,\n",
      "       0.78530299, 0.76336715, 0.75541541, 0.74718947, 0.79407732,\n",
      "       0.76583493, 0.7570606 , 0.74883466, 0.80065808, 0.77214149,\n",
      "       0.76117357, 0.75294763, 0.8108034 , 0.77762545, 0.76583493,\n",
      "       0.7573348 , 0.81683576, 0.78256101, 0.7699479 , 0.76035097]), 'split4_train_score': array([0.6078969 , 0.6078969 , 0.6078969 , 0.6078969 , 0.67205923,\n",
      "       0.67205923, 0.67205923, 0.67205923, 0.69399506, 0.69317247,\n",
      "       0.69317247, 0.69317247, 0.69947902, 0.69865643, 0.69755964,\n",
      "       0.69701124, 0.7167535 , 0.71401152, 0.71264053, 0.71318892,\n",
      "       0.73347957, 0.72881821, 0.72525363, 0.72333425, 0.7433507 ,\n",
      "       0.73567316, 0.73073759, 0.72552783, 0.75322183, 0.7428023 ,\n",
      "       0.73676995, 0.73265698, 0.76638333, 0.75239923, 0.74746367,\n",
      "       0.73978613, 0.77351248, 0.75514121, 0.74883466, 0.74060872,\n",
      "       0.78283521, 0.76254456, 0.75377022, 0.74554428, 0.79407732,\n",
      "       0.76775432, 0.75760899, 0.74856046, 0.80312586, 0.77296408,\n",
      "       0.75760899, 0.74993145, 0.8105292 , 0.77543186, 0.76035097,\n",
      "       0.75102824, 0.82094872, 0.78502879, 0.76336715, 0.75431862,\n",
      "       0.6078969 , 0.6078969 , 0.6078969 , 0.6078969 , 0.67205923,\n",
      "       0.67205923, 0.67205923, 0.67205923, 0.69317247, 0.69317247,\n",
      "       0.69317247, 0.69317247, 0.69646285, 0.69755964, 0.69755964,\n",
      "       0.69701124, 0.71318892, 0.71291472, 0.71264053, 0.71209213,\n",
      "       0.73073759, 0.72580203, 0.72360845, 0.72223746, 0.73841514,\n",
      "       0.73293118, 0.73073759, 0.72443104, 0.74993145, 0.7433507 ,\n",
      "       0.73896353, 0.73156019, 0.76062517, 0.75047985, 0.74499589,\n",
      "       0.73704415, 0.7699479 , 0.756238  , 0.74910886, 0.73978613,\n",
      "       0.77680285, 0.76446394, 0.75404442, 0.74636688, 0.78530299,\n",
      "       0.76830271, 0.75596381, 0.74883466, 0.79380313, 0.76885111,\n",
      "       0.75843159, 0.75102824, 0.80394845, 0.77406087, 0.76199616,\n",
      "       0.75267343, 0.81546477, 0.78036743, 0.76473814, 0.75596381]), 'split5_train_score': array([0.61173567, 0.61173567, 0.61173567, 0.61173567, 0.67233342,\n",
      "       0.67233342, 0.67233342, 0.67233342, 0.69481766, 0.69481766,\n",
      "       0.69481766, 0.69481766, 0.69893063, 0.69865643, 0.69755964,\n",
      "       0.69755964, 0.72004387, 0.7167535 , 0.71455991, 0.71346312,\n",
      "       0.73265698, 0.72662462, 0.72360845, 0.72223746, 0.74664107,\n",
      "       0.73676995, 0.73347957, 0.73128599, 0.75514121, 0.7428023 ,\n",
      "       0.73704415, 0.73293118, 0.76912531, 0.75047985, 0.74225391,\n",
      "       0.73676995, 0.77433507, 0.75486701, 0.74554428, 0.73759254,\n",
      "       0.78119002, 0.75980258, 0.74828626, 0.74088292, 0.79215794,\n",
      "       0.76364135, 0.75047985, 0.74472169, 0.80257746, 0.7696737 ,\n",
      "       0.75568961, 0.74691527, 0.80860982, 0.77323828, 0.75760899,\n",
      "       0.74965725, 0.82040033, 0.77954483, 0.76254456, 0.75212503,\n",
      "       0.61173567, 0.61173567, 0.61173567, 0.61173567, 0.67233342,\n",
      "       0.67233342, 0.67233342, 0.67233342, 0.69481766, 0.69481766,\n",
      "       0.69481766, 0.69481766, 0.69783384, 0.69755964, 0.69755964,\n",
      "       0.69755964, 0.71757609, 0.71455991, 0.71346312, 0.71346312,\n",
      "       0.73210858, 0.72470524, 0.72223746, 0.72223746, 0.7430765 ,\n",
      "       0.73676995, 0.73375377, 0.73128599, 0.75294763, 0.74417329,\n",
      "       0.73731834, 0.73375377, 0.76364135, 0.75157664, 0.74417329,\n",
      "       0.73923773, 0.7699479 , 0.75431862, 0.74527009, 0.73978613,\n",
      "       0.77460927, 0.75760899, 0.74828626, 0.7428023 , 0.78146422,\n",
      "       0.76227036, 0.74993145, 0.7430765 , 0.78886756, 0.76775432,\n",
      "       0.75294763, 0.74801206, 0.79928709, 0.77296408, 0.75760899,\n",
      "       0.75102824, 0.80970661, 0.77652865, 0.76254456, 0.75431862]), 'split6_train_score': array([0.61420345, 0.61420345, 0.61420345, 0.61420345, 0.67178503,\n",
      "       0.67178503, 0.67178503, 0.67178503, 0.69289827, 0.69289827,\n",
      "       0.69289827, 0.69289827, 0.69564025, 0.69509186, 0.69509186,\n",
      "       0.69509186, 0.71730189, 0.71209213, 0.71209213, 0.71126954,\n",
      "       0.7293666 , 0.72580203, 0.72388264, 0.72223746, 0.74746367,\n",
      "       0.73704415, 0.73567316, 0.73539896, 0.75322183, 0.74554428,\n",
      "       0.74060872, 0.73731834, 0.76418974, 0.75020565, 0.74554428,\n",
      "       0.74060872, 0.77104469, 0.75212503, 0.74636688, 0.74115712,\n",
      "       0.77927063, 0.7573348 , 0.75157664, 0.74499589, 0.78777077,\n",
      "       0.76117357, 0.75596381, 0.74883466, 0.79435152, 0.76857691,\n",
      "       0.76227036, 0.75377022, 0.80504524, 0.76912531, 0.76446394,\n",
      "       0.75431862, 0.80943241, 0.77515766, 0.76665753, 0.756238  ,\n",
      "       0.61420345, 0.61420345, 0.61420345, 0.61420345, 0.67178503,\n",
      "       0.67178503, 0.67178503, 0.67178503, 0.69289827, 0.69289827,\n",
      "       0.69289827, 0.69289827, 0.69509186, 0.69509186, 0.69509186,\n",
      "       0.69509186, 0.71702769, 0.71264053, 0.71099534, 0.71099534,\n",
      "       0.729915  , 0.72497944, 0.72251165, 0.72251165, 0.73868933,\n",
      "       0.73183438, 0.7290924 , 0.72881821, 0.75047985, 0.74225391,\n",
      "       0.74197971, 0.73951193, 0.76391555, 0.75157664, 0.7430765 ,\n",
      "       0.73951193, 0.77625446, 0.75815739, 0.7436249 , 0.74006032,\n",
      "       0.78557719, 0.76199616, 0.75102824, 0.74417329, 0.79325473,\n",
      "       0.76665753, 0.75541541, 0.74801206, 0.79928709, 0.77268988,\n",
      "       0.76172196, 0.75349602, 0.8105292 , 0.77598026, 0.76391555,\n",
      "       0.75404442, 0.81601316, 0.78256101, 0.76583493, 0.75596381]), 'split7_train_score': array([0.60899369, 0.60899369, 0.60899369, 0.60899369, 0.67123663,\n",
      "       0.67123663, 0.67123663, 0.67123663, 0.69180148, 0.69180148,\n",
      "       0.69180148, 0.69180148, 0.70688237, 0.70825336, 0.70743077,\n",
      "       0.70743077, 0.71538251, 0.71510831, 0.71373732, 0.71044694,\n",
      "       0.73567316, 0.7290924 , 0.72580203, 0.72196326, 0.74856046,\n",
      "       0.73923773, 0.73347957, 0.7296408 , 0.75897998, 0.74527009,\n",
      "       0.73951193, 0.73238278, 0.77186729, 0.75349602, 0.74444749,\n",
      "       0.73622155, 0.77899644, 0.75980258, 0.74773787, 0.73868933,\n",
      "       0.78941596, 0.75925418, 0.74773787, 0.73868933, 0.79298053,\n",
      "       0.76007678, 0.74801206, 0.73868933, 0.7976419 , 0.76610913,\n",
      "       0.75130244, 0.74225391, 0.80394845, 0.76857691, 0.75349602,\n",
      "       0.74225391, 0.81162599, 0.7699479 , 0.75404442, 0.74499589,\n",
      "       0.60899369, 0.60899369, 0.60899369, 0.60899369, 0.67123663,\n",
      "       0.67123663, 0.67123663, 0.67123663, 0.69180148, 0.69180148,\n",
      "       0.69180148, 0.69180148, 0.69317247, 0.69454346, 0.69454346,\n",
      "       0.69454346, 0.71291472, 0.71264053, 0.71291472, 0.70989855,\n",
      "       0.73210858, 0.72854401, 0.72607623, 0.72141486, 0.7433507 ,\n",
      "       0.73868933, 0.73512476, 0.7290924 , 0.75349602, 0.74554428,\n",
      "       0.74088292, 0.73183438, 0.76528654, 0.75377022, 0.74691527,\n",
      "       0.73567316, 0.77515766, 0.756238  , 0.74938305, 0.73814094,\n",
      "       0.7833836 , 0.76364135, 0.75047985, 0.73814094, 0.78914176,\n",
      "       0.76309295, 0.75047985, 0.73814094, 0.79133534, 0.76501234,\n",
      "       0.75404442, 0.74170551, 0.79846449, 0.77186729, 0.75760899,\n",
      "       0.74170551, 0.80860982, 0.77268988, 0.75843159, 0.74444749]), 'split8_train_score': array([0.60899369, 0.60899369, 0.60899369, 0.60899369, 0.67315602,\n",
      "       0.67315602, 0.67315602, 0.67315602, 0.69618865, 0.69618865,\n",
      "       0.69618865, 0.69618865, 0.69838223, 0.69975322, 0.69975322,\n",
      "       0.69865643, 0.71812449, 0.71922128, 0.71428571, 0.71318892,\n",
      "       0.73320537, 0.7293666 , 0.72306005, 0.72141486, 0.74691527,\n",
      "       0.73649575, 0.7296408 , 0.72854401, 0.75760899, 0.73951193,\n",
      "       0.73430217, 0.7296408 , 0.76610913, 0.74801206, 0.74060872,\n",
      "       0.73512476, 0.77488347, 0.75157664, 0.74143131, 0.73539896,\n",
      "       0.78119002, 0.7565122 , 0.74691527, 0.74006032, 0.79243214,\n",
      "       0.76309295, 0.75075404, 0.7438991 , 0.7979161 , 0.76665753,\n",
      "       0.75541541, 0.74609268, 0.80833562, 0.76912531, 0.75596381,\n",
      "       0.74636688, 0.81436797, 0.77488347, 0.76007678, 0.75020565,\n",
      "       0.60899369, 0.60899369, 0.60899369, 0.60899369, 0.67315602,\n",
      "       0.67315602, 0.67315602, 0.67315602, 0.69618865, 0.69618865,\n",
      "       0.69618865, 0.69618865, 0.69755964, 0.69975322, 0.69975322,\n",
      "       0.69865643, 0.71839868, 0.71922128, 0.71428571, 0.71318892,\n",
      "       0.73183438, 0.73046339, 0.72360845, 0.72141486, 0.74773787,\n",
      "       0.73759254, 0.7293666 , 0.72854401, 0.75541541, 0.74033452,\n",
      "       0.73402797, 0.7296408 , 0.76418974, 0.74883466, 0.74143131,\n",
      "       0.73512476, 0.7707705 , 0.75377022, 0.74170551, 0.73539896,\n",
      "       0.77872224, 0.75870579, 0.74581848, 0.74006032, 0.78694818,\n",
      "       0.76501234, 0.75047985, 0.7438991 , 0.79846449, 0.77104469,\n",
      "       0.75596381, 0.74609268, 0.80614203, 0.77323828, 0.7565122 ,\n",
      "       0.74636688, 0.81683576, 0.77735125, 0.76062517, 0.75020565]), 'split9_train_score': array([0.61063888, 0.61063888, 0.61063888, 0.61063888, 0.67233342,\n",
      "       0.67233342, 0.67233342, 0.67233342, 0.69399506, 0.69399506,\n",
      "       0.69399506, 0.69399506, 0.69893063, 0.69865643, 0.69783384,\n",
      "       0.69783384, 0.71730189, 0.7164793 , 0.7156567 , 0.71510831,\n",
      "       0.7296408 , 0.72662462, 0.72497944, 0.72278585, 0.7438991 ,\n",
      "       0.73704415, 0.73210858, 0.72826981, 0.75404442, 0.74472169,\n",
      "       0.73704415, 0.73320537, 0.76693172, 0.75047985, 0.74499589,\n",
      "       0.73896353, 0.77159309, 0.75239923, 0.74554428, 0.73896353,\n",
      "       0.77927063, 0.76007678, 0.74965725, 0.7430765 , 0.78694818,\n",
      "       0.76391555, 0.75185084, 0.74499589, 0.79407732, 0.76610913,\n",
      "       0.75404442, 0.74801206, 0.80285166, 0.77570606, 0.76144777,\n",
      "       0.75486701, 0.810255  , 0.77762545, 0.76336715, 0.7573348 ,\n",
      "       0.61063888, 0.61063888, 0.61063888, 0.61063888, 0.67233342,\n",
      "       0.67233342, 0.67233342, 0.67233342, 0.69399506, 0.69399506,\n",
      "       0.69399506, 0.69399506, 0.69783384, 0.69783384, 0.69783384,\n",
      "       0.69783384, 0.7167535 , 0.71538251, 0.71510831, 0.71483411,\n",
      "       0.73046339, 0.72525363, 0.72333425, 0.72251165, 0.74472169,\n",
      "       0.73759254, 0.73347957, 0.72799561, 0.75322183, 0.74252811,\n",
      "       0.73594735, 0.73128599, 0.76473814, 0.75185084, 0.74499589,\n",
      "       0.73841514, 0.77186729, 0.75870579, 0.74636688, 0.73841514,\n",
      "       0.77927063, 0.76583493, 0.75047985, 0.74252811, 0.78749657,\n",
      "       0.7702221 , 0.75267343, 0.74444749, 0.79654511, 0.7707705 ,\n",
      "       0.75294763, 0.74691527, 0.80257746, 0.78091582, 0.76172196,\n",
      "       0.75267343, 0.80998081, 0.7836578 , 0.76446394, 0.75788319]), 'mean_train_score': array([0.61080942, 0.61080942, 0.61080942, 0.61080942, 0.6725073 ,\n",
      "       0.6725073 , 0.6725073 , 0.6725073 , 0.69463638, 0.69455412,\n",
      "       0.69455412, 0.69455412, 0.69896876, 0.69921553, 0.69874937,\n",
      "       0.69853001, 0.71794441, 0.71613459, 0.7142425 , 0.71320051,\n",
      "       0.73206629, 0.72710298, 0.72394948, 0.72224937, 0.74640761,\n",
      "       0.73735857, 0.733026  , 0.73050328, 0.75608737, 0.74385751,\n",
      "       0.73801674, 0.73434242, 0.76722026, 0.75112408, 0.7439945 ,\n",
      "       0.73905884, 0.775392  , 0.75600534, 0.74703852, 0.7405123 ,\n",
      "       0.78392021, 0.76143486, 0.75098723, 0.7440497 , 0.7928322 ,\n",
      "       0.76574009, 0.75386648, 0.74654494, 0.79990696, 0.77089533,\n",
      "       0.75751351, 0.74947901, 0.8075026 , 0.7746794 , 0.76039266,\n",
      "       0.75208409, 0.81460468, 0.77942325, 0.76307994, 0.75416802,\n",
      "       0.61080942, 0.61080942, 0.61080942, 0.61080942, 0.6725073 ,\n",
      "       0.6725073 , 0.6725073 , 0.6725073 , 0.69244221, 0.69244221,\n",
      "       0.69244221, 0.69244221, 0.69658321, 0.69721387, 0.69721387,\n",
      "       0.69704935, 0.71597001, 0.71465376, 0.71339244, 0.71267951,\n",
      "       0.73014667, 0.72589644, 0.7231543 , 0.72203005, 0.74144406,\n",
      "       0.7356858 , 0.73192908, 0.72918705, 0.75213858, 0.74344626,\n",
      "       0.73798929, 0.73398594, 0.76291501, 0.75079498, 0.74355564,\n",
      "       0.73853781, 0.77144314, 0.75627948, 0.74621568, 0.73999125,\n",
      "       0.78046501, 0.76233959, 0.75095963, 0.74388513, 0.78893836,\n",
      "       0.76667236, 0.75392132, 0.74591435, 0.79702784, 0.77158092,\n",
      "       0.7575135 , 0.74928715, 0.80572035, 0.77665384, 0.76113305,\n",
      "       0.75183734, 0.81468711, 0.78145264, 0.7642865 , 0.75452449]), 'std_train_score': array([0.00214534, 0.00214534, 0.00214534, 0.00214534, 0.00182939,\n",
      "       0.00182939, 0.00182939, 0.00182939, 0.0018057 , 0.0018512 ,\n",
      "       0.0018512 , 0.0018512 , 0.00335805, 0.00378836, 0.00376375,\n",
      "       0.0037226 , 0.00210478, 0.00255389, 0.00233334, 0.00216018,\n",
      "       0.0038275 , 0.00372873, 0.00365175, 0.00362078, 0.00310382,\n",
      "       0.0029332 , 0.00356208, 0.00398162, 0.00324779, 0.00267072,\n",
      "       0.00331628, 0.00318476, 0.00399157, 0.00293412, 0.00326353,\n",
      "       0.00283183, 0.00400998, 0.00338787, 0.00259132, 0.00281138,\n",
      "       0.00411906, 0.00309588, 0.00293597, 0.00314315, 0.0034086 ,\n",
      "       0.00387963, 0.00322753, 0.00356923, 0.00361049, 0.0042628 ,\n",
      "       0.00330128, 0.003741  , 0.00271337, 0.00445386, 0.00379976,\n",
      "       0.00471626, 0.00397934, 0.00490119, 0.00414169, 0.00429326,\n",
      "       0.00214534, 0.00214534, 0.00214534, 0.00214534, 0.00182939,\n",
      "       0.00182939, 0.00182939, 0.00182939, 0.00573662, 0.00573662,\n",
      "       0.00573662, 0.00573662, 0.00192715, 0.00213783, 0.00213783,\n",
      "       0.00202452, 0.0027659 , 0.0029048 , 0.00202005, 0.00194062,\n",
      "       0.00374747, 0.00309225, 0.00303494, 0.00293598, 0.00572812,\n",
      "       0.00413415, 0.00391944, 0.003511  , 0.00331522, 0.00334252,\n",
      "       0.00360819, 0.0033001 , 0.00490813, 0.00413516, 0.00401151,\n",
      "       0.0028607 , 0.00416429, 0.00246122, 0.00317931, 0.0027585 ,\n",
      "       0.00352379, 0.00306539, 0.00317293, 0.00312709, 0.0040965 ,\n",
      "       0.00303333, 0.00292483, 0.0033243 , 0.00466902, 0.00391516,\n",
      "       0.00331554, 0.00344819, 0.0050777 , 0.00396502, 0.00294101,\n",
      "       0.00434474, 0.00555505, 0.00491945, 0.00319347, 0.00425756])}\n"
     ]
    }
   ],
   "source": [
    "from sklearn.model_selection import GridSearchCV\n",
    "\n",
    "# grid search CV\n",
    "params = {'criterion': ['gini', 'entropy'],\n",
    "          'max_depth': range(1, 16),\n",
    "          'min_samples_leaf': range(0, 25, 5)[1:]}\n",
    "\n",
    "cv_1 = GridSearchCV(param_grid=params, estimator=DecisionTreeClassifier(random_state=rs),return_train_score=True, cv=10)\n",
    "cv_1.fit(X_train, y_train) \n",
    "\n",
    "result_set = cv_1.cv_results_\n",
    "print(result_set)\n"
   ]
  },
  {
   "cell_type": "code",
   "execution_count": 15,
   "metadata": {},
   "outputs": [
    {
     "name": "stdout",
     "output_type": "stream",
     "text": [
      "{'criterion': 'entropy', 'max_depth': 8, 'min_samples_leaf': 20}\n"
     ]
    }
   ],
   "source": [
    "# find the best 🥇\n",
    "\n",
    "print(cv_1.best_params_)"
   ]
  },
  {
   "cell_type": "markdown",
   "metadata": {},
   "source": [
    "\n",
    "### Task 3-a. What is the classification accuracy of training and test datasets?"
   ]
  },
  {
   "cell_type": "code",
   "execution_count": 16,
   "metadata": {},
   "outputs": [
    {
     "name": "stdout",
     "output_type": "stream",
     "text": [
      "Train accuracy: 0.7342053307008884\n",
      "Test accuracy: 0.7058146229130685\n"
     ]
    }
   ],
   "source": [
    "print(\"Train accuracy:\", cv_1.score(X_train, y_train))\n",
    "print(\"Test accuracy:\", cv_1.score(X_test, y_test))"
   ]
  },
  {
   "cell_type": "markdown",
   "metadata": {},
   "source": [
    "\n",
    "### Task 3-b. What is the size of the tree (i.e. the number of nodes and rules)?"
   ]
  },
  {
   "cell_type": "code",
   "execution_count": 17,
   "metadata": {},
   "outputs": [],
   "source": [
    "optimal_model = cv_1.best_estimator_"
   ]
  },
  {
   "cell_type": "code",
   "execution_count": 18,
   "metadata": {},
   "outputs": [
    {
     "data": {
      "text/plain": [
       "143"
      ]
     },
     "execution_count": 18,
     "metadata": {},
     "output_type": "execute_result"
    }
   ],
   "source": [
    "optimal_model.tree_.node_count"
   ]
  },
  {
   "cell_type": "code",
   "execution_count": 19,
   "metadata": {},
   "outputs": [
    {
     "data": {
      "text/plain": [
       "72"
      ]
     },
     "execution_count": 19,
     "metadata": {},
     "output_type": "execute_result"
    }
   ],
   "source": [
    "# ruless\n",
    "optimal_model.tree_.n_leaves"
   ]
  },
  {
   "cell_type": "markdown",
   "metadata": {},
   "source": [
    "\n",
    "### Task 3-c. Which variable is used for the first split?"
   ]
  },
  {
   "cell_type": "code",
   "execution_count": 20,
   "metadata": {},
   "outputs": [
    {
     "data": {
      "text/plain": [
       "'income_high'"
      ]
     },
     "execution_count": 20,
     "metadata": {},
     "output_type": "execute_result"
    }
   ],
   "source": [
    "index_of_first_split = optimal_model.tree_.feature[0]\n",
    "X.columns[index_of_first_split]"
   ]
  },
  {
   "cell_type": "markdown",
   "metadata": {},
   "source": [
    "👉🏻 Answer: **income high** still ! 😎"
   ]
  },
  {
   "cell_type": "markdown",
   "metadata": {},
   "source": [
    "\n",
    "### Task 3-d. What are the 5 important variables (in the order) in building the tree?"
   ]
  },
  {
   "cell_type": "code",
   "execution_count": 21,
   "metadata": {},
   "outputs": [
    {
     "name": "stdout",
     "output_type": "stream",
     "text": [
      "income_high : 0.3555254289764614\n",
      "worried : 0.17058832010549724\n",
      "contacts_count : 0.11639389957741678\n",
      "weight : 0.069075079563171\n",
      "insurance_no : 0.03432621115864898\n"
     ]
    }
   ],
   "source": [
    "# grab feature importances from the model and feature name from the original X\n",
    "importances = optimal_model.feature_importances_\n",
    "feature_names = X.columns\n",
    "\n",
    "# sort them out in descending order\n",
    "indices = np.argsort(importances)\n",
    "indices = np.flip(indices, axis=0)\n",
    "\n",
    "# limit to 20 features, you can leave this out to print out everything\n",
    "indices = indices[:5]\n",
    "\n",
    "for i in indices:\n",
    "    print(feature_names[i], ':', importances[i])"
   ]
  },
  {
   "cell_type": "markdown",
   "metadata": {},
   "source": [
    "\n",
    "### Task 3-e. Report if you see any sign of model overfitting."
   ]
  },
  {
   "cell_type": "code",
   "execution_count": 22,
   "metadata": {},
   "outputs": [
    {
     "data": {
      "image/png": "[encoded data removed]",
      "text/plain": [
       "<Figure size 640x480 with 1 Axes>"
      ]
     },
     "metadata": {},
     "output_type": "display_data"
    }
   ],
   "source": [
    "# result_set: refer to the best result from the \n",
    "\n",
    "train_result = result_set['mean_train_score']\n",
    "test_result = result_set['mean_test_score']\n",
    "\n",
    "max_depth_train = []\n",
    "max_depth_test = []\n",
    "\n",
    "dd = pd.DataFrame(result_set['params'])\n",
    "index_ = list(dd.index[(dd['criterion']=='entropy') & (dd['min_samples_leaf']==20)])\n",
    "for i in range(len(index_)):\n",
    "    max_depth_train.append(train_result[index_[i]])\n",
    "    max_depth_test.append(test_result[index_[i]])\n",
    "plt.plot(range(1, len(max_depth_train)+1), max_depth_train, 'b', range(1,len(max_depth_test)+1), max_depth_test, 'r')\n",
    "plt.xlabel('Maximum depth (model complexity)\\nBlue = training acc. Red = test acc.')\n",
    "plt.xticks(np.arange(1, len(max_depth_train)+1, 1))\n",
    "plt.ylabel('score')\n",
    "plt.show()"
   ]
  },
  {
   "cell_type": "markdown",
   "metadata": {},
   "source": [
    "We plot this graph to show the model accuracy as the tree grows. The plot indicates that as the tree grows deeper, the model is more likely to overfit. Before reaching the maximun depth of 3, the model is learning good patterns and relationships from the data. However, starting from maximun depth of 4 (until 15), the training accuracy increases gradually to over 75% while the testing accuracy remains stable at around 70%. This pattern suggests clear signs of model overfitting."
   ]
  },
  {
   "cell_type": "markdown",
   "metadata": {},
   "source": [
    "## Task 4\n",
    "What differences do you observe between these two decision tree models (with and without fine-tuning)? How do they compare performance-wise? Produce the ROC curve for both decision trees. Explain why those changes may have happened."
   ]
  },
  {
   "cell_type": "code",
   "execution_count": 23,
   "metadata": {},
   "outputs": [
    {
     "name": "stdout",
     "output_type": "stream",
     "text": [
      "ROC index on test for DT_default: 0.6224147522293029\n",
      "ROC index on test for DT_optimal: 0.7362124708772354\n"
     ]
    }
   ],
   "source": [
    "# calcuate ROC scores\n",
    "from sklearn.metrics import roc_auc_score\n",
    "\n",
    "y_pred_proba_dt = model.predict_proba(X_test)\n",
    "y_pred_proba_dt_cv = optimal_model.predict_proba(X_test)\n",
    "roc_index_dt = roc_auc_score(y_test, y_pred_proba_dt[:, 1])\n",
    "roc_index_dt_cv = roc_auc_score(y_test, y_pred_proba_dt_cv[:, 1])\n",
    "print(\"ROC index on test for DT_default:\", roc_index_dt)\n",
    "print(\"ROC index on test for DT_optimal:\", roc_index_dt_cv)"
   ]
  },
  {
   "cell_type": "markdown",
   "metadata": {},
   "source": [
    "From the given ROC scores*, the optimal model's score is higher than the default model's score, indicating that the optimal model has the better performance. \n",
    "\n",
    "*The higher the ROC score is, the better the model can discriminate between positive and negative instances. "
   ]
  },
  {
   "cell_type": "code",
   "execution_count": 24,
   "metadata": {},
   "outputs": [
    {
     "data": {
      "image/png": "[encoded data removed]",
      "text/plain": [
       "<Figure size 640x480 with 1 Axes>"
      ]
     },
     "metadata": {},
     "output_type": "display_data"
    }
   ],
   "source": [
    "from sklearn.metrics import roc_curve\n",
    "import matplotlib.pyplot as plt\n",
    "\n",
    "fpr_dt, tpr_dt, thresholds_dt = roc_curve(y_test, y_pred_proba_dt[:,1])\n",
    "fpr_dt_cv, tpr_dt_cv, thresholds_dt_cv = roc_curve(y_test, y_pred_proba_dt_cv[:,1])\n",
    "\n",
    "plt.plot(fpr_dt, tpr_dt, label='ROC Curve for DT_default {:.3f}'.format(roc_index_dt), color='red', lw=0.5)\n",
    "plt.plot(fpr_dt_cv, tpr_dt_cv, label='ROC Curve for DT_optimal {:.3f}'.format(roc_index_dt_cv), color='blue', lw=0.5)\n",
    "\n",
    "plt.plot([0, 1], [0, 1], color='navy', lw=0.5, linestyle='--')\n",
    "plt.xlim([0.0, 1.0])\n",
    "plt.ylim([0.0, 1.0])\n",
    "plt.xlabel('False Positive Rate')\n",
    "plt.ylabel('True Positive Rate')\n",
    "plt.title('Receiver operating characteristic example')\n",
    "plt.legend(loc=\"lower right\")\n",
    "plt.show()"
   ]
  },
  {
   "cell_type": "markdown",
   "metadata": {},
   "source": [
    "The curve the for optimal model (blue colour) shows the larger curve area compared to that of the default one. Hence, it is the better performing model."
   ]
  },
  {
   "cell_type": "markdown",
   "metadata": {},
   "source": [
    "## Task 5\n",
    "Using the better model, can you identify which individuals could potentially be \"COVID positive\"? Also, provide the general characteristics of those individuals"
   ]
  },
  {
   "cell_type": "code",
   "execution_count": 25,
   "metadata": {},
   "outputs": [
    {
     "data": {
      "text/plain": [
       "True"
      ]
     },
     "execution_count": 25,
     "metadata": {},
     "output_type": "execute_result"
    }
   ],
   "source": [
    "import pydot\n",
    "from io import StringIO\n",
    "from sklearn.tree import export_graphviz\n",
    "\n",
    "# visualize\n",
    "dotfile = StringIO()\n",
    "export_graphviz(optimal_model, out_file=dotfile, feature_names=X.columns, class_names=True, filled=True)\n",
    "graph = pydot.graph_from_dot_data(dotfile.getvalue())\n",
    "\n",
    "# # Save the graph as PNG\n",
    "graph.write_png(\"optimal_tree_colour.png\")"
   ]
  },
  {
   "cell_type": "markdown",
   "metadata": {},
   "source": [
    "![optimal tree](./optimal_tree_colour.png)"
   ]
  },
  {
   "cell_type": "markdown",
   "metadata": {},
   "source": [
    "🚨 Answer: </br>\n",
    "The general characteristics for individuals who got covid positive.\n",
    "\n",
    "- weight <= 77 kg\n",
    "- 165 cm > height <= 173 cm\n",
    "\n",
    "hopefully it is not real 😆"
   ]
  },
  {
   "cell_type": "markdown",
   "metadata": {},
   "source": []
  },
  {
   "cell_type": "markdown",
   "metadata": {},
   "source": [
    "## Save pickle 🥒 "
   ]
  },
  {
   "cell_type": "code",
   "execution_count": 27,
   "metadata": {},
   "outputs": [],
   "source": [
    "import pickle\n",
    "dt_best = cv_1\n",
    "with open('DT.pickle', 'wb') as f:\n",
    "    pickle.dump([dt_best,roc_index_dt_cv, fpr_dt_cv, tpr_dt_cv], f)"
   ]
  },
  {
   "cell_type": "code",
   "execution_count": null,
   "metadata": {},
   "outputs": [],
   "source": []
  }
 ],
 "metadata": {
  "kernelspec": {
   "display_name": "Python 3",
   "language": "python",
   "name": "python3"
  },
  "language_info": {
   "codemirror_mode": {
    "name": "ipython",
    "version": 3
   },
   "file_extension": ".py",
   "mimetype": "text/x-python",
   "name": "python",
   "nbconvert_exporter": "python",
   "pygments_lexer": "ipython3",
   "version": "3.11.5"
  }
 },
 "nbformat": 4,
 "nbformat_minor": 2
}
