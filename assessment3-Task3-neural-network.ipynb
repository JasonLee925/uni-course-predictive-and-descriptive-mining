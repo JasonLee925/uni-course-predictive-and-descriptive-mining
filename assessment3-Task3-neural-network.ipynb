{
 "cells": [
  {
   "cell_type": "code",
   "execution_count": 101,
   "metadata": {},
   "outputs": [],
   "source": [
    "import pandas as pd\n",
    "import seaborn as sns\n",
    "import numpy as np\n",
    "import matplotlib.pyplot as plt\n",
    "# import warnings\n",
    "# warnings.filterwarnings(\"ignore\")"
   ]
  },
  {
   "cell_type": "code",
   "execution_count": 102,
   "metadata": {},
   "outputs": [
    {
     "name": "stdout",
     "output_type": "stream",
     "text": [
      "<class 'pandas.core.frame.DataFrame'>\n",
      "RangeIndex: 5789 entries, 0 to 5788\n",
      "Data columns (total 13 columns):\n",
      " #   Column            Non-Null Count  Dtype  \n",
      "---  ------            --------------  -----  \n",
      " 0   gender            5789 non-null   object \n",
      " 1   age               5789 non-null   object \n",
      " 2   height            5789 non-null   int64  \n",
      " 3   weight            5789 non-null   int64  \n",
      " 4   blood_type        5789 non-null   object \n",
      " 5   insurance         5789 non-null   object \n",
      " 6   income            5789 non-null   object \n",
      " 7   smoking           5789 non-null   object \n",
      " 8   alcohol           5789 non-null   float64\n",
      " 9   contacts_count    5789 non-null   float64\n",
      " 10  working           5789 non-null   object \n",
      " 11  worried           5789 non-null   float64\n",
      " 12  covid19_positive  5789 non-null   int64  \n",
      "dtypes: float64(3), int64(3), object(7)\n",
      "memory usage: 588.1+ KB\n",
      "None\n"
     ]
    }
   ],
   "source": [
    "df = pd.read_csv('D2.csv')\n",
    "print(df.info())\n",
    "# print(df.head(10))"
   ]
  },
  {
   "cell_type": "markdown",
   "metadata": {},
   "source": [
    "# Neural Networks 🧠"
   ]
  },
  {
   "cell_type": "markdown",
   "metadata": {},
   "source": [
    "## Task 1. \n",
    "What pre-processing was required on the dataset before neural network modelling? What distribution split between training and test datasets was used?\n",
    "\n",
    "-> Same as regression"
   ]
  },
  {
   "cell_type": "markdown",
   "metadata": {},
   "source": [
    "## Task 2 \n",
    "Build a Neural Network model using the default setting. Answer the following:"
   ]
  },
  {
   "cell_type": "code",
   "execution_count": 103,
   "metadata": {},
   "outputs": [],
   "source": [
    "# Data preparation 🫃🏿\n",
    "\n",
    "# setting random state\n",
    "rs = 30678\n",
    "\n",
    "from sklearn.model_selection import train_test_split\n",
    "def data_prep(df):\n",
    "    df = pd.get_dummies(df) # one 🥵 \n",
    "    \n",
    "    y = df['covid19_positive']\n",
    "    \n",
    "    X = df.drop(['covid19_positive'], axis=1)    \n",
    "    \n",
    "    X_mat = X.to_numpy()\n",
    "\n",
    "    X_train, X_test, y_train, y_test = train_test_split(X_mat, y, test_size=0.3, stratify=y, random_state=rs)\n",
    "    return df,X,y,X_train, X_test, y_train, y_test\n",
    "\n",
    "df,X,y,X_train, X_test, y_train, y_test = data_prep(df)\n",
    "\n"
   ]
  },
  {
   "cell_type": "code",
   "execution_count": 104,
   "metadata": {},
   "outputs": [
    {
     "name": "stdout",
     "output_type": "stream",
     "text": [
      "Before scaling\n",
      "-------------\n",
      "Variable #0: min 110, max 228, mean 171.90 and std dev 10.93\n",
      "Variable #1: min 44, max 180, mean 84.70 and std dev 23.34\n",
      "Variable #2: min 0.0, max 14.0, mean 2.68 and std dev 3.13\n",
      "Variable #3: min 0.0, max 21.0, mean 7.87 and std dev 6.70\n",
      "Variable #4: min 1.0, max 5.0, mean 3.64 and std dev 0.72\n",
      "After scaling\n",
      "-------------\n",
      "Variable #0: min -5.66385424611233, max 5.133102192047165, mean -0.00 and std dev 1.00\n",
      "Variable #1: min -1.7438704260112774, max 4.083751483723398, mean 0.00 and std dev 1.00\n",
      "Variable #2: min -0.8575106988353736, max 3.619697485567119, mean 0.00 and std dev 1.00\n",
      "Variable #3: min -1.173975606905906, max 1.9592280546954912, mean -0.00 and std dev 1.00\n",
      "Variable #4: min -3.676761824558861, max 1.8890321095449987, mean 0.00 and std dev 1.00\n"
     ]
    }
   ],
   "source": [
    "from sklearn.preprocessing import StandardScaler\n",
    "\n",
    "scaler = StandardScaler()\n",
    "\n",
    "print(\"Before scaling\\n-------------\")\n",
    "for i in range(5):\n",
    "    col = X_train[:,i]\n",
    "    print(\"Variable #{}: min {}, max {}, mean {:.2f} and std dev {:.2f}\".\n",
    "          format(i, min(col), max(col), np.mean(col), np.std(col)))\n",
    "\n",
    "X_train = scaler.fit_transform(X_train, y_train)\n",
    "\n",
    "print(\"After scaling\\n-------------\")\n",
    "for i in range(5):\n",
    "    col = X_train[:,i]\n",
    "    print(\"Variable #{}: min {}, max {}, mean {:.2f} and std dev {:.2f}\".\n",
    "          format(i, min(col), max(col), np.mean(col), np.std(col)))\n",
    "\n",
    "X_test = scaler.transform(X_test)"
   ]
  },
  {
   "cell_type": "code",
   "execution_count": 132,
   "metadata": {},
   "outputs": [
    {
     "name": "stdout",
     "output_type": "stream",
     "text": [
      "Train accuracy: 0.903751233958539\n",
      "Test accuracy: 0.6781807714450202\n",
      "              precision    recall  f1-score   support\n",
      "\n",
      "           0       0.72      0.74      0.73      1036\n",
      "           1       0.61      0.58      0.59       701\n",
      "\n",
      "    accuracy                           0.68      1737\n",
      "   macro avg       0.66      0.66      0.66      1737\n",
      "weighted avg       0.68      0.68      0.68      1737\n",
      "\n",
      "MLPClassifier(random_state=30678)\n"
     ]
    }
   ],
   "source": [
    "# train the default model\n",
    "\n",
    "from sklearn.neural_network import MLPClassifier\n",
    "from sklearn.metrics import classification_report, accuracy_score\n",
    "\n",
    "model_default = MLPClassifier(random_state=rs)\n",
    "model_default.fit(X_train, y_train)\n",
    "print(\"Train accuracy:\", model_default.score(X_train, y_train))\n",
    "print(\"Test accuracy:\", model_default.score(X_test, y_test))\n",
    "y_pred = model_default.predict(X_test)\n",
    "print(classification_report(y_test, y_pred))\n",
    "print(model_default)"
   ]
  },
  {
   "cell_type": "code",
   "execution_count": 133,
   "metadata": {},
   "outputs": [
    {
     "name": "stdout",
     "output_type": "stream",
     "text": [
      "Input Layer Size: 45\n",
      "Hidden Layer Sizes: 100\n",
      "Output Layer Size: 1\n"
     ]
    }
   ],
   "source": [
    "# Determine the layer sizes\n",
    "coefs = model_default.coefs_\n",
    "input_layer_size = coefs[0].shape[0]\n",
    "hidden_layer_sizes = model_default.hidden_layer_sizes[0]\n",
    "output_layer_size = coefs[-1].shape[1]\n",
    "# Print the layer sizes\n",
    "print(f\"Input Layer Size: {input_layer_size}\")\n",
    "print(f\"Hidden Layer Sizes: {hidden_layer_sizes}\")\n",
    "print(f\"Output Layer Size: {output_layer_size}\")"
   ]
  },
  {
   "cell_type": "code",
   "execution_count": 134,
   "metadata": {},
   "outputs": [
    {
     "name": "stdout",
     "output_type": "stream",
     "text": [
      "Which activation funciton is used? relu\n",
      "What is the algorithm for finding the optimal weight set? adam\n",
      "Number of iterations run: 200\n",
      "Did the training converge? False\n"
     ]
    }
   ],
   "source": [
    "print(\"Which activation funciton is used?\", model_default.activation)\n",
    "print(\"What is the algorithm for finding the optimal weight set?\", model_default.solver)\n",
    "print(\"Number of iterations run:\", model_default.n_iter_)\n",
    "print(\"Did the training converge?\", model_default.n_iter_ < model_default.max_iter)"
   ]
  },
  {
   "cell_type": "markdown",
   "metadata": {},
   "source": [
    "### Task 2-a. \n",
    "Explain the parameters used in building this model, e.g., network architecture, iterations, activation function, etc.\n",
    "\n",
    "-> network architect: 1 input layer (size: 45), 1 hidden layer(100), 1 output layer(1) </br>\n",
    "... *(refer to the code above)*"
   ]
  },
  {
   "cell_type": "markdown",
   "metadata": {},
   "source": [
    "### Task 2-b.\n",
    "What is the classification accuracy on training and test datasets?\n",
    "\n",
    "-> *see the code above*"
   ]
  },
  {
   "cell_type": "markdown",
   "metadata": {},
   "source": [
    "### Task 2-c.\n",
    "Did the training process converge and result in the best model?\n",
    "\n",
    "-> yes *(refer to the code above)*"
   ]
  },
  {
   "cell_type": "markdown",
   "metadata": {},
   "source": [
    "## Task 3\n",
    "Refine this network by fine-tuning it with GridSearchCV. Report the trained model."
   ]
  },
  {
   "cell_type": "code",
   "execution_count": 117,
   "metadata": {},
   "outputs": [
    {
     "name": "stdout",
     "output_type": "stream",
     "text": [
      "Shape: (4052, 45)\n"
     ]
    }
   ],
   "source": [
    "# Train/build the model (cv_model) using GridSearchCV\n",
    "\n",
    "from sklearn.model_selection import GridSearchCV\n",
    "\n",
    "print(\"Shape:\", X_train.shape)"
   ]
  },
  {
   "cell_type": "code",
   "execution_count": 149,
   "metadata": {},
   "outputs": [],
   "source": [
    "params = {'hidden_layer_sizes': [(x,) for x in range(5, 46, 5)],  'alpha': [0.01,0.001, 0.0001, 0.00001]}\n",
    "\n",
    "model_cv = GridSearchCV(param_grid=params, estimator=MLPClassifier(random_state=rs, max_iter=2000),return_train_score=True, cv=10, n_jobs=-1)\n",
    "model_cv.fit(X_train, y_train)\n",
    "result_set = model_cv.cv_results_\n",
    "# print(result_set)"
   ]
  },
  {
   "cell_type": "code",
   "execution_count": 150,
   "metadata": {},
   "outputs": [
    {
     "name": "stdout",
     "output_type": "stream",
     "text": [
      "Train accuracy: 0.7393879565646594\n",
      "Test accuracy: 0.6845135290731146\n",
      "              precision    recall  f1-score   support\n",
      "\n",
      "           0       0.71      0.79      0.75      1036\n",
      "           1       0.63      0.53      0.58       701\n",
      "\n",
      "    accuracy                           0.68      1737\n",
      "   macro avg       0.67      0.66      0.66      1737\n",
      "weighted avg       0.68      0.68      0.68      1737\n",
      "\n",
      "{'alpha': 0.01, 'hidden_layer_sizes': (5,)}\n"
     ]
    }
   ],
   "source": [
    "print(\"Train accuracy:\", model_cv.score(X_train, y_train))\n",
    "print(\"Test accuracy:\", model_cv.score(X_test, y_test))\n",
    "y_pred = model_cv.predict(X_test)\n",
    "print(classification_report(y_test, y_pred))\n",
    "print(model_cv.best_params_)"
   ]
  },
  {
   "cell_type": "code",
   "execution_count": 122,
   "metadata": {},
   "outputs": [
    {
     "name": "stdout",
     "output_type": "stream",
     "text": [
      "Input Layer Size: 45\n",
      "Hidden Layer Sizes: [5]\n",
      "Output Layer Size: 1\n"
     ]
    }
   ],
   "source": [
    "# Determine the layer sizes\n",
    "model_cv_best = model_cv.best_estimator_\n",
    "coefs = model_cv_best.coefs_\n",
    "input_layer_size = coefs[0].shape[0]\n",
    "hidden_layer_sizes = [coef.shape[1] for coef in coefs[:-1]]\n",
    "output_layer_size = coefs[-1].shape[1]\n",
    "# Print the layer sizes\n",
    "print(f\"Input Layer Size: {input_layer_size}\")\n",
    "print(f\"Hidden Layer Sizes: {hidden_layer_sizes}\")\n",
    "print(f\"Output Layer Size: {output_layer_size}\")"
   ]
  },
  {
   "cell_type": "code",
   "execution_count": 123,
   "metadata": {},
   "outputs": [
    {
     "name": "stdout",
     "output_type": "stream",
     "text": [
      "Which activation funciton is used? relu\n",
      "What is the algorithm for finding the optimal weight set? adam\n",
      "Number of iterations run: 344\n",
      "Did the training converge? True\n"
     ]
    }
   ],
   "source": [
    "print(\"Which activation funciton is used?\", model_cv_best.activation)\n",
    "print(\"What is the algorithm for finding the optimal weight set?\", model_cv_best.solver)\n",
    "print(\"Number of iterations run:\", model_cv_best.n_iter_)\n",
    "print(\"Did the training converge?\", model_cv_best.n_iter_ < model_cv_best.max_iter)"
   ]
  },
  {
   "cell_type": "markdown",
   "metadata": {},
   "source": [
    "## Task 3-a ~ c\n",
    "\n",
    "*(the questions are same as task2, and they all can be found in the code above)*\n",
    "\n",
    "## Task 3-d Do you see any sign of over-fitting?\n",
    "\n",
    "-> slightly, but I think it's not critical and acceptable since the numbers are close."
   ]
  },
  {
   "cell_type": "markdown",
   "metadata": {},
   "source": [
    "## Task 4\n",
    "Let us see if feature selection helps in improving the model. Build another neural network model with a reduced feature set. Perform dimensionality reduction by selecting variables with a decision tree (use the best decision tree model that you have built in the previous modelling task). Fine-tune the model with GridSearchCV to find the best parameter setting. Answer the followings:"
   ]
  },
  {
   "cell_type": "code",
   "execution_count": 125,
   "metadata": {},
   "outputs": [
    {
     "name": "stdout",
     "output_type": "stream",
     "text": [
      "{'criterion': 'entropy', 'max_depth': 8, 'min_samples_leaf': 20}\n"
     ]
    }
   ],
   "source": [
    "import pickle\n",
    "with open('DT.pickle', 'rb') as f:\n",
    "    dt_best,roc_index_dt_cv, fpr_dt_cv, tpr_dt_cv = pickle.load(f)\n",
    "#dt_best.fit(X_train, y_train)\n",
    "\n",
    "print(dt_best.best_params_)"
   ]
  },
  {
   "cell_type": "code",
   "execution_count": 126,
   "metadata": {},
   "outputs": [],
   "source": [
    "import numpy as np\n",
    "def analyse_feature_importance(dm_model, feature_names, n_to_display=20):\n",
    "    # grab feature importances from the model\n",
    "    importances = dm_model.feature_importances_\n",
    "    \n",
    "    # sort them out in descending order\n",
    "    indices = np.argsort(importances)\n",
    "    indices = np.flip(indices, axis=0)\n",
    "\n",
    "    # limit to 20 features, you can leave this out to print out everything\n",
    "    indices = indices[:n_to_display]\n",
    "\n",
    "    for i in indices:\n",
    "        print(feature_names[i], ':', importances[i])"
   ]
  },
  {
   "cell_type": "code",
   "execution_count": 128,
   "metadata": {},
   "outputs": [
    {
     "name": "stdout",
     "output_type": "stream",
     "text": [
      "income_high : 0.3555254289764614\n",
      "worried : 0.17058832010549724\n",
      "contacts_count : 0.11639389957741678\n",
      "weight : 0.069075079563171\n",
      "insurance_no : 0.03432621115864898\n",
      "height : 0.031952463001873314\n",
      "working_travel non critical : 0.027644220263843305\n",
      "income_low : 0.02446245411826565\n",
      "age_60_70 : 0.02274065858456186\n",
      "working_stopped : 0.021760977159120738\n",
      "blood_type_unknown : 0.016664776667126985\n",
      "alcohol : 0.015996961825192328\n",
      "working_travel critical : 0.012601947350266065\n",
      "age_20_30 : 0.01195089768490279\n",
      "age_70_80 : 0.010662567322991503\n",
      "working_home : 0.010129953423299198\n",
      "gender_male : 0.009601082065985962\n",
      "gender_female : 0.007258564868465442\n",
      "income_med : 0.00671761097320458\n",
      "working_never : 0.0065048875357108195\n"
     ]
    }
   ],
   "source": [
    "analyse_feature_importance(dt_best.best_estimator_, X.columns)"
   ]
  },
  {
   "cell_type": "code",
   "execution_count": 135,
   "metadata": {},
   "outputs": [
    {
     "name": "stdout",
     "output_type": "stream",
     "text": [
      "(4052, 9)\n"
     ]
    }
   ],
   "source": [
    "from sklearn.feature_selection import SelectFromModel\n",
    "\n",
    "# use the trained best decision tree from GridSearchCV to select features\n",
    "# supply the prefit=True parameter to stop SelectFromModel to re-train the model\n",
    "selectmodel = SelectFromModel(dt_best.best_estimator_, prefit=True)\n",
    "X_train_sel_model = selectmodel.transform(X_train)\n",
    "X_test_sel_model = selectmodel.transform(X_test)\n",
    "\n",
    "print(X_train_sel_model.shape)"
   ]
  },
  {
   "cell_type": "code",
   "execution_count": 131,
   "metadata": {},
   "outputs": [
    {
     "name": "stdout",
     "output_type": "stream",
     "text": [
      "Train accuracy: 0.7376604146100691\n",
      "Test accuracy: 0.7052389176741508\n",
      "              precision    recall  f1-score   support\n",
      "\n",
      "           0       0.73      0.80      0.76      1036\n",
      "           1       0.66      0.57      0.61       701\n",
      "\n",
      "    accuracy                           0.71      1737\n",
      "   macro avg       0.69      0.68      0.69      1737\n",
      "weighted avg       0.70      0.71      0.70      1737\n",
      "\n",
      "{'alpha': 0.001, 'hidden_layer_sizes': (40,)}\n"
     ]
    }
   ],
   "source": [
    "params = {'hidden_layer_sizes': [(x,) for x in range(5, 46, 5)],  'alpha': [0.01,0.001, 0.0001, 0.00001]}\n",
    "\n",
    "model_pickle = GridSearchCV(param_grid=params, estimator=MLPClassifier(random_state=rs, max_iter=1000),return_train_score=True, cv=10, n_jobs=-1)\n",
    "model_pickle.fit(X_train_sel_model, y_train)\n",
    "result_set = model_pickle.cv_results_\n",
    "print(\"Train accuracy:\", model_pickle.score(X_train_sel_model, y_train))\n",
    "print(\"Test accuracy:\", model_pickle.score(X_test_sel_model, y_test))\n",
    "y_pred = model_pickle.predict(X_test_sel_model)\n",
    "print(classification_report(y_test, y_pred))\n",
    "print(model_pickle.best_params_)"
   ]
  },
  {
   "cell_type": "code",
   "execution_count": 136,
   "metadata": {},
   "outputs": [
    {
     "name": "stdout",
     "output_type": "stream",
     "text": [
      "Input Layer Size: 9\n",
      "Hidden Layer Sizes: [40]\n",
      "Output Layer Size: 1\n"
     ]
    }
   ],
   "source": [
    "# Determine the layer sizes\n",
    "model_pickle_best = model_pickle.best_estimator_\n",
    "coefs = model_pickle_best.coefs_\n",
    "input_layer_size = coefs[0].shape[0]\n",
    "hidden_layer_sizes = [coef.shape[1] for coef in coefs[:-1]]\n",
    "output_layer_size = coefs[-1].shape[1]\n",
    "# Print the layer sizes\n",
    "print(f\"Input Layer Size: {input_layer_size}\")\n",
    "print(f\"Hidden Layer Sizes: {hidden_layer_sizes}\")\n",
    "print(f\"Output Layer Size: {output_layer_size}\")"
   ]
  },
  {
   "cell_type": "code",
   "execution_count": 137,
   "metadata": {},
   "outputs": [
    {
     "name": "stdout",
     "output_type": "stream",
     "text": [
      "Which activation funciton is used? relu\n",
      "What is the algorithm for finding the optimal weight set? adam\n",
      "Number of iterations run: 292\n",
      "Did the training converge? True\n"
     ]
    }
   ],
   "source": [
    "print(\"Which activation funciton is used?\", model_pickle_best.activation)\n",
    "print(\"What is the algorithm for finding the optimal weight set?\", model_pickle_best.solver)\n",
    "print(\"Number of iterations run:\", model_pickle_best.n_iter_)\n",
    "print(\"Did the training converge?\", model_pickle_best.n_iter_ < model_pickle_best.max_iter)"
   ]
  },
  {
   "cell_type": "markdown",
   "metadata": {},
   "source": [
    "### Task 4-a\n",
    "Did feature selection favour the outcome? Any change in network architecture? What inputs are being used as the network input?\n",
    "\n",
    "-> it doesnt seem that the outcome is better after feature selection, however, given the fact it only use 9 features and the result is pretty close to the models which use 45, it is actually not bad. </br>\n",
    "-> change in arch? *(chekc the code above)* </br>\n",
    "-> check the code above where I print the feature importances, and the first 9 ones are the anwsers."
   ]
  },
  {
   "cell_type": "markdown",
   "metadata": {},
   "source": [
    "### Task 4-b. \n",
    "What is the classification accuracy of training and test datasets?\n",
    "\n",
    "-> *(answer is in the code above)*"
   ]
  },
  {
   "cell_type": "markdown",
   "metadata": {},
   "source": [
    "### Task 4-c. \n",
    "How many iterations are now needed to train this network?\n",
    "\n",
    "-> *(answer is in the code above)*"
   ]
  },
  {
   "cell_type": "markdown",
   "metadata": {},
   "source": [
    "### Task 4-d. \n",
    "Do you see any sign of over-fitting? Did the training process converge and result in the best model?\n",
    "\n",
    "-> slightly, but I think it's not critical and acceptable since the numbers are close.</br>\n",
    "-> yup, it converges and find the best result at the 63th iteration.\n"
   ]
  },
  {
   "cell_type": "markdown",
   "metadata": {},
   "source": [
    "## Task 5\n",
    "Produce the ROC curve for all different neural networks. \n",
    "\n",
    "There are 3 models created:\n",
    "1. **model_default**: the model using the default setting with all inputs\n",
    "1. **model_cv**: the model fine-tuned with GridSearchCV.\n",
    "1. **model_pickle**: the model with less input variables (reduced by decision tree selection) and is fine-tuned with GridSearchCV."
   ]
  },
  {
   "cell_type": "code",
   "execution_count": 138,
   "metadata": {},
   "outputs": [
    {
     "name": "stdout",
     "output_type": "stream",
     "text": [
      "ROC index on test for model_default: 0.7286267824784229\n",
      "ROC index on test for model_cv: 0.732182100584383\n",
      "ROC index on test for model_pickle: 0.7525714781420916\n"
     ]
    }
   ],
   "source": [
    "from sklearn.metrics import roc_auc_score\n",
    "\n",
    "y_default_proba = model_default.predict_proba(X_test)\n",
    "y_cv_proba = model_cv.predict_proba(X_test)\n",
    "y_pickle_proba = model_pickle.predict_proba(X_test_sel_model)\n",
    "roc_index_default = roc_auc_score(y_test, y_default_proba[:, 1])\n",
    "roc_index_cv = roc_auc_score(y_test, y_cv_proba[:, 1])\n",
    "roc_index_pickle = roc_auc_score(y_test, y_pickle_proba[:, 1])\n",
    "\n",
    "print(\"ROC index on test for model_default:\", roc_index_default)\n",
    "print(\"ROC index on test for model_cv:\", roc_index_cv)\n",
    "print(\"ROC index on test for model_pickle:\", roc_index_pickle)"
   ]
  },
  {
   "cell_type": "code",
   "execution_count": 139,
   "metadata": {},
   "outputs": [
    {
     "data": {
      "image/png": "[encoded data removed]",
      "text/plain": [
       "<Figure size 640x480 with 1 Axes>"
      ]
     },
     "metadata": {},
     "output_type": "display_data"
    }
   ],
   "source": [
    "from sklearn.metrics import roc_curve\n",
    "import matplotlib.pyplot as plt\n",
    "\n",
    "fpr_default, tpr_default, thresholds_default = roc_curve(y_test, y_default_proba[:,1])\n",
    "fpr_cv, tpr_cv, thresholds_cv = roc_curve(y_test, y_cv_proba[:,1])\n",
    "fpr_pickle_cv, tpr_pickle_cv, thresholds_pickle_cv = roc_curve(y_test, y_pickle_proba[:,1])\n",
    "\n",
    "plt.plot(fpr_default, tpr_default, label='ROC Curve for model_default {:.3f}'.format(roc_index_default), color='red', lw=0.5)\n",
    "plt.plot(fpr_cv, tpr_cv, label='ROC Curve for model_cv {:.3f}'.format(roc_index_cv), color='blue', lw=0.5)\n",
    "plt.plot(fpr_pickle_cv, tpr_pickle_cv, label='ROC Curve for model_pickle {:.3f}'.format(roc_index_pickle), color='green', lw=0.5)\n",
    "\n",
    "plt.plot([0, 1], [0, 1], color='navy', lw=0.5, linestyle='--')\n",
    "plt.xlim([0.0, 1.0])\n",
    "plt.ylim([0.0, 1.0])\n",
    "plt.xlabel('False Positive Rate')\n",
    "plt.ylabel('True Positive Rate')\n",
    "plt.title('Receiver operating characteristic example')\n",
    "plt.legend(loc=\"lower right\")\n",
    "plt.show()"
   ]
  },
  {
   "cell_type": "code",
   "execution_count": 146,
   "metadata": {},
   "outputs": [
    {
     "name": "stdout",
     "output_type": "stream",
     "text": [
      "            Feature    Weight\n",
      "137  contacts_count  0.698517\n",
      "219   gender_female  0.578751\n",
      "113         alcohol  0.575051\n",
      "157  contacts_count  0.572102\n",
      "143  contacts_count  0.566457\n",
      "99          alcohol  0.554170\n",
      "263     gender_male  0.553596\n",
      "130  contacts_count  0.552835\n",
      "220   gender_female  0.550079\n",
      "237   gender_female  0.529608\n",
      "198         worried  0.521408\n",
      "139  contacts_count  0.521105\n",
      "149  contacts_count  0.518594\n",
      "185         worried  0.517715\n",
      "163         worried  0.505010\n",
      "52           weight  0.504108\n",
      "158  contacts_count  0.498406\n",
      "167         worried  0.498300\n",
      "326        age_0_10  0.497301\n",
      "11           height  0.481249\n",
      "111         alcohol  0.475822\n",
      "181         worried  0.471449\n",
      "275     gender_male  0.469295\n",
      "218   gender_female  0.467690\n",
      "281    gender_other  0.462799\n",
      "25           height  0.462154\n",
      "333        age_0_10  0.459626\n",
      "61           weight  0.458712\n",
      "36           height  0.453344\n",
      "215   gender_female  0.439045\n",
      "242     gender_male  0.431000\n",
      "279     gender_male  0.424513\n",
      "316    gender_other  0.418337\n",
      "353        age_0_10  0.374395\n",
      "210   gender_female  0.368694\n",
      "244     gender_male  0.365012\n",
      "138  contacts_count  0.357163\n",
      "247     gender_male  0.351177\n",
      "175         worried  0.348244\n",
      "298    gender_other  0.345470\n",
      "325        age_0_10  0.344380\n",
      "38           height  0.342748\n",
      "56           weight  0.336881\n",
      "260     gender_male  0.329524\n",
      "27           height  0.326836\n",
      "258     gender_male  0.324209\n",
      "226   gender_female  0.324152\n",
      "179         worried  0.318765\n",
      "293    gender_other  0.308871\n",
      "41           weight  0.308494\n"
     ]
    }
   ],
   "source": [
    "\n",
    "best_model = model_pickle.best_estimator_\n",
    "weights = best_model.coefs_[0]\n",
    "\n",
    "feature_names = X.columns\n",
    "\n",
    "# Flatten the weights and combine with feature names\n",
    "weight_feature_pairs = [(feature_names[i], weights[i][j]) for i in range(weights.shape[0]) for j in range(weights.shape[1])]\n",
    "\n",
    "# Create a DataFrame for easy handling\n",
    "df_weights = pd.DataFrame(weight_feature_pairs, columns=['Feature', 'Weight'])\n",
    "\n",
    "# Filter for positive weights only\n",
    "df_positive_weights = df_weights[df_weights['Weight'] > 0]\n",
    "\n",
    "# Sort by weight in descending order and get the top 10\n",
    "top_50_weights = df_positive_weights.sort_values(by='Weight', ascending=False).head(50)\n",
    "\n",
    "# Display the top 10 weights with feature names\n",
    "print(top_50_weights)\n",
    "\n"
   ]
  },
  {
   "cell_type": "markdown",
   "metadata": {},
   "source": [
    "### Task 5. \n",
    "\n",
    "Now, using the best neural network model, provide characteristics of the individuals identified as COVID positive by the model? \n",
    "\n",
    "-> *(answer is in the code)*\n",
    "\n",
    "If it is difficult (or even infeasible) to comprehend, discuss why.\n",
    "\n",
    "-> It is not comprehensible and difficult to intepret what variables are important to the generated result if we look at the weights of the model. The reason is the neural network is like a black box where each input is connecting to each neuron in the hidden layer. Hence, from the result we can see there are multiple number of associated weights. "
   ]
  },
  {
   "cell_type": "markdown",
   "metadata": {},
   "source": []
  },
  {
   "cell_type": "code",
   "execution_count": null,
   "metadata": {},
   "outputs": [],
   "source": []
  }
 ],
 "metadata": {
  "kernelspec": {
   "display_name": "Python 3",
   "language": "python",
   "name": "python3"
  },
  "language_info": {
   "codemirror_mode": {
    "name": "ipython",
    "version": 3
   },
   "file_extension": ".py",
   "mimetype": "text/x-python",
   "name": "python",
   "nbconvert_exporter": "python",
   "pygments_lexer": "ipython3",
   "version": "3.11.5"
  }
 },
 "nbformat": 4,
 "nbformat_minor": 2
}
