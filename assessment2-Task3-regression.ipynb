{
 "cells": [
  {
   "cell_type": "markdown",
   "id": "e00ec3d5",
   "metadata": {},
   "source": [
    "# Predictive modelling using Regression"
   ]
  },
  {
   "cell_type": "markdown",
   "id": "33852f8c",
   "metadata": {},
   "source": [
    "## 1. What pre-processing was required on the dataset before regression modelling? What distribution split between training and test datasets was used?"
   ]
  },
  {
   "cell_type": "code",
   "execution_count": 2,
   "id": "76bde648",
   "metadata": {},
   "outputs": [],
   "source": [
    "import pandas as pd\n",
    "import numpy as np\n",
    "from sklearn.model_selection import train_test_split\n",
    "from sklearn.metrics import classification_report, accuracy_score\n",
    "from sklearn.model_selection import GridSearchCV\n",
    "\n",
    "df = pd.read_csv('D2.csv')"
   ]
  },
  {
   "cell_type": "code",
   "execution_count": 3,
   "id": "da6a43d2",
   "metadata": {},
   "outputs": [
    {
     "name": "stdout",
     "output_type": "stream",
     "text": [
      "<class 'pandas.core.frame.DataFrame'>\n",
      "RangeIndex: 5789 entries, 0 to 5788\n",
      "Data columns (total 13 columns):\n",
      " #   Column            Non-Null Count  Dtype  \n",
      "---  ------            --------------  -----  \n",
      " 0   gender            5789 non-null   object \n",
      " 1   age               5789 non-null   object \n",
      " 2   height            5789 non-null   int64  \n",
      " 3   weight            5789 non-null   int64  \n",
      " 4   blood_type        5789 non-null   object \n",
      " 5   insurance         5789 non-null   object \n",
      " 6   income            5789 non-null   object \n",
      " 7   smoking           5789 non-null   object \n",
      " 8   alcohol           5789 non-null   float64\n",
      " 9   contacts_count    5789 non-null   float64\n",
      " 10  working           5789 non-null   object \n",
      " 11  worried           5789 non-null   float64\n",
      " 12  covid19_positive  5789 non-null   int64  \n",
      "dtypes: float64(3), int64(3), object(7)\n",
      "memory usage: 588.1+ KB\n"
     ]
    }
   ],
   "source": [
    "df.info()"
   ]
  },
  {
   "cell_type": "code",
   "execution_count": 4,
   "id": "3a38db3d",
   "metadata": {},
   "outputs": [
    {
     "data": {
      "text/plain": [
       "blood_type\n",
       "unknown    1884\n",
       "ap         1279\n",
       "op         1251\n",
       "on          417\n",
       "bp          394\n",
       "an          244\n",
       "abp         191\n",
       "bn           91\n",
       "abn          38\n",
       "Name: count, dtype: int64"
      ]
     },
     "execution_count": 4,
     "metadata": {},
     "output_type": "execute_result"
    }
   ],
   "source": [
    "np.random.seed(42)\n",
    "def pick_value(ratio, values):\n",
    "    total_parts = sum(ratio)\n",
    "    normalized_ratio = [part / total_parts for part in ratio]\n",
    "    selected_value = np.random.choice(values, p=normalized_ratio)\n",
    "    return selected_value\n",
    "\n",
    "correct_blood_type_data = df.loc[df['blood_type'] != 'unknown', 'blood_type']\n",
    "ratio = correct_blood_type_data.value_counts()/len(correct_blood_type_data)\n",
    "ratio\n",
    "\n",
    "blood_types = ratio.index.tolist()\n",
    "ratio = ratio.values.tolist()\n",
    "\n",
    "blood_types\n",
    "\n",
    "ratio\n",
    "\n",
    "# before:\n",
    "df['blood_type'].value_counts()"
   ]
  },
  {
   "cell_type": "code",
   "execution_count": 5,
   "id": "1b18dadf",
   "metadata": {
    "scrolled": true
   },
   "outputs": [
    {
     "data": {
      "text/plain": [
       "blood_type\n",
       "ap     1908\n",
       "op     1839\n",
       "on      614\n",
       "bp      577\n",
       "an      367\n",
       "abp     287\n",
       "bn      142\n",
       "abn      55\n",
       "Name: count, dtype: int64"
      ]
     },
     "execution_count": 5,
     "metadata": {},
     "output_type": "execute_result"
    }
   ],
   "source": [
    "update_data = []\n",
    "for _ in range(len(df.loc[df['blood_type'] == 'unknown'].index)):\n",
    "    update_data.append(pick_value(ratio, blood_types))\n",
    "\n",
    "df.loc[df['blood_type'] == 'unknown', 'blood_type'] = update_data\n",
    "\n",
    "# check\n",
    "df['blood_type'].value_counts()"
   ]
  },
  {
   "cell_type": "code",
   "execution_count": 6,
   "id": "3927d931",
   "metadata": {},
   "outputs": [
    {
     "name": "stdout",
     "output_type": "stream",
     "text": [
      "0        9\n",
      "1        2\n",
      "2        5\n",
      "3        6\n",
      "4        2\n",
      "        ..\n",
      "5784     3\n",
      "5785    20\n",
      "5786    20\n",
      "5787    10\n",
      "5788    21\n",
      "Name: contacts_count, Length: 5789, dtype: int64\n",
      "0       3\n",
      "1       3\n",
      "2       3\n",
      "3       3\n",
      "4       4\n",
      "       ..\n",
      "5784    4\n",
      "5785    4\n",
      "5786    3\n",
      "5787    3\n",
      "5788    4\n",
      "Name: worried, Length: 5789, dtype: int64\n",
      "0       0\n",
      "1       0\n",
      "2       2\n",
      "3       2\n",
      "4       2\n",
      "       ..\n",
      "5784    3\n",
      "5785    2\n",
      "5786    2\n",
      "5787    2\n",
      "5788    2\n",
      "Name: alcohol, Length: 5789, dtype: int64\n"
     ]
    }
   ],
   "source": [
    "print(df['contacts_count'].astype(int))\n",
    "print(df['worried'].astype(int))\n",
    "print(df['alcohol'].astype(int))"
   ]
  },
  {
   "cell_type": "code",
   "execution_count": 7,
   "id": "b9ae9190",
   "metadata": {},
   "outputs": [],
   "source": [
    "# One-hot encoding \n",
    "#df = pd.get_dummies(df, columns=['gender', 'blood_type', 'income', 'smoking', 'working'])\n",
    "df = pd.get_dummies(df)\n"
   ]
  },
  {
   "cell_type": "code",
   "execution_count": 8,
   "id": "438405c6",
   "metadata": {},
   "outputs": [],
   "source": [
    "# target/input split\n",
    "y = df['covid19_positive']\n",
    "X = df.drop(['covid19_positive'], axis=1)\n",
    "\n",
    "# Convert X into a numpy matrix \n",
    "X_mat = X.to_numpy()\n",
    "\n",
    "# setting random state\n",
    "rs = 10\n",
    "\n",
    "# 70:30 splits our input data into 70% training and 30% testing\n",
    "X_mat = X.to_numpy()\n",
    "X_train, X_test, y_train, y_test = train_test_split(X_mat, y, test_size=0.3, stratify=y, random_state=rs)"
   ]
  },
  {
   "cell_type": "code",
   "execution_count": 43,
   "id": "4bf684ff",
   "metadata": {},
   "outputs": [
    {
     "name": "stdout",
     "output_type": "stream",
     "text": [
      "<class 'pandas.core.frame.DataFrame'>\n",
      "RangeIndex: 5789 entries, 0 to 5788\n",
      "Data columns (total 44 columns):\n",
      " #   Column                       Non-Null Count  Dtype  \n",
      "---  ------                       --------------  -----  \n",
      " 0   height                       5789 non-null   int64  \n",
      " 1   weight                       5789 non-null   int64  \n",
      " 2   alcohol                      5789 non-null   float64\n",
      " 3   contacts_count               5789 non-null   float64\n",
      " 4   worried                      5789 non-null   float64\n",
      " 5   gender_female                5789 non-null   bool   \n",
      " 6   gender_male                  5789 non-null   bool   \n",
      " 7   gender_other                 5789 non-null   bool   \n",
      " 8   age_0_10                     5789 non-null   bool   \n",
      " 9   age_100_110                  5789 non-null   bool   \n",
      " 10  age_10_20                    5789 non-null   bool   \n",
      " 11  age_20_30                    5789 non-null   bool   \n",
      " 12  age_30_40                    5789 non-null   bool   \n",
      " 13  age_40_50                    5789 non-null   bool   \n",
      " 14  age_50_60                    5789 non-null   bool   \n",
      " 15  age_60_70                    5789 non-null   bool   \n",
      " 16  age_70_80                    5789 non-null   bool   \n",
      " 17  blood_type_abn               5789 non-null   bool   \n",
      " 18  blood_type_abp               5789 non-null   bool   \n",
      " 19  blood_type_an                5789 non-null   bool   \n",
      " 20  blood_type_ap                5789 non-null   bool   \n",
      " 21  blood_type_bn                5789 non-null   bool   \n",
      " 22  blood_type_bp                5789 non-null   bool   \n",
      " 23  blood_type_on                5789 non-null   bool   \n",
      " 24  blood_type_op                5789 non-null   bool   \n",
      " 25  insurance_no                 5789 non-null   bool   \n",
      " 26  insurance_yes                5789 non-null   bool   \n",
      " 27  income_gov                   5789 non-null   bool   \n",
      " 28  income_high                  5789 non-null   bool   \n",
      " 29  income_low                   5789 non-null   bool   \n",
      " 30  income_med                   5789 non-null   bool   \n",
      " 31  smoking_never                5789 non-null   bool   \n",
      " 32  smoking_quit0                5789 non-null   bool   \n",
      " 33  smoking_quit10               5789 non-null   bool   \n",
      " 34  smoking_quit5                5789 non-null   bool   \n",
      " 35  smoking_vape                 5789 non-null   bool   \n",
      " 36  smoking_yesheavy             5789 non-null   bool   \n",
      " 37  smoking_yeslight             5789 non-null   bool   \n",
      " 38  smoking_yesmedium            5789 non-null   bool   \n",
      " 39  working_home                 5789 non-null   bool   \n",
      " 40  working_never                5789 non-null   bool   \n",
      " 41  working_stopped              5789 non-null   bool   \n",
      " 42  working_travel critical      5789 non-null   bool   \n",
      " 43  working_travel non critical  5789 non-null   bool   \n",
      "dtypes: bool(39), float64(3), int64(2)\n",
      "memory usage: 446.7 KB\n"
     ]
    }
   ],
   "source": [
    "X.info()"
   ]
  },
  {
   "cell_type": "markdown",
   "id": "71c66a92",
   "metadata": {},
   "source": [
    "## c. Did you apply standardisation of variables? Why would you standardise the variables for regression mining?"
   ]
  },
  {
   "cell_type": "code",
   "execution_count": 10,
   "id": "d95dae3a",
   "metadata": {},
   "outputs": [
    {
     "name": "stdout",
     "output_type": "stream",
     "text": [
      "Before scaling\n",
      "-------------\n",
      "Variable #0: min 110, max 238, mean 172.00 and std dev 10.93\n",
      "Variable #1: min 44, max 180, mean 84.59 and std dev 23.10\n",
      "Variable #2: min 0.0, max 14.0, mean 2.64 and std dev 3.09\n",
      "Variable #3: min 0.0, max 21.0, mean 7.97 and std dev 6.79\n",
      "Variable #4: min 1.0, max 5.0, mean 3.63 and std dev 0.73\n",
      "After scaling\n",
      "-------------\n",
      "Variable #0: min -5.6731881981702275, max 6.039293583322545, mean -0.00 and std dev 1.00\n",
      "Variable #1: min -1.7566695812374529, max 4.129715953323073, mean 0.00 and std dev 1.00\n",
      "Variable #2: min -0.8547504201123084, max 3.6705208661341717, mean 0.00 and std dev 1.00\n",
      "Variable #3: min -1.1740784926789536, max 1.9197121396460037, mean 0.00 and std dev 1.00\n",
      "Variable #4: min -3.605808677507695, max 1.8684276511776476, mean -0.00 and std dev 1.00\n"
     ]
    }
   ],
   "source": [
    "#STANDARDISATION\n",
    "\n",
    "from sklearn.preprocessing import StandardScaler\n",
    "\n",
    "# initialise a standard scaler object\n",
    "scaler = StandardScaler()\n",
    "\n",
    "# visualise min, max, mean and standard dev of data before scaling\n",
    "print(\"Before scaling\\n-------------\")\n",
    "for i in range(5):\n",
    "    col = X_train[:,i]\n",
    "    print(\"Variable #{}: min {}, max {}, mean {:.2f} and std dev {:.2f}\".\n",
    "          format(i, min(col), max(col), np.mean(col), np.std(col)))\n",
    "\n",
    "# learn the mean and std.dev of variables from training data\n",
    "# then use the learned values to transform training data\n",
    "X_train = scaler.fit_transform(X_train, y_train)\n",
    "\n",
    "print(\"After scaling\\n-------------\")\n",
    "for i in range(5):\n",
    "    col = X_train[:,i]\n",
    "    print(\"Variable #{}: min {}, max {}, mean {:.2f} and std dev {:.2f}\".\n",
    "          format(i, min(col), max(col), np.mean(col), np.std(col)))\n",
    "\n",
    "# use the statistic that you learned from training to transform test data\n",
    "# NEVER learn from test data, this is supposed to be a set of dataset\n",
    "# that the model has never seen before\n",
    "X_test = scaler.transform(X_test)"
   ]
  },
  {
   "cell_type": "markdown",
   "id": "848c8d94",
   "metadata": {},
   "source": [
    "## 2. Build a regression model using the default setting with all inputs. Build another regression model fine-tuned with GridSearchCV. Now, choose a better model to answer the followings:\n",
    "\n",
    "## a. Explain why you chose that model."
   ]
  },
  {
   "cell_type": "markdown",
   "id": "785a3fa5",
   "metadata": {},
   "source": [
    "### Training logistic regression"
   ]
  },
  {
   "cell_type": "code",
   "execution_count": 11,
   "id": "23acd397",
   "metadata": {},
   "outputs": [],
   "source": [
    "from sklearn.linear_model import LogisticRegression"
   ]
  },
  {
   "cell_type": "code",
   "execution_count": 12,
   "id": "ec94bf90",
   "metadata": {
    "scrolled": true
   },
   "outputs": [
    {
     "data": {
      "text/html": [
       "<style>#sk-container-id-1 {color: black;background-color: white;}#sk-container-id-1 pre{padding: 0;}#sk-container-id-1 div.sk-toggleable {background-color: white;}#sk-container-id-1 label.sk-toggleable__label {cursor: pointer;display: block;width: 100%;margin-bottom: 0;padding: 0.3em;box-sizing: border-box;text-align: center;}#sk-container-id-1 label.sk-toggleable__label-arrow:before {content: \"▸\";float: left;margin-right: 0.25em;color: #696969;}#sk-container-id-1 label.sk-toggleable__label-arrow:hover:before {color: black;}#sk-container-id-1 div.sk-estimator:hover label.sk-toggleable__label-arrow:before {color: black;}#sk-container-id-1 div.sk-toggleable__content {max-height: 0;max-width: 0;overflow: hidden;text-align: left;background-color: #f0f8ff;}#sk-container-id-1 div.sk-toggleable__content pre {margin: 0.2em;color: black;border-radius: 0.25em;background-color: #f0f8ff;}#sk-container-id-1 input.sk-toggleable__control:checked~div.sk-toggleable__content {max-height: 200px;max-width: 100%;overflow: auto;}#sk-container-id-1 input.sk-toggleable__control:checked~label.sk-toggleable__label-arrow:before {content: \"▾\";}#sk-container-id-1 div.sk-estimator input.sk-toggleable__control:checked~label.sk-toggleable__label {background-color: #d4ebff;}#sk-container-id-1 div.sk-label input.sk-toggleable__control:checked~label.sk-toggleable__label {background-color: #d4ebff;}#sk-container-id-1 input.sk-hidden--visually {border: 0;clip: rect(1px 1px 1px 1px);clip: rect(1px, 1px, 1px, 1px);height: 1px;margin: -1px;overflow: hidden;padding: 0;position: absolute;width: 1px;}#sk-container-id-1 div.sk-estimator {font-family: monospace;background-color: #f0f8ff;border: 1px dotted black;border-radius: 0.25em;box-sizing: border-box;margin-bottom: 0.5em;}#sk-container-id-1 div.sk-estimator:hover {background-color: #d4ebff;}#sk-container-id-1 div.sk-parallel-item::after {content: \"\";width: 100%;border-bottom: 1px solid gray;flex-grow: 1;}#sk-container-id-1 div.sk-label:hover label.sk-toggleable__label {background-color: #d4ebff;}#sk-container-id-1 div.sk-serial::before {content: \"\";position: absolute;border-left: 1px solid gray;box-sizing: border-box;top: 0;bottom: 0;left: 50%;z-index: 0;}#sk-container-id-1 div.sk-serial {display: flex;flex-direction: column;align-items: center;background-color: white;padding-right: 0.2em;padding-left: 0.2em;position: relative;}#sk-container-id-1 div.sk-item {position: relative;z-index: 1;}#sk-container-id-1 div.sk-parallel {display: flex;align-items: stretch;justify-content: center;background-color: white;position: relative;}#sk-container-id-1 div.sk-item::before, #sk-container-id-1 div.sk-parallel-item::before {content: \"\";position: absolute;border-left: 1px solid gray;box-sizing: border-box;top: 0;bottom: 0;left: 50%;z-index: -1;}#sk-container-id-1 div.sk-parallel-item {display: flex;flex-direction: column;z-index: 1;position: relative;background-color: white;}#sk-container-id-1 div.sk-parallel-item:first-child::after {align-self: flex-end;width: 50%;}#sk-container-id-1 div.sk-parallel-item:last-child::after {align-self: flex-start;width: 50%;}#sk-container-id-1 div.sk-parallel-item:only-child::after {width: 0;}#sk-container-id-1 div.sk-dashed-wrapped {border: 1px dashed gray;margin: 0 0.4em 0.5em 0.4em;box-sizing: border-box;padding-bottom: 0.4em;background-color: white;}#sk-container-id-1 div.sk-label label {font-family: monospace;font-weight: bold;display: inline-block;line-height: 1.2em;}#sk-container-id-1 div.sk-label-container {text-align: center;}#sk-container-id-1 div.sk-container {/* jupyter's `normalize.less` sets `[hidden] { display: none; }` but bootstrap.min.css set `[hidden] { display: none !important; }` so we also need the `!important` here to be able to override the default hidden behavior on the sphinx rendered scikit-learn.org. See: https://github.com/scikit-learn/scikit-learn/issues/21755 */display: inline-block !important;position: relative;}#sk-container-id-1 div.sk-text-repr-fallback {display: none;}</style><div id=\"sk-container-id-1\" class=\"sk-top-container\"><div class=\"sk-text-repr-fallback\"><pre>LogisticRegression(random_state=10)</pre><b>In a Jupyter environment, please rerun this cell to show the HTML representation or trust the notebook. <br />On GitHub, the HTML representation is unable to render, please try loading this page with nbviewer.org.</b></div><div class=\"sk-container\" hidden><div class=\"sk-item\"><div class=\"sk-estimator sk-toggleable\"><input class=\"sk-toggleable__control sk-hidden--visually\" id=\"sk-estimator-id-1\" type=\"checkbox\" checked><label for=\"sk-estimator-id-1\" class=\"sk-toggleable__label sk-toggleable__label-arrow\">LogisticRegression</label><div class=\"sk-toggleable__content\"><pre>LogisticRegression(random_state=10)</pre></div></div></div></div></div>"
      ],
      "text/plain": [
       "LogisticRegression(random_state=10)"
      ]
     },
     "execution_count": 12,
     "metadata": {},
     "output_type": "execute_result"
    }
   ],
   "source": [
    "model = LogisticRegression(random_state=rs)\n",
    "\n",
    "# fit it to training data\n",
    "model.fit(X_train, y_train)"
   ]
  },
  {
   "cell_type": "markdown",
   "id": "9b4ef47b",
   "metadata": {},
   "source": [
    "## b. Name the regression function used."
   ]
  },
  {
   "cell_type": "markdown",
   "id": "d50f7475",
   "metadata": {},
   "source": [
    "Logistic regression"
   ]
  },
  {
   "cell_type": "markdown",
   "id": "966c700e",
   "metadata": {},
   "source": [
    "## f. What is the classification accuracy on training and test datasets?"
   ]
  },
  {
   "cell_type": "code",
   "execution_count": 32,
   "id": "5a9c2717",
   "metadata": {},
   "outputs": [
    {
     "name": "stdout",
     "output_type": "stream",
     "text": [
      "Train accuracy: 0.6952122408687068\n",
      "Test accuracy: 0.6764536557282671\n",
      "              precision    recall  f1-score   support\n",
      "\n",
      "           0       0.71      0.78      0.74      1036\n",
      "           1       0.62      0.53      0.57       701\n",
      "\n",
      "    accuracy                           0.68      1737\n",
      "   macro avg       0.66      0.65      0.65      1737\n",
      "weighted avg       0.67      0.68      0.67      1737\n",
      "\n"
     ]
    }
   ],
   "source": [
    "# training and test accuracy\n",
    "print(\"Train accuracy:\", model.score(X_train, y_train))\n",
    "print(\"Test accuracy:\", model.score(X_test, y_test))\n",
    "\n",
    "# classification report on test data\n",
    "y_pred = model.predict(X_test)\n",
    "print(classification_report(y_test, y_pred))"
   ]
  },
  {
   "cell_type": "markdown",
   "id": "ca45fac8",
   "metadata": {},
   "source": [
    "The training accuracy is slightly higher than the test accuracy which may indicate slight overfitting."
   ]
  },
  {
   "cell_type": "markdown",
   "id": "671922fb",
   "metadata": {},
   "source": [
    "###  Understanding the logistic regression model"
   ]
  },
  {
   "cell_type": "code",
   "execution_count": 14,
   "id": "42845e65",
   "metadata": {},
   "outputs": [
    {
     "name": "stdout",
     "output_type": "stream",
     "text": [
      "[[-0.21185621  0.29912377  0.06377936  0.00577002  0.11525667 -0.06555993\n",
      "   0.06106061  0.04518083  0.00040115  0.2149378   0.04444383  0.12206007\n",
      "   0.06171958  0.01325253  0.02683157 -0.18378598 -0.16743804  0.00537851\n",
      "   0.02876677 -0.01276358 -0.00629796 -0.02792537  0.0354475  -0.03945312\n",
      "   0.01184267 -0.03737559  0.03737559  0.07524694 -0.37163467 -0.01931859\n",
      "   0.34507214 -0.03905182  0.01781423  0.08602131 -0.09643629  0.02899024\n",
      "   0.1139903  -0.03496033  0.02300541 -0.13080235  0.01075426 -0.037878\n",
      "   0.21929622 -0.13514274]]\n"
     ]
    }
   ],
   "source": [
    "print(model.coef_)"
   ]
  },
  {
   "cell_type": "code",
   "execution_count": 15,
   "id": "bfccd899",
   "metadata": {},
   "outputs": [
    {
     "name": "stdout",
     "output_type": "stream",
     "text": [
      "height : -0.21185621340705132\n",
      "weight : 0.29912376944423785\n",
      "alcohol : 0.06377936376707834\n",
      "contacts_count : 0.005770024030960999\n",
      "worried : 0.11525666680643261\n",
      "gender_female : -0.06555993408113624\n",
      "gender_male : 0.06106060607716563\n",
      "gender_other : 0.045180833479701366\n",
      "age_0_10 : 0.00040115268052867285\n",
      "age_100_110 : 0.21493780140591234\n",
      "age_10_20 : 0.044443832825916976\n",
      "age_20_30 : 0.12206007226656707\n",
      "age_30_40 : 0.061719583094594056\n",
      "age_40_50 : 0.013252534009272197\n",
      "age_50_60 : 0.02683156747206253\n",
      "age_60_70 : -0.183785977303037\n",
      "age_70_80 : -0.16743803977314584\n",
      "blood_type_abn : 0.0053785107489012106\n",
      "blood_type_abp : 0.02876676987952019\n",
      "blood_type_an : -0.012763578789914597\n"
     ]
    }
   ],
   "source": [
    "feature_names = X.columns\n",
    "coef = model.coef_[0]\n",
    "\n",
    "# limit to 20 features\n",
    "coef = coef[:20]\n",
    "\n",
    "for i in range(len(coef)):\n",
    "    print(feature_names[i], ':', coef[i])"
   ]
  },
  {
   "cell_type": "markdown",
   "id": "7a8f11e1",
   "metadata": {},
   "source": [
    "- Positive coefficient means positive change in the input feature has positive correlation to the prediction value. \n",
    "- Negative coefficient does the reverse. "
   ]
  },
  {
   "cell_type": "markdown",
   "id": "c83f582c",
   "metadata": {},
   "source": [
    "## e. Report the top-5 important variables (in the order) in the model."
   ]
  },
  {
   "cell_type": "code",
   "execution_count": 16,
   "id": "67e810c0",
   "metadata": {},
   "outputs": [
    {
     "name": "stdout",
     "output_type": "stream",
     "text": [
      "income_high : -0.37163466819399765\n",
      "income_med : 0.34507214267064606\n",
      "weight : 0.29912376944423785\n",
      "working_travel critical : 0.21929622479993627\n",
      "age_100_110 : 0.21493780140591234\n"
     ]
    }
   ],
   "source": [
    "# grab feature importances from the model and feature name from the original X\n",
    "coef = model.coef_[0]\n",
    "feature_names = X.columns\n",
    "\n",
    "# sort them out in descending order\n",
    "indices = np.argsort(np.absolute(coef))\n",
    "indices = np.flip(indices, axis=0)\n",
    "\n",
    "# limit to 5 features, you can leave this out to print out everything\n",
    "indices = indices[:5]\n",
    "\n",
    "for i in indices:\n",
    "    print(feature_names[i], ':', coef[i])"
   ]
  },
  {
   "cell_type": "markdown",
   "id": "9ef6c05b",
   "metadata": {},
   "source": [
    "### Finding optimal hyperparameters with GridSearchCV"
   ]
  },
  {
   "cell_type": "code",
   "execution_count": 17,
   "id": "01c139db",
   "metadata": {},
   "outputs": [
    {
     "data": {
      "text/html": [
       "<style>#sk-container-id-2 {color: black;background-color: white;}#sk-container-id-2 pre{padding: 0;}#sk-container-id-2 div.sk-toggleable {background-color: white;}#sk-container-id-2 label.sk-toggleable__label {cursor: pointer;display: block;width: 100%;margin-bottom: 0;padding: 0.3em;box-sizing: border-box;text-align: center;}#sk-container-id-2 label.sk-toggleable__label-arrow:before {content: \"▸\";float: left;margin-right: 0.25em;color: #696969;}#sk-container-id-2 label.sk-toggleable__label-arrow:hover:before {color: black;}#sk-container-id-2 div.sk-estimator:hover label.sk-toggleable__label-arrow:before {color: black;}#sk-container-id-2 div.sk-toggleable__content {max-height: 0;max-width: 0;overflow: hidden;text-align: left;background-color: #f0f8ff;}#sk-container-id-2 div.sk-toggleable__content pre {margin: 0.2em;color: black;border-radius: 0.25em;background-color: #f0f8ff;}#sk-container-id-2 input.sk-toggleable__control:checked~div.sk-toggleable__content {max-height: 200px;max-width: 100%;overflow: auto;}#sk-container-id-2 input.sk-toggleable__control:checked~label.sk-toggleable__label-arrow:before {content: \"▾\";}#sk-container-id-2 div.sk-estimator input.sk-toggleable__control:checked~label.sk-toggleable__label {background-color: #d4ebff;}#sk-container-id-2 div.sk-label input.sk-toggleable__control:checked~label.sk-toggleable__label {background-color: #d4ebff;}#sk-container-id-2 input.sk-hidden--visually {border: 0;clip: rect(1px 1px 1px 1px);clip: rect(1px, 1px, 1px, 1px);height: 1px;margin: -1px;overflow: hidden;padding: 0;position: absolute;width: 1px;}#sk-container-id-2 div.sk-estimator {font-family: monospace;background-color: #f0f8ff;border: 1px dotted black;border-radius: 0.25em;box-sizing: border-box;margin-bottom: 0.5em;}#sk-container-id-2 div.sk-estimator:hover {background-color: #d4ebff;}#sk-container-id-2 div.sk-parallel-item::after {content: \"\";width: 100%;border-bottom: 1px solid gray;flex-grow: 1;}#sk-container-id-2 div.sk-label:hover label.sk-toggleable__label {background-color: #d4ebff;}#sk-container-id-2 div.sk-serial::before {content: \"\";position: absolute;border-left: 1px solid gray;box-sizing: border-box;top: 0;bottom: 0;left: 50%;z-index: 0;}#sk-container-id-2 div.sk-serial {display: flex;flex-direction: column;align-items: center;background-color: white;padding-right: 0.2em;padding-left: 0.2em;position: relative;}#sk-container-id-2 div.sk-item {position: relative;z-index: 1;}#sk-container-id-2 div.sk-parallel {display: flex;align-items: stretch;justify-content: center;background-color: white;position: relative;}#sk-container-id-2 div.sk-item::before, #sk-container-id-2 div.sk-parallel-item::before {content: \"\";position: absolute;border-left: 1px solid gray;box-sizing: border-box;top: 0;bottom: 0;left: 50%;z-index: -1;}#sk-container-id-2 div.sk-parallel-item {display: flex;flex-direction: column;z-index: 1;position: relative;background-color: white;}#sk-container-id-2 div.sk-parallel-item:first-child::after {align-self: flex-end;width: 50%;}#sk-container-id-2 div.sk-parallel-item:last-child::after {align-self: flex-start;width: 50%;}#sk-container-id-2 div.sk-parallel-item:only-child::after {width: 0;}#sk-container-id-2 div.sk-dashed-wrapped {border: 1px dashed gray;margin: 0 0.4em 0.5em 0.4em;box-sizing: border-box;padding-bottom: 0.4em;background-color: white;}#sk-container-id-2 div.sk-label label {font-family: monospace;font-weight: bold;display: inline-block;line-height: 1.2em;}#sk-container-id-2 div.sk-label-container {text-align: center;}#sk-container-id-2 div.sk-container {/* jupyter's `normalize.less` sets `[hidden] { display: none; }` but bootstrap.min.css set `[hidden] { display: none !important; }` so we also need the `!important` here to be able to override the default hidden behavior on the sphinx rendered scikit-learn.org. See: https://github.com/scikit-learn/scikit-learn/issues/21755 */display: inline-block !important;position: relative;}#sk-container-id-2 div.sk-text-repr-fallback {display: none;}</style><div id=\"sk-container-id-2\" class=\"sk-top-container\"><div class=\"sk-text-repr-fallback\"><pre>GridSearchCV(cv=10, estimator=LogisticRegression(random_state=10), n_jobs=-1,\n",
       "             param_grid={&#x27;C&#x27;: [1e-06, 1e-05, 0.0001, 0.001, 0.01, 0.1, 1, 10,\n",
       "                               100, 1000]},\n",
       "             return_train_score=True)</pre><b>In a Jupyter environment, please rerun this cell to show the HTML representation or trust the notebook. <br />On GitHub, the HTML representation is unable to render, please try loading this page with nbviewer.org.</b></div><div class=\"sk-container\" hidden><div class=\"sk-item sk-dashed-wrapped\"><div class=\"sk-label-container\"><div class=\"sk-label sk-toggleable\"><input class=\"sk-toggleable__control sk-hidden--visually\" id=\"sk-estimator-id-2\" type=\"checkbox\" ><label for=\"sk-estimator-id-2\" class=\"sk-toggleable__label sk-toggleable__label-arrow\">GridSearchCV</label><div class=\"sk-toggleable__content\"><pre>GridSearchCV(cv=10, estimator=LogisticRegression(random_state=10), n_jobs=-1,\n",
       "             param_grid={&#x27;C&#x27;: [1e-06, 1e-05, 0.0001, 0.001, 0.01, 0.1, 1, 10,\n",
       "                               100, 1000]},\n",
       "             return_train_score=True)</pre></div></div></div><div class=\"sk-parallel\"><div class=\"sk-parallel-item\"><div class=\"sk-item\"><div class=\"sk-label-container\"><div class=\"sk-label sk-toggleable\"><input class=\"sk-toggleable__control sk-hidden--visually\" id=\"sk-estimator-id-3\" type=\"checkbox\" ><label for=\"sk-estimator-id-3\" class=\"sk-toggleable__label sk-toggleable__label-arrow\">estimator: LogisticRegression</label><div class=\"sk-toggleable__content\"><pre>LogisticRegression(random_state=10)</pre></div></div></div><div class=\"sk-serial\"><div class=\"sk-item\"><div class=\"sk-estimator sk-toggleable\"><input class=\"sk-toggleable__control sk-hidden--visually\" id=\"sk-estimator-id-4\" type=\"checkbox\" ><label for=\"sk-estimator-id-4\" class=\"sk-toggleable__label sk-toggleable__label-arrow\">LogisticRegression</label><div class=\"sk-toggleable__content\"><pre>LogisticRegression(random_state=10)</pre></div></div></div></div></div></div></div></div></div></div>"
      ],
      "text/plain": [
       "GridSearchCV(cv=10, estimator=LogisticRegression(random_state=10), n_jobs=-1,\n",
       "             param_grid={'C': [1e-06, 1e-05, 0.0001, 0.001, 0.01, 0.1, 1, 10,\n",
       "                               100, 1000]},\n",
       "             return_train_score=True)"
      ]
     },
     "execution_count": 17,
     "metadata": {},
     "output_type": "execute_result"
    }
   ],
   "source": [
    "# grid search CV\n",
    "params = {'C': [pow(10, x) for x in range(-6, 4)]}\n",
    "\n",
    "# use all cores to tune logistic regression with C parameter\n",
    "cv = GridSearchCV(param_grid=params, estimator=LogisticRegression(random_state=rs),return_train_score=True, cv=10, n_jobs=-1)\n",
    "cv.fit(X_train, y_train)"
   ]
  },
  {
   "cell_type": "code",
   "execution_count": 18,
   "id": "53e4a301",
   "metadata": {},
   "outputs": [
    {
     "name": "stdout",
     "output_type": "stream",
     "text": [
      "{'mean_fit_time': array([0.01131074, 0.00572736, 0.00383623, 0.00427868, 0.00511584,\n",
      "       0.00489533, 0.00562646, 0.00531404, 0.00619371, 0.00670888]), 'std_fit_time': array([0.00952605, 0.00195644, 0.0009557 , 0.00197799, 0.00208475,\n",
      "       0.00150257, 0.0015947 , 0.0014105 , 0.0019528 , 0.00125547]), 'mean_score_time': array([0.00046074, 0.00039015, 0.00041196, 0.00046771, 0.00027347,\n",
      "       0.00046902, 0.00029058, 0.00028145, 0.00034049, 0.00035243]), 'std_score_time': array([1.45362783e-04, 1.67489322e-04, 2.04560930e-04, 4.81284680e-04,\n",
      "       3.57306654e-05, 4.88665767e-04, 5.59126694e-05, 7.59464224e-05,\n",
      "       2.10021909e-04, 2.01690896e-04]), 'param_C': masked_array(data=[1e-06, 1e-05, 0.0001, 0.001, 0.01, 0.1, 1, 10, 100,\n",
      "                   1000],\n",
      "             mask=[False, False, False, False, False, False, False, False,\n",
      "                   False, False],\n",
      "       fill_value='?',\n",
      "            dtype=object), 'params': [{'C': 1e-06}, {'C': 1e-05}, {'C': 0.0001}, {'C': 0.001}, {'C': 0.01}, {'C': 0.1}, {'C': 1}, {'C': 10}, {'C': 100}, {'C': 1000}], 'split0_test_score': array([0.59605911, 0.59605911, 0.59605911, 0.69458128, 0.69704433,\n",
      "       0.7044335 , 0.70689655, 0.70689655, 0.70689655, 0.70689655]), 'split1_test_score': array([0.59605911, 0.59605911, 0.59605911, 0.68965517, 0.68719212,\n",
      "       0.69211823, 0.68965517, 0.68719212, 0.68719212, 0.68719212]), 'split2_test_score': array([0.59753086, 0.59753086, 0.59753086, 0.70123457, 0.7382716 ,\n",
      "       0.7308642 , 0.7308642 , 0.7308642 , 0.7308642 , 0.7308642 ]), 'split3_test_score': array([0.59753086, 0.59753086, 0.59753086, 0.68395062, 0.69135802,\n",
      "       0.69876543, 0.6962963 , 0.69876543, 0.69876543, 0.69876543]), 'split4_test_score': array([0.59753086, 0.59753086, 0.59753086, 0.65185185, 0.66666667,\n",
      "       0.65679012, 0.65679012, 0.65679012, 0.65679012, 0.65679012]), 'split5_test_score': array([0.59753086, 0.59753086, 0.59753086, 0.6962963 , 0.6962963 ,\n",
      "       0.7037037 , 0.7037037 , 0.7037037 , 0.7037037 , 0.7037037 ]), 'split6_test_score': array([0.59753086, 0.59753086, 0.59753086, 0.67654321, 0.66419753,\n",
      "       0.6691358 , 0.6691358 , 0.6691358 , 0.6691358 , 0.6691358 ]), 'split7_test_score': array([0.59753086, 0.59753086, 0.59753086, 0.67901235, 0.68641975,\n",
      "       0.67901235, 0.67901235, 0.67901235, 0.67901235, 0.67901235]), 'split8_test_score': array([0.59506173, 0.59506173, 0.59506173, 0.63950617, 0.65679012,\n",
      "       0.6617284 , 0.6617284 , 0.6617284 , 0.6617284 , 0.6617284 ]), 'split9_test_score': array([0.59506173, 0.59506173, 0.59506173, 0.71604938, 0.70123457,\n",
      "       0.7037037 , 0.70123457, 0.70123457, 0.70123457, 0.70123457]), 'mean_test_score': array([0.59674269, 0.59674269, 0.59674269, 0.68286809, 0.6885471 ,\n",
      "       0.69002554, 0.68953172, 0.68953232, 0.68953232, 0.68953232]), 'std_test_score': array([0.00101554, 0.00101554, 0.00101554, 0.02167997, 0.0220458 ,\n",
      "       0.02189367, 0.02182928, 0.02193202, 0.02193202, 0.02193202]), 'rank_test_score': array([8, 8, 8, 7, 6, 1, 5, 2, 2, 2], dtype=int32), 'split0_train_score': array([0.59681843, 0.59681843, 0.5970927 , 0.68321448, 0.69637959,\n",
      "       0.69610532, 0.69665387, 0.69692814, 0.69692814, 0.69692814]), 'split1_train_score': array([0.59681843, 0.59681843, 0.59681843, 0.68568294, 0.69610532,\n",
      "       0.6993966 , 0.69912233, 0.69912233, 0.69912233, 0.69912233]), 'split2_train_score': array([0.59665478, 0.59665478, 0.59692898, 0.68220455, 0.68741431,\n",
      "       0.6890595 , 0.69015629, 0.69043049, 0.69043049, 0.69043049]), 'split3_train_score': array([0.59665478, 0.59665478, 0.59665478, 0.68384974, 0.69564025,\n",
      "       0.69536605, 0.69372087, 0.69344667, 0.69344667, 0.69344667]), 'split4_train_score': array([0.59665478, 0.59665478, 0.59692898, 0.68631752, 0.69865643,\n",
      "       0.69454346, 0.69509186, 0.69509186, 0.69509186, 0.69509186]), 'split5_train_score': array([0.59665478, 0.59665478, 0.59665478, 0.68467233, 0.69426926,\n",
      "       0.69454346, 0.69426926, 0.69426926, 0.69426926, 0.69426926]), 'split6_train_score': array([0.59665478, 0.59665478, 0.59720318, 0.68604332, 0.69975322,\n",
      "       0.70085001, 0.70112421, 0.70085001, 0.70085001, 0.70085001]), 'split7_train_score': array([0.59665478, 0.59665478, 0.59692898, 0.68823691, 0.69975322,\n",
      "       0.70030162, 0.70002742, 0.70030162, 0.70030162, 0.70030162]), 'split8_train_score': array([0.59692898, 0.59692898, 0.59720318, 0.69015629, 0.70194681,\n",
      "       0.69947902, 0.69893063, 0.69893063, 0.69893063, 0.69893063]), 'split9_train_score': array([0.59692898, 0.59692898, 0.59720318, 0.68439814, 0.69728544,\n",
      "       0.69810803, 0.69755964, 0.69755964, 0.69755964, 0.69755964]), 'mean_train_score': array([0.59674235, 0.59674235, 0.59696172, 0.68547762, 0.69672039,\n",
      "       0.69677531, 0.69666564, 0.69669306, 0.69669306, 0.69669306]), 'std_train_score': array([0.0001128 , 0.0001128 , 0.00020106, 0.00225543, 0.00379541,\n",
      "       0.00341945, 0.00320012, 0.00316565, 0.00316565, 0.00316565])}\n"
     ]
    }
   ],
   "source": [
    "result_set = cv.cv_results_\n",
    "print(result_set)"
   ]
  },
  {
   "cell_type": "code",
   "execution_count": 19,
   "id": "0cec35dd",
   "metadata": {},
   "outputs": [
    {
     "name": "stdout",
     "output_type": "stream",
     "text": [
      "Total number of models:  10\n"
     ]
    },
    {
     "data": {
      "image/png": "[encoded data removed]",
      "text/plain": [
       "<Figure size 640x480 with 1 Axes>"
      ]
     },
     "metadata": {},
     "output_type": "display_data"
    }
   ],
   "source": [
    "import matplotlib.pyplot as plt\n",
    "train_result = result_set['split0_train_score']\n",
    "test_result = result_set['split0_test_score']\n",
    "print(\"Total number of models: \", len(test_result))\n",
    "# plot Hyperparameter C values vs training and test accuracy score\n",
    "plt.plot(range(0, len(train_result)), train_result, 'b', range(0,len(test_result)), test_result, 'r')\n",
    "plt.xlabel('Hyperparameter C\\nBlue = training acc. Red = test acc.')\n",
    "plt.xticks(range(0, len(train_result)),[pow(10, x) for x in range(-6, 4)])\n",
    "plt.ylabel('score')\n",
    "plt.show()"
   ]
  },
  {
   "cell_type": "code",
   "execution_count": 20,
   "id": "ddc60757",
   "metadata": {},
   "outputs": [
    {
     "name": "stdout",
     "output_type": "stream",
     "text": [
      "Total number of models:  10\n"
     ]
    },
    {
     "data": {
      "image/png": "[encoded data removed]",
      "text/plain": [
       "<Figure size 640x480 with 1 Axes>"
      ]
     },
     "metadata": {},
     "output_type": "display_data"
    }
   ],
   "source": [
    "import matplotlib.pyplot as plt\n",
    "\n",
    "train_result = result_set['mean_train_score']\n",
    "test_result = result_set['mean_test_score']\n",
    "print(\"Total number of models: \", len(test_result))\n",
    "# plot Hyperparameter C values vs training and test accuracy score\n",
    "plt.plot(range(0, len(train_result)), train_result, 'b', range(0,len(test_result)), test_result, 'r')\n",
    "plt.xlabel('Hyperparameter C\\nBlue = training acc. Red = test acc.')\n",
    "plt.xticks(range(0, len(train_result)),[pow(10, x) for x in range(-6, 4)])\n",
    "plt.ylabel('score')\n",
    "plt.show()"
   ]
  },
  {
   "cell_type": "code",
   "execution_count": 21,
   "id": "f42b2ed8",
   "metadata": {},
   "outputs": [
    {
     "name": "stdout",
     "output_type": "stream",
     "text": [
      "{'C': 0.1}\n"
     ]
    }
   ],
   "source": [
    "print(cv.best_params_)"
   ]
  },
  {
   "cell_type": "code",
   "execution_count": 22,
   "id": "192092aa",
   "metadata": {},
   "outputs": [
    {
     "name": "stdout",
     "output_type": "stream",
     "text": [
      "Train accuracy: 0.6954590325765054\n",
      "Test accuracy: 0.6758779504893494\n"
     ]
    }
   ],
   "source": [
    "cv.fit(X_train, y_train)\n",
    "\n",
    "print(\"Train accuracy:\", cv.score(X_train, y_train))\n",
    "print(\"Test accuracy:\", cv.score(X_test, y_test))"
   ]
  },
  {
   "cell_type": "markdown",
   "id": "6d628385",
   "metadata": {},
   "source": [
    "### Default model\n",
    "- Train accuracy: 0.6952122408687068\n",
    "- Test accuracy: 0.6764536557282671\n",
    "    \n",
    "### Gridsearch CV\n",
    "- Train accuracy: 0.6954590325765054\n",
    "- Test accuracy: 0.6758779504893494"
   ]
  },
  {
   "cell_type": "markdown",
   "id": "3ed0c349",
   "metadata": {},
   "source": [
    "### Out of the two models, we opted for the default model, as it has higher test accuracy of 67.64% as compared to the GridSearchCV, with test accuracy of 67.58%"
   ]
  },
  {
   "cell_type": "code",
   "execution_count": 23,
   "id": "a69bd400",
   "metadata": {},
   "outputs": [
    {
     "name": "stdout",
     "output_type": "stream",
     "text": [
      "Original feature set 44\n",
      "Number of features after elimination 26\n"
     ]
    }
   ],
   "source": [
    "from sklearn.feature_selection import RFECV\n",
    "\n",
    "rfe = RFECV(estimator = LogisticRegression(random_state=rs), cv=10)\n",
    "rfe.fit(X_train, y_train) # run the RFECV\n",
    "\n",
    "# comparing how many variables before and after\n",
    "print(\"Original feature set\", X_train.shape[1])\n",
    "print(\"Number of features after elimination\", rfe.n_features_)"
   ]
  },
  {
   "cell_type": "code",
   "execution_count": 24,
   "id": "df258d96",
   "metadata": {},
   "outputs": [],
   "source": [
    "X_train_sel = rfe.transform(X_train)\n",
    "X_test_sel = rfe.transform(X_test)"
   ]
  },
  {
   "cell_type": "markdown",
   "id": "39b5a8a4",
   "metadata": {},
   "source": [
    "## e. Report the top-3 important variables (in the order) in the model."
   ]
  },
  {
   "cell_type": "code",
   "execution_count": 49,
   "id": "f6432342",
   "metadata": {},
   "outputs": [
    {
     "name": "stdout",
     "output_type": "stream",
     "text": [
      "income_med : 0.3848220352340608\n",
      "income_high : -0.33777085782615407\n",
      "weight : 0.29264421391379974\n"
     ]
    }
   ],
   "source": [
    "# grab feature importances from the model and feature name from the original X\n",
    "rfe_coef = rfe.estimator_.coef_[0]\n",
    "rfe_feature_names = X.columns[rfe.support_]\n",
    "\n",
    "# sort them out in descending order\n",
    "rfe_indices = np.argsort(np.absolute(rfe_coef))\n",
    "rfe_indices = np.flip(rfe_indices, axis=0)\n",
    "\n",
    "# limit to 3 features\n",
    "rfe_indices = rfe_indices[:3]\n",
    "\n",
    "for i in rfe_indices:\n",
    "    print(rfe_feature_names[i], ':', rfe_coef[i])"
   ]
  },
  {
   "cell_type": "markdown",
   "id": "8eecd612",
   "metadata": {},
   "source": [
    "## What is the classification accuracy on training and test datasets?"
   ]
  },
  {
   "cell_type": "code",
   "execution_count": 51,
   "id": "f06d0b97",
   "metadata": {},
   "outputs": [
    {
     "name": "stdout",
     "output_type": "stream",
     "text": [
      "Train accuracy: 0.6961994076999013\n",
      "Test accuracy: 0.6735751295336787\n",
      "              precision    recall  f1-score   support\n",
      "\n",
      "           0       0.70      0.78      0.74      1036\n",
      "           1       0.61      0.51      0.56       701\n",
      "\n",
      "    accuracy                           0.67      1737\n",
      "   macro avg       0.66      0.65      0.65      1737\n",
      "weighted avg       0.67      0.67      0.67      1737\n",
      "\n",
      "{'C': 0.01}\n"
     ]
    }
   ],
   "source": [
    "# grid search CV\n",
    "params = {'C': [pow(10, x) for x in range(-6, 4)]}\n",
    "\n",
    "rfe_cv = GridSearchCV(param_grid=params, estimator=LogisticRegression(random_state=rs), cv=10, n_jobs=-1)\n",
    "rfe_cv.fit(X_train_sel, y_train)\n",
    "\n",
    "# test the best model\n",
    "print(\"Train accuracy:\", rfe_cv.score(X_train_sel, y_train))\n",
    "print(\"Test accuracy:\", rfe_cv.score(X_test_sel, y_test))\n",
    "\n",
    "y_pred = rfe_cv.predict(X_test_sel)\n",
    "print(classification_report(y_test, y_pred))\n",
    "\n",
    "# print parameters of the best model\n",
    "print(rfe_cv.best_params_)"
   ]
  },
  {
   "cell_type": "markdown",
   "id": "a19e5f22",
   "metadata": {},
   "source": [
    "## Report any sign of overfitting in this model."
   ]
  },
  {
   "cell_type": "markdown",
   "id": "f5dfc9be",
   "metadata": {},
   "source": [
    "Though train accuracy is slightly higher than test accuracy, slight overfitting is observed but it is a small difference."
   ]
  },
  {
   "cell_type": "markdown",
   "id": "7907005a",
   "metadata": {},
   "source": [
    "## 4. Produce the ROC curve for all different regression models. Using the best regression model, can you identify which individuals could potentially be \"COVID positive\"? Provide the general characteristics of those individuals."
   ]
  },
  {
   "cell_type": "markdown",
   "id": "4f214956",
   "metadata": {},
   "source": [
    "Models built:\n",
    "- default logistic regression\n",
    "- logistic regression gridsearchCV\n",
    "- logistic regression RFECV"
   ]
  },
  {
   "cell_type": "code",
   "execution_count": 52,
   "id": "acb5b608",
   "metadata": {},
   "outputs": [
    {
     "name": "stdout",
     "output_type": "stream",
     "text": [
      "ROC index on test for defaultmodel: 0.7206459057386305\n",
      "ROC index on test for gridsearchcv: 0.7207367852874272\n",
      "ROC index on test for rfe_cv: 0.7197013092162878\n"
     ]
    }
   ],
   "source": [
    "from sklearn.metrics import roc_auc_score\n",
    "\n",
    "y_pred_proba_lr = model.predict_proba(X_test)\n",
    "y_pred_proba_lr_cv = cv.predict_proba(X_test)\n",
    "y_pred_proba_rfe_cv = rfe_cv.predict_proba(X_test_sel)\n",
    "\n",
    "\n",
    "roc_index_lr = roc_auc_score(y_test, y_pred_proba_lr[:, 1])\n",
    "roc_index_lr_cv = roc_auc_score(y_test, y_pred_proba_lr_cv[:, 1])\n",
    "roc_index_rfe_cv = roc_auc_score(y_test, y_pred_proba_rfe_cv[:, 1])\n",
    "\n",
    "print(\"ROC index on test for defaultmodel:\", roc_index_lr)\n",
    "print(\"ROC index on test for gridsearchcv:\", roc_index_lr_cv)\n",
    "print(\"ROC index on test for rfe_cv:\", roc_index_rfe_cv)"
   ]
  },
  {
   "cell_type": "code",
   "execution_count": 53,
   "id": "36e25956",
   "metadata": {},
   "outputs": [],
   "source": [
    "from sklearn.metrics import roc_curve\n",
    "\n",
    "fpr_lr, tpr_lr, thresholds_lr = roc_curve(y_test, y_pred_proba_lr[:,1])\n",
    "fpr_lr_cv, tpr_lr_cv, thresholds_lr_cv = roc_curve(y_test, y_pred_proba_lr_cv[:,1])\n",
    "fpr_rfe_cv, tpr_rfe_cv, thresholds_rfe_cv = roc_curve(y_test, y_pred_proba_rfe_cv[:,1])"
   ]
  },
  {
   "cell_type": "code",
   "execution_count": 54,
   "id": "286f34c7",
   "metadata": {},
   "outputs": [
    {
     "data": {
      "image/png": "[encoded data removed]",
      "text/plain": [
       "<Figure size 640x480 with 1 Axes>"
      ]
     },
     "metadata": {},
     "output_type": "display_data"
    }
   ],
   "source": [
    "import matplotlib.pyplot as plt\n",
    "\n",
    "plt.plot(fpr_lr, tpr_lr, label='ROC Curve for `deafultmodel` {:.3f}'.format(roc_index_lr), color='red', lw=0.9)\n",
    "plt.plot(fpr_lr_cv, tpr_lr_cv, label='ROC Curve for `gridsearchcv` {:.3f}'.format(roc_index_lr_cv), color='green', lw=0.9)\n",
    "plt.plot(fpr_rfe_cv, tpr_rfe_cv, label='ROC Curve for `rfe_cv` {:.3f}'.format(roc_index_rfe_cv), color='blue', lw=0.9)\n",
    "\n",
    "\n",
    "\n",
    "plt.plot([0, 1], [0, 1], color='navy', lw=0.5, linestyle='--')\n",
    "plt.xlim([0.0, 1.0])\n",
    "plt.ylim([0.0, 1.0])\n",
    "plt.xlabel('False Positive Rate')\n",
    "plt.ylabel('True Positive Rate')\n",
    "plt.title('Receiver operating characteristic example')\n",
    "plt.legend(loc=\"lower right\")\n",
    "plt.show()"
   ]
  },
  {
   "cell_type": "markdown",
   "id": "e1d86136",
   "metadata": {},
   "source": [
    "### GRIDSEARCH MODEL SHOWS THE HIGHEST ACCURACY"
   ]
  },
  {
   "cell_type": "code",
   "execution_count": 55,
   "id": "f79e9f5e",
   "metadata": {
    "scrolled": true
   },
   "outputs": [
    {
     "name": "stdout",
     "output_type": "stream",
     "text": [
      "[-0.48844379]\n"
     ]
    }
   ],
   "source": [
    "alpha = model.intercept_\n",
    "print(alpha)"
   ]
  },
  {
   "cell_type": "code",
   "execution_count": null,
   "id": "979c6d11",
   "metadata": {},
   "outputs": [],
   "source": []
  },
  {
   "cell_type": "code",
   "execution_count": 59,
   "id": "8a2bc264",
   "metadata": {
    "scrolled": true
   },
   "outputs": [],
   "source": [
    "#for i in range(len(coef)):\n",
    "    #print(feature_names[i], ':', coef[i])"
   ]
  },
  {
   "cell_type": "code",
   "execution_count": 58,
   "id": "aeb0d851",
   "metadata": {},
   "outputs": [
    {
     "name": "stdout",
     "output_type": "stream",
     "text": [
      "Intercept: [-0.48862993]\n",
      "height : -0.2052552413935823\n",
      "weight : 0.29418212124956333\n",
      "alcohol : 0.0630501137255155\n",
      "contacts_count : 0.006970123511954421\n",
      "worried : 0.11446861192513157\n",
      "gender_female : -0.06315130740554625\n",
      "gender_male : 0.05870565181073989\n",
      "gender_other : 0.04464506921998677\n",
      "age_0_10 : 0.0011001621543741092\n",
      "age_100_110 : 0.15281586870185482\n",
      "age_10_20 : 0.04380628027205299\n",
      "age_20_30 : 0.12125670402521184\n",
      "age_30_40 : 0.06184879166858939\n",
      "age_40_50 : 0.0137479912786519\n",
      "age_50_60 : 0.027272689546163627\n",
      "age_60_70 : -0.1806666193439238\n",
      "age_70_80 : -0.16382068151620433\n",
      "blood_type_abn : 0.005226274801522152\n",
      "blood_type_abp : 0.028683765985590238\n",
      "blood_type_an : -0.012615902159454672\n",
      "blood_type_ap : -0.0063938558922785466\n",
      "blood_type_bn : -0.027451146888305623\n",
      "blood_type_bp : 0.03510444435998309\n",
      "blood_type_on : -0.039029824515145424\n",
      "blood_type_op : 0.011707487703656148\n",
      "insurance_no : -0.037020580895553636\n",
      "insurance_yes : 0.03702058089555366\n",
      "income_gov : 0.07445327513636181\n",
      "income_high : -0.3688683991387266\n",
      "income_low : -0.019359970710203143\n",
      "income_med : 0.3426559564026774\n",
      "smoking_never : -0.03904870469101738\n",
      "smoking_quit0 : 0.01821733737235162\n",
      "smoking_quit10 : 0.08447135001629545\n",
      "smoking_quit5 : -0.09524125538410752\n",
      "smoking_vape : 0.029182686949864655\n",
      "smoking_yesheavy : 0.11241808521048675\n",
      "smoking_yeslight : -0.03426873589616933\n",
      "smoking_yesmedium : 0.023117834111747185\n",
      "working_home : -0.1289421059363979\n",
      "working_never : 0.00988889295902971\n",
      "working_stopped : -0.037294370445367576\n",
      "working_travel critical : 0.21708722949717074\n",
      "working_travel non critical : -0.13351039978469614\n",
      "\n",
      "General characteristics of potentially COVID-positive individuals:\n",
      "Positive impact features: {'weight': 0.29418212124956333, 'alcohol': 0.0630501137255155, 'contacts_count': 0.006970123511954421, 'worried': 0.11446861192513157, 'gender_male': 0.05870565181073989, 'gender_other': 0.04464506921998677, 'age_0_10': 0.0011001621543741092, 'age_100_110': 0.15281586870185482, 'age_10_20': 0.04380628027205299, 'age_20_30': 0.12125670402521184, 'age_30_40': 0.06184879166858939, 'age_40_50': 0.0137479912786519, 'age_50_60': 0.027272689546163627, 'blood_type_abn': 0.005226274801522152, 'blood_type_abp': 0.028683765985590238, 'blood_type_bp': 0.03510444435998309, 'blood_type_op': 0.011707487703656148, 'insurance_yes': 0.03702058089555366, 'income_gov': 0.07445327513636181, 'income_med': 0.3426559564026774, 'smoking_quit0': 0.01821733737235162, 'smoking_quit10': 0.08447135001629545, 'smoking_vape': 0.029182686949864655, 'smoking_yesheavy': 0.11241808521048675, 'smoking_yesmedium': 0.023117834111747185, 'working_never': 0.00988889295902971, 'working_travel critical': 0.21708722949717074}\n",
      "Negative impact features: {'height': -0.2052552413935823, 'gender_female': -0.06315130740554625, 'age_60_70': -0.1806666193439238, 'age_70_80': -0.16382068151620433, 'blood_type_an': -0.012615902159454672, 'blood_type_ap': -0.0063938558922785466, 'blood_type_bn': -0.027451146888305623, 'blood_type_on': -0.039029824515145424, 'insurance_no': -0.037020580895553636, 'income_high': -0.3688683991387266, 'income_low': -0.019359970710203143, 'smoking_never': -0.03904870469101738, 'smoking_quit5': -0.09524125538410752, 'smoking_yeslight': -0.03426873589616933, 'working_home': -0.1289421059363979, 'working_stopped': -0.037294370445367576, 'working_travel non critical': -0.13351039978469614}\n"
     ]
    }
   ],
   "source": [
    "# Assuming the best model after GridSearchCV is 'cv'\n",
    "\n",
    "# Get the coefficients from the fine-tuned logistic regression model\n",
    "coef = cv.best_estimator_.coef_[0]\n",
    "feature_names = X.columns\n",
    "\n",
    "# Print the intercept\n",
    "intercept = cv.best_estimator_.intercept_\n",
    "print(\"Intercept:\", intercept)\n",
    "\n",
    "# Print all the coefficients with their corresponding feature names\n",
    "for i in range(len(coef)):\n",
    "    print(feature_names[i], ':', coef[i])\n",
    "\n",
    "# If you want to print only positive and negative impact features separately\n",
    "positive_features = {feature_names[i]: coef[i] for i in range(len(coef)) if coef[i] > 0}\n",
    "negative_features = {feature_names[i]: coef[i] for i in range(len(coef)) if coef[i] < 0}\n",
    "\n",
    "print(\"\\nGeneral characteristics of potentially COVID-positive individuals:\")\n",
    "print(\"Positive impact features:\", positive_features)\n",
    "print(\"Negative impact features:\", negative_features)\n"
   ]
  },
  {
   "cell_type": "markdown",
   "id": "0fd44983",
   "metadata": {},
   "source": [
    "### General Characteristics of Potentially COVID-Positive Individuals:\n",
    "Positive Impact Features (Increase the likelihood of being COVID-positive):\n",
    "\n",
    "- Weight: Higher weight is associated with a higher likelihood of being COVID-positive.\n",
    "- Alcohol Consumption: Higher alcohol consumption increases the likelihood.\n",
    "- Contacts Count: Higher number of contacts increases the likelihood.\n",
    "- Worried: Individuals who are more worried about COVID-19 are more likely to test positive.\n",
    "- Gender (Other): Individuals identifying as gender other have a higher likelihood.\n",
    "- Age Groups:\n",
    "- 0-10 years: Slightly higher likelihood.\n",
    "- 100-110 years: Significantly higher likelihood.\n",
    "- 10-20 years: Slightly higher likelihood.\n",
    "- 20-30 years: Higher likelihood.\n",
    "- 30-40 years: Slightly higher likelihood.\n",
    "- 40-50 years: Slightly higher likelihood.\n",
    "- 50-60 years: Slightly higher likelihood.\n",
    "Blood Types:\n",
    "- AB-: Slightly higher likelihood.\n",
    "- AB+: Higher likelihood.\n",
    "- B+: Higher likelihood.\n",
    "- O+: Slightly higher likelihood.\n",
    "- Insurance Status: Having insurance is associated with a higher likelihood.\n",
    "Income:\n",
    "- Government income: Higher likelihood.\n",
    "- Medium income: Higher likelihood.\n",
    "\n",
    "Smoking Status:\n",
    "- Recently quit smoking (quit within 10 years): Higher likelihood.\n",
    "- Heavy smoker: Higher likelihood.\n",
    "\n",
    "Working Conditions:\n",
    "- Travel critical work: Higher likelihood.\n",
    "- Negative Impact Features (Decrease the likelihood of being COVID-positive):\n",
    "\n",
    "Height: Higher height is associated with a lower likelihood of being COVID-positive.\n",
    "Gender (Female): Being female is associated with a lower likelihood.\n",
    "Older Age Groups:\n",
    "- 60-70 years: Lower likelihood.\n",
    "- 70-80 years: Lower likelihood.\n",
    "\n",
    "Blood Types:\n",
    "- A-: Slightly lower likelihood.\n",
    "- A+: Slightly lower likelihood.\n",
    "- B-: Slightly lower likelihood.\n",
    "- O-: Lower likelihood.\n",
    "Insurance Status: Not having insurance is associated with a lower likelihood.\n",
    "Income:\n",
    "- High income: Lower likelihood.\n",
    "- Low income: Slightly lower likelihood.\n",
    "Smoking Status:\n",
    "- Never smoked: Lower likelihood.\n",
    "- Quit smoking 5 years ago: Lower likelihood.\n",
    "- Light smoker: Lower likelihood.\n",
    "Working Conditions:\n",
    "- Working from home: Lower likelihood.\n",
    "- Stopped working: Lower likelihood.\n",
    "- Travel non-critical work: Lower likelihood.\n",
    "\n",
    "### Individuals with higher weight, higher alcohol consumption, more contacts, and those who are more worried about COVID-19 are more likely to be COVID-positive. Certain age groups (younger and very old), specific blood types (like AB+), and certain working conditions (travel critical) also increase the likelihood. On the other hand, higher height, being female, older age groups (60-80 years), specific blood types (like O-), higher income, and working from home are associated with a lower likelihood of being COVID-positive."
   ]
  },
  {
   "cell_type": "code",
   "execution_count": null,
   "id": "1bc0682a",
   "metadata": {},
   "outputs": [],
   "source": []
  }
 ],
 "metadata": {
  "kernelspec": {
   "display_name": "Python 3 (ipykernel)",
   "language": "python",
   "name": "python3"
  },
  "language_info": {
   "codemirror_mode": {
    "name": "ipython",
    "version": 3
   },
   "file_extension": ".py",
   "mimetype": "text/x-python",
   "name": "python",
   "nbconvert_exporter": "python",
   "pygments_lexer": "ipython3",
   "version": "3.11.7"
  }
 },
 "nbformat": 4,
 "nbformat_minor": 5
}
